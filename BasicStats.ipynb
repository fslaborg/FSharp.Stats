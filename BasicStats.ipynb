
        {
            "cells": [
          {
           "cell_type": "markdown",
           "metadata": {},
           
           "source": []
          }
,
          {
           "cell_type": "code",
           "metadata": {},
            "execution_count": null, "outputs": [],
           "source": ["#r \"nuget: FSharp.Stats\"\n",
"\n"]
          }
,
          {
           "cell_type": "markdown",
           "metadata": {},
           
           "source": ["# Basics\n",
"\n",
"[![Binder](https://mybinder.org/badge_logo.svg)](https://mybinder.org/v2/gh/fslaborg/FSharp.Stats/gh-pages?urlpath=/tree/home/jovyan/BasicStats.ipynb)\n",
"[![Notebook](https://fslab.org/FSharp.Stats/img/badge-notebook.svg)](https://fslab.org/FSharp.Stats/BasicStats.ipynb)\n",
"\n",
"**Summary:** this tutorial gives an overview over how to do some of the basic statistical measurements with FSharp.Stats.\n",
"\n",
"### Table of contents\n",
"\n",
"* [Central tendency](#Central-tendency)\n",
"\n",
"  * [Mean](#Mean)\n",
"  \n",
"  * [Truncated mean](#Truncated-mean)\n",
"  \n",
"  * [Median](#Median)\n",
"  \n",
"  * [Harmonic mean](#Harmonic-mean)\n",
"  \n",
"  * [Geometric mean](#Geometric-mean)\n",
"  \n",
"\n",
"* [Dispersion](#Dispersion)\n",
"\n",
"  * [Range](#Range)\n",
"  \n",
"  * [Variance and Standard Deviation](#Variance-and-standard-deviation)\n",
"  \n",
"  * [Coefficient of variation](#Coefficient-of-variation)\n",
"  \n",
"\n",
"## Central tendency\n",
"\n",
"A [central tendency](https://en.wikipedia.org/wiki/Central_tendency) (or measure of central tendency) is a central or typical value for a probability distribution.\n",
"It may also be called a center or location of the distribution. Colloquially, measures of central tendency are often called averages.\n",
"\n",
"### Mean\n",
"\n",
"For a data set, the arithmetic [mean](https://en.wikipedia.org/wiki/Mean), also called the expected value or average,\n",
"is the central value of a discrete set of numbers: specifically,\n",
"the sum of the values divided by the number of values:\n",
"\n",
"$\\bar{x} = \\frac{1}{n}\\left (\\sum_{i=1}^n{x_i}\\right ) = \\frac{x_1+x_2+\\cdots +x_n}{n}$\n",
"\n",
"`mean` is available as a Sequence (and other collections) extension, as well as `meanBy`,\n",
"which takes an additional converter function:\n",
"\n"]
          }
,
          {
           "cell_type": "code",
           "metadata": {},
            "execution_count": 3, "outputs": [
          {
           "data": {
            "text/plain": ["28.6"]
        },
           "execution_count": 3,
           "metadata": {},
           "output_type": "execute_result"
          }],
           "source": ["open FSharp.Stats\n",
"\n",
"let mean1 = \n",
"    [10; 2; 19; 24; 6; 23; 47; 24; 54; 77;]\n",
"    |\u003e Seq.meanBy float\n"]
          }
,
          {
           "cell_type": "code",
           "metadata": {},
            "execution_count": 5, "outputs": [
          {
           "data": {
            "text/plain": ["28.6"]
        },
           "execution_count": 5,
           "metadata": {},
           "output_type": "execute_result"
          }],
           "source": ["let mean2 = \n",
"    [10.; 2.; 19.; 24.; 6.; 23.; 47.; 24.; 54.; 77.;]\n",
"    |\u003e Seq.mean\n"]
          }
,
          {
           "cell_type": "markdown",
           "metadata": {},
           
           "source": ["### Truncated mean\n",
"\n",
"Computes the truncated (trimmed) mean where a given percentage of the highest and lowest values are discarded.\n",
"In total 2 times the given percentage are discarded:\n",
"\n",
"`meanTruncated` is available as a Sequence (and other collections) extension, as well as `meanTruncatedBy`,\n",
"which takes an additional converter function:\n",
"\n"]
          }
,
          {
           "cell_type": "code",
           "metadata": {},
            "execution_count": 7, "outputs": [
          {
           "data": {
            "text/plain": ["24.5"]
        },
           "execution_count": 7,
           "metadata": {},
           "output_type": "execute_result"
          }],
           "source": ["let truncMean1 = \n",
"    [10.; 2.; 19.; 24.; 6.; 23.; 47.; 24.; 54.; 77.;]\n",
"    |\u003e Seq.meanTruncated 0.2\n"]
          }
,
          {
           "cell_type": "code",
           "metadata": {},
            "execution_count": 9, "outputs": [
          {
           "data": {
            "text/plain": ["34.75"]
        },
           "execution_count": 9,
           "metadata": {},
           "output_type": "execute_result"
          }],
           "source": ["let truncMean2 = \n",
"    [10; 2; 19; 24; 6; 23; 47; 24; 54; 77;]\n",
"    |\u003e Seq.meanTruncatedBy float 0.2\n"]
          }
,
          {
           "cell_type": "markdown",
           "metadata": {},
           
           "source": ["### Median\n",
"\n",
"The [median](https://en.wikipedia.org/wiki/Median) is a value separating the higher half from the lower half of a data sample, a population, or a probability distribution.\n",
"For a data set, it may be thought of as \"the middle\" value: if you sort the values of a collection by size, the median is the value in central position.\n",
"Therefore, there are as many bigger values as smaller values than the median in the collection.\n",
"If there is an even number of observations, then there is no single middle value; the median is then usually defined to be the mean of the two middle values.\n",
"\n",
"`median` is available as a equence (and other collections) extension:\n",
"\n"]
          }
,
          {
           "cell_type": "code",
           "metadata": {},
            "execution_count": 11, "outputs": [
          {
           "data": {
            "text/plain": ["23"]
        },
           "execution_count": 11,
           "metadata": {},
           "output_type": "execute_result"
          }],
           "source": ["let median1 = \n",
"    [10; 2; 19; 24; 6; 23; 47; 24; 54; 77;]\n",
"    |\u003e Seq.median\n"]
          }
,
          {
           "cell_type": "markdown",
           "metadata": {},
           
           "source": ["### Harmonic mean\n",
"\n",
"The [harmonic mean](https://en.wikipedia.org/wiki/Harmonic_mean) can be expressed as the reciprocal of the arithmetic mean of the reciprocals of the given set of observations.\n",
"It is typically appropriate for situations when the average of rates is desired.\n",
"\n",
"$H = \\frac{n}{\\frac1{x_1} + \\frac1{x_2} + \\cdots + \\frac1{x_n}} = \\frac{n}{\\sum\\limits_{i=1}^n \\frac1{x_i}} = \\left(\\frac{\\sum\\limits_{i=1}^n x_i^{-1}}{n}\\right)^{-1}.$\n",
"\n",
"`meanHarmonic` is available as a sequence (and other collections) extension, as well as `meanHarmonicBy`,\n",
"which takes an additional converter function:\n",
"\n"]
          }
,
          {
           "cell_type": "code",
           "metadata": {},
            "execution_count": 13, "outputs": [
          {
           "data": {
            "text/plain": ["10.01109262"]
        },
           "execution_count": 13,
           "metadata": {},
           "output_type": "execute_result"
          }],
           "source": ["let harmonicMean1 = \n",
"    [10.; 2.; 19.; 24.; 6.; 23.; 47.; 24.; 54.; 77.;]\n",
"    |\u003e Seq.meanHarmonic\n"]
          }
,
          {
           "cell_type": "code",
           "metadata": {},
            "execution_count": 15, "outputs": [
          {
           "data": {
            "text/plain": ["10.01109262"]
        },
           "execution_count": 15,
           "metadata": {},
           "output_type": "execute_result"
          }],
           "source": ["let harmonicMean2 = \n",
"    [10; 2; 19; 24; 6; 23; 47; 24; 54; 77;]\n",
"    |\u003e Seq.meanHarmonicBy float\n"]
          }
,
          {
           "cell_type": "markdown",
           "metadata": {},
           
           "source": ["### Geometric mean\n",
"\n",
"The [geometric mean](https://en.wikipedia.org/wiki/Geometric_mean) indicates the central tendency or typical value of\n",
"a set of numbers by using the product of their values (as opposed to the arithmetic mean which uses their sum).\n",
"The geometric mean is defined as the nth root of the product of n numbers:\n",
"\n",
"$\\left(\\prod_{i=1}^n x_i\\right)^\\frac{1}{n} = \\sqrt[n]{x_1 x_2 \\cdots x_n}$\n",
"\n",
"`meanGeometric` is available as a sequence (and other collections) extension, as well as `meanGeometricBy`,\n",
"which takes an additional converter function:\n",
"\n"]
          }
,
          {
           "cell_type": "code",
           "metadata": {},
            "execution_count": 17, "outputs": [
          {
           "data": {
            "text/plain": ["18.9280882"]
        },
           "execution_count": 17,
           "metadata": {},
           "output_type": "execute_result"
          }],
           "source": ["let geometricMean1 = \n",
"    [10.; 2.; 19.; 24.; 6.; 23.; 47.; 24.; 54.; 77.;]\n",
"    |\u003e Seq.meanGeometric\n"]
          }
,
          {
           "cell_type": "code",
           "metadata": {},
            "execution_count": 19, "outputs": [
          {
           "data": {
            "text/plain": ["18.9280882"]
        },
           "execution_count": 19,
           "metadata": {},
           "output_type": "execute_result"
          }],
           "source": ["let geometricMean2 = \n",
"    [10; 2; 19; 24; 6; 23; 47; 24; 54; 77;]\n",
"    |\u003e Seq.meanGeometricBy float \n",
" \n"]
          }
,
          {
           "cell_type": "markdown",
           "metadata": {},
           
           "source": ["## Dispersion\n",
"\n",
"[Dispersion](https://en.wikipedia.org/wiki/Statistical_dispersion) (also called variability, scatter, or spread) is the extent to which a distribution\n",
"is stretched or squeezed.\n",
"\n",
"### Range\n",
"\n",
"The [range](https://en.wikipedia.org/wiki/Range_(statistics)) of a set of data is the difference between the largest and smallest values.\n",
"\n",
"`range` is available as a sequence (and other collections) extension, as well as `rangeBy`,\n",
"which takes an additional converter function:\n",
"\n",
"**Note:** instead of returning the absolute difference between max and min value, these functions return an interval with these values as boundaries.\n",
"**\n",
"\n"]
          }
,
          {
           "cell_type": "code",
           "metadata": {},
            "execution_count": 21, "outputs": [
          {
           "data": {
            "text/plain": ["ClosedInterval (2.0, 77.0)"]
        },
           "execution_count": 21,
           "metadata": {},
           "output_type": "execute_result"
          }],
           "source": ["let range1 = \n",
"    [10.; 2.; 19.; 24.; 6.; 23.; 47.; 24.; 54.; 77.;]\n",
"    |\u003e Seq.rangeBy float\n"]
          }
,
          {
           "cell_type": "code",
           "metadata": {},
            "execution_count": 23, "outputs": [
          {
           "data": {
            "text/plain": ["ClosedInterval (2.0, 77.0)"]
        },
           "execution_count": 23,
           "metadata": {},
           "output_type": "execute_result"
          }],
           "source": ["let range2 = \n",
"    [10; 2; 19; 24; 6; 23; 47; 24; 54; 77;]\n",
"    |\u003e Seq.rangeBy float\n"]
          }
,
          {
           "cell_type": "markdown",
           "metadata": {},
           
           "source": ["### Variance and Standard Deviation\n",
"\n",
"The [variance](https://en.wikipedia.org/wiki/Variance)\n",
"\n",
"$s_N^2 = \\frac{1}{N} \\sum_{i=1}^N \\left(x_i - \\bar{x}\\right)^2$\n",
"\n",
"and the [standard deviation](https://en.wikipedia.org/wiki/Standard_deviation)\n",
"\n",
"$s_N = \\sqrt{\\frac{1}{N} \\sum_{i=1}^N \\left(x_i - \\bar{x}\\right)^2}$\n",
"\n",
"are measures of dispersion the values of a collection have. While the standard deviation has the same unit as the values of the collection the variance has the squared unit.\n",
"\n",
"`varPopulation` and `stDevPopulation` are available as sequence (and other collections) extensions, as well as `varPopulationBy` and `stDevPopulationBy`,\n",
"which take an additional converter function:\n",
"\n"]
          }
,
          {
           "cell_type": "code",
           "metadata": {},
            "execution_count": 25, "outputs": [
          {
           "data": {
            "text/plain": ["5.138888889"]
        },
           "execution_count": 25,
           "metadata": {},
           "output_type": "execute_result"
          }],
           "source": ["let data = [|1.;3.;5.;4.;2.;8.|]\n",
"\n",
"let varPopulation = Seq.varPopulation data\n"]
          }
,
          {
           "cell_type": "code",
           "metadata": {},
            "execution_count": 27, "outputs": [
          {
           "data": {
            "text/plain": ["2.266911751"]
        },
           "execution_count": 27,
           "metadata": {},
           "output_type": "execute_result"
          }],
           "source": ["let stdPopulation = Seq.stDevPopulation data\n"]
          }
,
          {
           "cell_type": "markdown",
           "metadata": {},
           
           "source": ["If the full population is **not** given, the calculation lacks in one degree of freedom, so the Bessel corrected version of the calculation has to be used (results in higher values):\n",
"\n",
"$s^2 = \\frac{1}{N - 1} \\sum_{i=1}^N \\left(x_i - \\bar{x}\\right)^2$ for the unbiased variance estimation, and\n",
"\n",
"$s = \\sqrt{\\frac{1}{N-1} \\sum_{i=1}^N \\left(x_i - \\bar{x}\\right)^2}$ for the corrected standard deviation.\n",
"\n",
"`var` and `stDev` are available as sequence (and other collections) extensions, as well as `varBy` and `stDevBy`,\n",
"which take an additional converter function:\n",
"\n"]
          }
,
          {
           "cell_type": "code",
           "metadata": {},
            "execution_count": 29, "outputs": [
          {
           "data": {
            "text/plain": ["6.166666667"]
        },
           "execution_count": 29,
           "metadata": {},
           "output_type": "execute_result"
          }],
           "source": ["let varSample = Seq.var data\n"]
          }
,
          {
           "cell_type": "code",
           "metadata": {},
            "execution_count": 31, "outputs": [
          {
           "data": {
            "text/plain": ["2.483277404"]
        },
           "execution_count": 31,
           "metadata": {},
           "output_type": "execute_result"
          }],
           "source": ["let stdSample = Seq.stDev data\n"]
          }
,
          {
           "cell_type": "markdown",
           "metadata": {},
           
           "source": ["### Coefficient of variation\n",
"\n",
"The coefficient of variation is the mean-normalized standard deviation:\n",
"\n",
"$\\widehat{c_{\\rm v}} = \\frac{s}{\\bar{x}}$\n",
"\n",
"It describes the ratio of the standard deviation to the mean. It assists in comparing measurement variability\n",
"with varying amplitudes. Use only if data is measured with a ratio scale (meaningful zero values and meaningful intervals).\n",
"\n",
"`cv` is available as a sequence (and other collections) extension, as well as `cvBy`,\n",
"which takes an additional converter function:\n",
"\n"]
          }
,
          {
           "cell_type": "code",
           "metadata": {},
            "execution_count": 33, "outputs": [
          {
           "data": {
            "text/plain": ["0.5476650327"]
        },
           "execution_count": 33,
           "metadata": {},
           "output_type": "execute_result"
          }],
           "source": ["let sample1 =   [1.;4.;2.;6.;5.;3.;2.;]\n",
"let sample2 =   [13.;41.;29.;8.;52.;34.;25.;]\n",
"\n",
"let cvSample1 = Seq.cv sample1\n"]
          }
,
          {
           "cell_type": "code",
           "metadata": {},
            "execution_count": 35, "outputs": [
          {
           "data": {
            "text/plain": ["0.5313890073"]
        },
           "execution_count": 35,
           "metadata": {},
           "output_type": "execute_result"
          }],
           "source": ["let cvSample2 = Seq.cv sample2\n"]
          }],
            "metadata": {
            "kernelspec": {"display_name": ".NET (F#)", "language": "F#", "name": ".net-fsharp"},
            "langauge_info": {
        "file_extension": ".fs",
        "mimetype": "text/x-fsharp",
        "name": "C#",
        "pygments_lexer": "fsharp",
        "version": "4.5"
        }
        },
            "nbformat": 4,
            "nbformat_minor": 1
        }
        

