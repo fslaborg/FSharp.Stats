
        {
            "cells": [
          {
           "cell_type": "markdown",
           "metadata": {},
           
           "source": []
          }
,
          {
           "cell_type": "code",
           "metadata": {},
            "execution_count": null, "outputs": [],
           "source": ["#r \"nuget: Plotly.NET, 2.0.0-preview.16\"\n",
"#r \"nuget: Plotly.NET.Interactive, 2.0.0-preview.16\"\n",
"#r \"nuget: FSharp.Stats\"\n",
"\n",
"open Plotly.NET\n",
"open Plotly.NET.StyleParam\n",
"open Plotly.NET.LayoutObjects\n",
"\n",
"//some axis styling\n",
"module Chart = \n",
"    let myAxis name = LinearAxis.init(Title=Title.init name,Mirror=StyleParam.Mirror.All,Ticks=StyleParam.TickOptions.Inside,ShowGrid=false,ShowLine=true)\n",
"    let myAxisRange name (min,max) = LinearAxis.init(Title=Title.init name,Range=Range.MinMax(min,max),Mirror=StyleParam.Mirror.All,Ticks=StyleParam.TickOptions.Inside,ShowGrid=false,ShowLine=true)\n",
"    let withAxisTitles x y chart = \n",
"        chart \n",
"        |\u003e Chart.withTemplate ChartTemplates.lightMirrored\n",
"        |\u003e Chart.withXAxis (myAxis x) \n",
"        |\u003e Chart.withYAxis (myAxis y)\n"]
          }
,
          {
           "cell_type": "markdown",
           "metadata": {},
           
           "source": ["# Intervals\n",
"\n",
"[![Binder](https://mybinder.org/badge_logo.svg)](https://mybinder.org/v2/gh/fslaborg/FSharp.Stats/gh-pages?filepath=Intervals.ipynb)\n",
"\n",
"The interval module enables working with closed intervals. A closed interval includes its maximum and minimum.\n",
"\n",
"* $[1,2], \\left\\{ x | 1 \\le x \\le 2 \\right\\}$ - closed interval; 1 and 2 are **included**\n",
"\n",
"* $(1,2), \\left\\{ x | 1 \u003c x \u003c 2 \\right\\}$ - open interval; 1 and 2 are **excluded**\n",
"\n",
"* $[1,2), \\left\\{ x | 1 \\le x \u003c 2 \\right\\}$ - half open interval; 1 is **included** but 2 is **excluded**\n",
"\n",
"**Interval creation**\n",
"\n"]
          }
,
          {
           "cell_type": "code",
           "metadata": {},
            "execution_count": 3, "outputs": [
          {
           "data": {
            "text/plain": ["ClosedInterval (-6.0, 100.0)"]
        },
           "execution_count": 3,
           "metadata": {},
           "output_type": "execute_result"
          }],
           "source": ["open FSharp.Stats\n",
"\n",
"let collection = [3.0; -2.0; 5.0; 1.0; -6.0; 100.0]\n",
"let interval = Intervals.ofSeq collection\n"]
          }
,
          {
           "cell_type": "markdown",
           "metadata": {},
           
           "source": ["**Visualization of the interval**\n",
"\n"]
          }
,
          {
           "cell_type": "code",
           "metadata": {},
            "execution_count": 5, "outputs": [],
           "source": ["open Plotly.NET\n",
"\n",
"let interval01 = \n",
"    Chart.Point([])\n",
"    |\u003e Chart.withShape (Shape.init(ShapeType.Rectangle,Intervals.getStart interval,Intervals.getEnd interval,1,2,Fillcolor=Color.fromHex \"#1f77b4\"))\n",
"    |\u003e Chart.withAxisTitles \"\" \"\"\n",
"    |\u003e Chart.withXAxisStyle (\"\",MinMax=(-10.,120.))\n",
"    |\u003e Chart.withYAxisStyle (\"\",MinMax=(0.,5.))\n"]
          }
,
          {
           "cell_type": "code",
           "metadata": {},
            "execution_count": null, "outputs": [
          {
           "data": {
            "text/html": ["\u003cdiv id=\"1ae6b1c6-24a1-4f42-a92a-2850e734d008\"\u003e\u003c!-- Plotly chart will be drawn inside this DIV --\u003e\u003c/div\u003e",
"",
"\u003cscript type=\"text/javascript\"\u003e",
"",
"",
"",
"            var renderPlotly_1ae6b1c624a14f42a92a2850e734d008 = function() {",
"",
"            var fsharpPlotlyRequire = requirejs.config({context:\u0027fsharp-plotly\u0027,paths:{plotly:\u0027https://cdn.plot.ly/plotly-2.6.3.min\u0027}}) || require;",
"",
"            fsharpPlotlyRequire([\u0027plotly\u0027], function(Plotly) {",
"",
"",
"",
"            var data = [{\"type\":\"scatter\",\"mode\":\"markers\",\"x\":[],\"y\":[],\"marker\":{},\"line\":{}}];",
"",
"            var layout = {\"width\":600,\"height\":600,\"template\":{\"layout\":{\"paper_bgcolor\":\"white\",\"plot_bgcolor\":\"white\",\"xaxis\":{\"ticks\":\"inside\",\"mirror\":\"all\",\"showline\":true,\"zeroline\":true},\"yaxis\":{\"ticks\":\"inside\",\"mirror\":\"all\",\"showline\":true,\"zeroline\":true}},\"data\":{}},\"shapes\":[{\"type\":\"rect\",\"x0\":-6.0,\"x1\":100.0,\"y0\":1,\"y1\":2,\"fillcolor\":\"rgba(31, 119, 180, 1.0)\"}],\"xaxis\":{\"title\":{\"text\":\"\"},\"ticks\":\"inside\",\"mirror\":\"all\",\"showline\":true,\"showgrid\":false,\"range\":[-10.0,120.0]},\"yaxis\":{\"title\":{\"text\":\"\"},\"ticks\":\"inside\",\"mirror\":\"all\",\"showline\":true,\"showgrid\":false,\"range\":[0.0,5.0]}};",
"",
"            var config = {\"responsive\":true};",
"",
"            Plotly.newPlot(\u00271ae6b1c6-24a1-4f42-a92a-2850e734d008\u0027, data, layout, config);",
"",
"});",
"",
"            };",
"",
"            if ((typeof(requirejs) !==  typeof(Function)) || (typeof(requirejs.config) !== typeof(Function))) {",
"",
"                var script = document.createElement(\"script\");",
"",
"                script.setAttribute(\"src\", \"https://cdnjs.cloudflare.com/ajax/libs/require.js/2.3.6/require.min.js\");",
"",
"                script.onload = function(){",
"",
"                    renderPlotly_1ae6b1c624a14f42a92a2850e734d008();",
"",
"                };",
"",
"                document.getElementsByTagName(\"head\")[0].appendChild(script);",
"",
"            }",
"",
"            else {",
"",
"                renderPlotly_1ae6b1c624a14f42a92a2850e734d008();",
"",
"            }",
"",
"\u003c/script\u003e",
"",
""]
        },
           "execution_count": null,
           "metadata": {},
           "output_type": "execute_result"
          }],
           "source": ["interval01\n"]
          }
,
          {
           "cell_type": "code",
           "metadata": {},
            "execution_count": 7, "outputs": [
          {
           "data": {
            "text/plain": ["ClosedInterval ((\"a\", 3.0), (\"f\", 100.0))"]
        },
           "execution_count": 7,
           "metadata": {},
           "output_type": "execute_result"
          },

          {
           "data": {
            "text/plain": ["ClosedInterval ((\"e\", -6.0), (\"f\", 100.0))"]
        },
           "execution_count": 7,
           "metadata": {},
           "output_type": "execute_result"
          }],
           "source": ["let collectionBy = [(\"a\",3.0); (\"b\",-2.0); (\"c\",5.0); (\"d\",1.0); (\"e\",-6.0); (\"f\",100.0)]\n",
"let intervalByFst = Intervals.ofSeqBy fst collectionBy\n",
"let intervalBySnd = Intervals.ofSeqBy snd collectionBy\n"]
          }
,
          {
           "cell_type": "markdown",
           "metadata": {},
           
           "source": ["**Interval addition**\n",
"\n",
"Intervals can be added (interval arithmetic definition) by adding the minima and maxima to obtain a new interval\n",
"\n",
"```\n",
"i=[a,b]\n",
"j=[c,d]\n",
"\n",
"i + j = [a+b,c+d]\n",
"```\n",
"\n"]
          }
,
          {
           "cell_type": "code",
           "metadata": {},
            "execution_count": 10, "outputs": [
          {
           "data": {
            "text/html": ["\u003cdiv id=\"0ede1649-d861-4dc0-8770-6a98642a92df\"\u003e\u003c!-- Plotly chart will be drawn inside this DIV --\u003e\u003c/div\u003e",
"",
"\u003cscript type=\"text/javascript\"\u003e",
"",
"",
"",
"            var renderPlotly_0ede1649d8614dc087706a98642a92df = function() {",
"",
"            var fsharpPlotlyRequire = requirejs.config({context:\u0027fsharp-plotly\u0027,paths:{plotly:\u0027https://cdn.plot.ly/plotly-2.6.3.min\u0027}}) || require;",
"",
"            fsharpPlotlyRequire([\u0027plotly\u0027], function(Plotly) {",
"",
"",
"",
"            var data = [{\"type\":\"scatter\",\"mode\":\"markers\",\"x\":[],\"y\":[],\"marker\":{},\"line\":{}}];",
"",
"            var layout = {\"width\":600,\"height\":600,\"template\":{\"layout\":{\"paper_bgcolor\":\"white\",\"plot_bgcolor\":\"white\",\"xaxis\":{\"ticks\":\"inside\",\"mirror\":\"all\",\"showline\":true,\"zeroline\":true},\"yaxis\":{\"ticks\":\"inside\",\"mirror\":\"all\",\"showline\":true,\"zeroline\":true}},\"data\":{}},\"shapes\":[{\"type\":\"rect\",\"x0\":6.0,\"x1\":8.0,\"y0\":1,\"y1\":2,\"fillcolor\":\"rgba(31, 119, 180, 1.0)\"},{\"type\":\"rect\",\"x0\":5.0,\"x1\":10.0,\"y0\":3,\"y1\":4,\"fillcolor\":\"rgba(255, 127, 14, 1.0)\"},{\"type\":\"rect\",\"x0\":11.0,\"x1\":18.0,\"y0\":5,\"y1\":6,\"fillcolor\":\"rgba(44, 160, 44, 1.0)\"}],\"xaxis\":{\"title\":{\"text\":\"\"},\"ticks\":\"inside\",\"mirror\":\"all\",\"showline\":true,\"showgrid\":false,\"range\":[0.0,20.0]},\"yaxis\":{\"title\":{\"text\":\"\"},\"ticks\":\"inside\",\"mirror\":\"all\",\"showline\":true,\"showgrid\":false,\"range\":[0.0,8.0]}};",
"",
"            var config = {\"responsive\":true};",
"",
"            Plotly.newPlot(\u00270ede1649-d861-4dc0-8770-6a98642a92df\u0027, data, layout, config);",
"",
"});",
"",
"            };",
"",
"            if ((typeof(requirejs) !==  typeof(Function)) || (typeof(requirejs.config) !== typeof(Function))) {",
"",
"                var script = document.createElement(\"script\");",
"",
"                script.setAttribute(\"src\", \"https://cdnjs.cloudflare.com/ajax/libs/require.js/2.3.6/require.min.js\");",
"",
"                script.onload = function(){",
"",
"                    renderPlotly_0ede1649d8614dc087706a98642a92df();",
"",
"                };",
"",
"                document.getElementsByTagName(\"head\")[0].appendChild(script);",
"",
"            }",
"",
"            else {",
"",
"                renderPlotly_0ede1649d8614dc087706a98642a92df();",
"",
"            }",
"",
"\u003c/script\u003e",
"",
""]
        },
           "execution_count": 10,
           "metadata": {},
           "output_type": "execute_result"
          }],
           "source": ["let i02 = Intervals.create 6.  8.\n",
"let i03 = Intervals.create 5. 10.\n",
"let addedInterval = Intervals.add i02 i03\n"]
          }
,
          {
           "cell_type": "markdown",
           "metadata": {},
           
           "source": ["**Interval subtraction**\n",
"\n",
"Intervals can be subtracted (interval arithmetic definition) by:\n",
"\n",
"```\n",
"i=[a,b]\n",
"j=[c,d]\n",
"\n",
"i - j = [a-d,b-c]\n",
"```\n",
"\n"]
          }
,
          {
           "cell_type": "code",
           "metadata": {},
            "execution_count": 12, "outputs": [
          {
           "data": {
            "text/html": ["\u003cdiv id=\"14b59c5a-5037-468b-89c5-b476afdd6c30\"\u003e\u003c!-- Plotly chart will be drawn inside this DIV --\u003e\u003c/div\u003e",
"",
"\u003cscript type=\"text/javascript\"\u003e",
"",
"",
"",
"            var renderPlotly_14b59c5a5037468b89c5b476afdd6c30 = function() {",
"",
"            var fsharpPlotlyRequire = requirejs.config({context:\u0027fsharp-plotly\u0027,paths:{plotly:\u0027https://cdn.plot.ly/plotly-2.6.3.min\u0027}}) || require;",
"",
"            fsharpPlotlyRequire([\u0027plotly\u0027], function(Plotly) {",
"",
"",
"",
"            var data = [{\"type\":\"scatter\",\"mode\":\"markers\",\"x\":[],\"y\":[],\"marker\":{},\"line\":{}}];",
"",
"            var layout = {\"width\":600,\"height\":600,\"template\":{\"layout\":{\"paper_bgcolor\":\"white\",\"plot_bgcolor\":\"white\",\"xaxis\":{\"ticks\":\"inside\",\"mirror\":\"all\",\"showline\":true,\"zeroline\":true},\"yaxis\":{\"ticks\":\"inside\",\"mirror\":\"all\",\"showline\":true,\"zeroline\":true}},\"data\":{}},\"shapes\":[{\"type\":\"rect\",\"x0\":6.0,\"x1\":8.0,\"y0\":1,\"y1\":2,\"fillcolor\":\"rgba(31, 119, 180, 1.0)\"},{\"type\":\"rect\",\"x0\":5.0,\"x1\":10.0,\"y0\":3,\"y1\":4,\"fillcolor\":\"rgba(255, 127, 14, 1.0)\"},{\"type\":\"rect\",\"x0\":-4.0,\"x1\":3.0,\"y0\":5,\"y1\":6,\"fillcolor\":\"rgba(44, 160, 44, 1.0)\"}],\"xaxis\":{\"title\":{\"text\":\"\"},\"ticks\":\"inside\",\"mirror\":\"all\",\"showline\":true,\"showgrid\":false,\"range\":[-5.0,20.0]},\"yaxis\":{\"title\":{\"text\":\"\"},\"ticks\":\"inside\",\"mirror\":\"all\",\"showline\":true,\"showgrid\":false,\"range\":[0.0,8.0]}};",
"",
"            var config = {\"responsive\":true};",
"",
"            Plotly.newPlot(\u002714b59c5a-5037-468b-89c5-b476afdd6c30\u0027, data, layout, config);",
"",
"});",
"",
"            };",
"",
"            if ((typeof(requirejs) !==  typeof(Function)) || (typeof(requirejs.config) !== typeof(Function))) {",
"",
"                var script = document.createElement(\"script\");",
"",
"                script.setAttribute(\"src\", \"https://cdnjs.cloudflare.com/ajax/libs/require.js/2.3.6/require.min.js\");",
"",
"                script.onload = function(){",
"",
"                    renderPlotly_14b59c5a5037468b89c5b476afdd6c30();",
"",
"                };",
"",
"                document.getElementsByTagName(\"head\")[0].appendChild(script);",
"",
"            }",
"",
"            else {",
"",
"                renderPlotly_14b59c5a5037468b89c5b476afdd6c30();",
"",
"            }",
"",
"\u003c/script\u003e",
"",
""]
        },
           "execution_count": 12,
           "metadata": {},
           "output_type": "execute_result"
          }],
           "source": ["let subInterval = Intervals.subtract i02 i03\n"]
          }
,
          {
           "cell_type": "markdown",
           "metadata": {},
           
           "source": ["**Interval intersection**\n",
"\n",
"Closed intervals include their margins. If a margin is shared between two intervals, both intervals intersect.\n",
"\n"]
          }
,
          {
           "cell_type": "code",
           "metadata": {},
            "execution_count": 14, "outputs": [
          {
           "data": {
            "text/html": ["\u003cdiv id=\"8bdceac4-84e0-47c7-aba1-92305863a58a\"\u003e\u003c!-- Plotly chart will be drawn inside this DIV --\u003e\u003c/div\u003e",
"",
"\u003cscript type=\"text/javascript\"\u003e",
"",
"",
"",
"            var renderPlotly_8bdceac484e047c7aba192305863a58a = function() {",
"",
"            var fsharpPlotlyRequire = requirejs.config({context:\u0027fsharp-plotly\u0027,paths:{plotly:\u0027https://cdn.plot.ly/plotly-2.6.3.min\u0027}}) || require;",
"",
"            fsharpPlotlyRequire([\u0027plotly\u0027], function(Plotly) {",
"",
"",
"",
"            var data = [{\"type\":\"scatter\",\"mode\":\"markers\",\"x\":[],\"y\":[],\"marker\":{},\"line\":{}}];",
"",
"            var layout = {\"width\":600,\"height\":600,\"template\":{\"layout\":{\"paper_bgcolor\":\"white\",\"plot_bgcolor\":\"white\",\"xaxis\":{\"ticks\":\"inside\",\"mirror\":\"all\",\"showline\":true,\"zeroline\":true},\"yaxis\":{\"ticks\":\"inside\",\"mirror\":\"all\",\"showline\":true,\"zeroline\":true}},\"data\":{}},\"shapes\":[{\"type\":\"rect\",\"x0\":2.0,\"x1\":8.0,\"y0\":1,\"y1\":2,\"fillcolor\":\"rgba(31, 119, 180, 1.0)\"},{\"type\":\"rect\",\"x0\":5.0,\"x1\":10.0,\"y0\":3,\"y1\":4,\"fillcolor\":\"rgba(255, 127, 14, 1.0)\"},{\"type\":\"rect\",\"x0\":5.0,\"x1\":8.0,\"y0\":5,\"y1\":6,\"fillcolor\":\"rgba(44, 160, 44, 1.0)\"}],\"xaxis\":{\"title\":{\"text\":\"\"},\"ticks\":\"inside\",\"mirror\":\"all\",\"showline\":true,\"showgrid\":false,\"range\":[0.0,12.0]},\"yaxis\":{\"title\":{\"text\":\"\"},\"ticks\":\"inside\",\"mirror\":\"all\",\"showline\":true,\"showgrid\":false,\"range\":[0.0,8.0]}};",
"",
"            var config = {\"responsive\":true};",
"",
"            Plotly.newPlot(\u00278bdceac4-84e0-47c7-aba1-92305863a58a\u0027, data, layout, config);",
"",
"});",
"",
"            };",
"",
"            if ((typeof(requirejs) !==  typeof(Function)) || (typeof(requirejs.config) !== typeof(Function))) {",
"",
"                var script = document.createElement(\"script\");",
"",
"                script.setAttribute(\"src\", \"https://cdnjs.cloudflare.com/ajax/libs/require.js/2.3.6/require.min.js\");",
"",
"                script.onload = function(){",
"",
"                    renderPlotly_8bdceac484e047c7aba192305863a58a();",
"",
"                };",
"",
"                document.getElementsByTagName(\"head\")[0].appendChild(script);",
"",
"            }",
"",
"            else {",
"",
"                renderPlotly_8bdceac484e047c7aba192305863a58a();",
"",
"            }",
"",
"\u003c/script\u003e",
"",
""]
        },
           "execution_count": 14,
           "metadata": {},
           "output_type": "execute_result"
          }],
           "source": ["let i04 = Intervals.create 2.  8.\n",
"let i05 = Intervals.create 5. 10.\n",
"let intInterval = Intervals.intersect i04 i05\n"]
          }],
            "metadata": {
            "kernelspec": {"display_name": ".NET (F#)", "language": "F#", "name": ".net-fsharp"},
            "langauge_info": {
        "file_extension": ".fs",
        "mimetype": "text/x-fsharp",
        "name": "C#",
        "pygments_lexer": "fsharp",
        "version": "4.5"
        }
        },
            "nbformat": 4,
            "nbformat_minor": 1
        }
        

