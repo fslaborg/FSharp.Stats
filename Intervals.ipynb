
        {
            "cells": [
          {
           "cell_type": "markdown",
           "metadata": {},
           
           "source": []
          }
,
          {
           "cell_type": "code",
           "metadata": {},
            "execution_count": null, "outputs": [],
           "source": ["#r \"nuget: Plotly.NET, 4.0.0\"\n",
"#r \"nuget: Plotly.NET.Interactive, 4.0.0\"\n",
"#r \"nuget: FSharp.Stats\"\n",
"\n",
"open Plotly.NET\n"]
          }
,
          {
           "cell_type": "markdown",
           "metadata": {},
           
           "source": ["# Intervals\n",
"\n",
"[![Binder](https://mybinder.org/badge_logo.svg)](https://mybinder.org/v2/gh/fslaborg/FSharp.Stats/gh-pages?urlpath=/tree/home/jovyan/Intervals.ipynb)\n",
"[![Notebook](https://fslab.org/FSharp.Stats/img/badge-notebook.svg)](https://fslab.org/FSharp.Stats/Intervals.ipynb)\n",
"\n",
"The interval module enables working with closed intervals. A closed interval includes its maximum and minimum.\n",
"\n",
"* $[1,2], \\left\\{ x | 1 \\le x \\le 2 \\right\\}$ - closed interval; 1 and 2 are **included**\n",
"\n",
"* $(1,2), \\left\\{ x | 1 \u003c x \u003c 2 \\right\\}$ - open interval; 1 and 2 are **excluded**\n",
"\n",
"* $[1,2), \\left\\{ x | 1 \\le x \u003c 2 \\right\\}$ - right open interval; 1 is **included** but 2 is **excluded**\n",
"\n",
"* $(1,2], \\left\\{ x | 1 \u003c x \\le 2 \\right\\}$ - left open interval; 1 is **excluded** but 2 is **included**\n",
"\n",
"**Interval creation**\n",
"\n"]
          }
,
          {
           "cell_type": "code",
           "metadata": {},
            "execution_count": 3, "outputs": [
          {
           "data": {
            "text/plain": ["\"myInterval is: (-3.0,2.0]\""]
        },
           "execution_count": 3,
           "metadata": {},
           "output_type": "execute_result"
          }],
           "source": ["open FSharp.Stats\n",
"open Plotly.NET\n",
"\n",
"let myInterval = Interval.CreateLeftOpen (-3.,2.)\n",
"\n",
"let loi = sprintf \"myInterval is: %s\" (myInterval.ToString())\n"]
          }
,
          {
           "cell_type": "markdown",
           "metadata": {},
           
           "source": ["When intervals are created from sequences, always closed intervals are generated!\n",
"\n"]
          }
,
          {
           "cell_type": "code",
           "metadata": {},
            "execution_count": 5, "outputs": [
          {
           "data": {
            "text/plain": ["Closed (-6.0, 100.0)"]
        },
           "execution_count": 5,
           "metadata": {},
           "output_type": "execute_result"
          }],
           "source": ["let collection = [3.0; -2.0; 5.0; 1.0; -6.0; 100.0]\n",
"let interval = Interval.ofSeq collection\n"]
          }
,
          {
           "cell_type": "markdown",
           "metadata": {},
           
           "source": ["**Visualization of the interval**\n",
"\n"]
          }
,
          {
           "cell_type": "code",
           "metadata": {},
            "execution_count": 7, "outputs": [],
           "source": ["open Plotly.NET\n",
"open Plotly.NET.LayoutObjects\n",
"open Plotly.NET.StyleParam\n",
"\n",
"let interval01 = \n",
"    Chart.Point([])\n",
"    |\u003e Chart.withShape (Shape.init(ShapeType=ShapeType.Rectangle,X0=Interval.getStart interval,X1=Interval.getEnd interval,Y0=1,Y1=2,FillColor=Color.fromHex \"#1f77b4\"))\n",
"    |\u003e Chart.withTemplate ChartTemplates.lightMirrored\n",
"    |\u003e Chart.withXAxisStyle (\"\",MinMax=(-10.,120.))\n",
"    |\u003e Chart.withYAxisStyle (\"\",MinMax=(0.,5.))\n"]
          }
,
          {
           "cell_type": "code",
           "metadata": {},
            "execution_count": null, "outputs": [
          {
           "data": {
            "text/html": ["\u003cdiv\u003e\u003cdiv id=\"8db5adac-0d30-43cf-9795-bffd6b62fe97\"\u003e\u003c!-- Plotly chart will be drawn inside this DIV --\u003e\u003c/div\u003e\u003cscript type=\"text/javascript\"\u003evar renderPlotly_8db5adac0d3043cf9795bffd6b62fe97 = function() {",
"",
"    var data = [{\"type\":\"scatter\",\"mode\":\"markers\",\"x\":[],\"y\":[],\"marker\":{},\"line\":{}}];",
"",
"    var layout = {\"width\":600,\"height\":600,\"template\":{\"layout\":{\"paper_bgcolor\":\"white\",\"plot_bgcolor\":\"white\",\"xaxis\":{\"ticks\":\"inside\",\"mirror\":\"all\",\"showline\":true,\"zeroline\":true},\"yaxis\":{\"ticks\":\"inside\",\"mirror\":\"all\",\"showline\":true,\"zeroline\":true}},\"data\":{}},\"shapes\":[{\"fillcolor\":\"rgba(31, 119, 180, 1.0)\",\"type\":\"rect\",\"x0\":-6.0,\"x1\":100.0,\"y0\":1,\"y1\":2}],\"xaxis\":{\"title\":{\"text\":\"\"},\"range\":[-10.0,120.0]},\"yaxis\":{\"title\":{\"text\":\"\"},\"range\":[0.0,5.0]}};",
"",
"    var config = {\"responsive\":true};",
"",
"    Plotly.newPlot(\u00278db5adac-0d30-43cf-9795-bffd6b62fe97\u0027, data, layout, config);",
"",
"};",
"",
"renderPlotly_8db5adac0d3043cf9795bffd6b62fe97();",
"",
"\u003c/script\u003e\u003c/div\u003e"]
        },
           "execution_count": null,
           "metadata": {},
           "output_type": "execute_result"
          }],
           "source": ["interval01\n"]
          }
,
          {
           "cell_type": "code",
           "metadata": {},
            "execution_count": 9, "outputs": [
          {
           "data": {
            "text/plain": ["Closed ((\"a\", 3.0), (\"f\", 100.0))"]
        },
           "execution_count": 9,
           "metadata": {},
           "output_type": "execute_result"
          },

          {
           "data": {
            "text/plain": ["Closed ((\"e\", -6.0), (\"f\", 100.0))"]
        },
           "execution_count": 9,
           "metadata": {},
           "output_type": "execute_result"
          }],
           "source": ["let collectionBy = [(\"a\",3.0); (\"b\",-2.0); (\"c\",5.0); (\"d\",1.0); (\"e\",-6.0); (\"f\",100.0)]\n",
"let intervalByFst = Interval.ofSeqBy fst collectionBy\n",
"let intervalBySnd = Interval.ofSeqBy snd collectionBy\n"]
          }
,
          {
           "cell_type": "markdown",
           "metadata": {},
           
           "source": ["**Interval addition**\n",
"\n",
"Intervals can be added (interval arithmetic definition) by adding the minima and maxima to obtain a new interval\n",
"\n",
"```\n",
"i=[a,b]\n",
"j=[c,d]\n",
"\n",
"i + j = [a+b,c+d]\n",
"```\n",
"\n"]
          }
,
          {
           "cell_type": "code",
           "metadata": {},
            "execution_count": 12, "outputs": [
          {
           "data": {
            "text/html": ["\u003cdiv\u003e\u003cdiv id=\"e97acf34-4fa6-46f5-9d45-dc02468e17bc\"\u003e\u003c!-- Plotly chart will be drawn inside this DIV --\u003e\u003c/div\u003e\u003cscript type=\"text/javascript\"\u003evar renderPlotly_e97acf344fa646f59d45dc02468e17bc = function() {",
"",
"    var data = [{\"type\":\"scatter\",\"mode\":\"markers\",\"x\":[],\"y\":[],\"marker\":{},\"line\":{}}];",
"",
"    var layout = {\"width\":600,\"height\":600,\"template\":{\"layout\":{\"paper_bgcolor\":\"white\",\"plot_bgcolor\":\"white\",\"xaxis\":{\"ticks\":\"inside\",\"mirror\":\"all\",\"showline\":true,\"zeroline\":true},\"yaxis\":{\"ticks\":\"inside\",\"mirror\":\"all\",\"showline\":true,\"zeroline\":true}},\"data\":{}},\"shapes\":[{\"fillcolor\":\"rgba(31, 119, 180, 1.0)\",\"type\":\"rect\",\"x0\":6.0,\"x1\":8.0,\"y0\":1,\"y1\":2},{\"fillcolor\":\"rgba(255, 127, 14, 1.0)\",\"type\":\"rect\",\"x0\":5.0,\"x1\":10.0,\"y0\":3,\"y1\":4},{\"fillcolor\":\"rgba(44, 160, 44, 1.0)\",\"type\":\"rect\",\"x0\":11.0,\"x1\":18.0,\"y0\":5,\"y1\":6}],\"xaxis\":{\"title\":{},\"range\":[0.0,20.0]},\"yaxis\":{\"title\":{},\"range\":[0.0,8.0]}};",
"",
"    var config = {\"responsive\":true};",
"",
"    Plotly.newPlot(\u0027e97acf34-4fa6-46f5-9d45-dc02468e17bc\u0027, data, layout, config);",
"",
"};",
"",
"renderPlotly_e97acf344fa646f59d45dc02468e17bc();",
"",
"\u003c/script\u003e\u003c/div\u003e"]
        },
           "execution_count": 12,
           "metadata": {},
           "output_type": "execute_result"
          }],
           "source": ["let i02 = Interval.CreateClosed\u003cfloat\u003e (6.,8.)\n",
"let i03 = Interval.CreateClosed\u003cfloat\u003e (5.,10.)\n",
"let addedInterval = Interval.add i02 i03\n"]
          }
,
          {
           "cell_type": "markdown",
           "metadata": {},
           
           "source": ["**Interval subtraction**\n",
"\n",
"Intervals can be subtracted (interval arithmetic definition) by:\n",
"\n",
"```\n",
"i=[a,b]\n",
"j=[c,d]\n",
"\n",
"i - j = [a-d,b-c]\n",
"```\n",
"\n"]
          }
,
          {
           "cell_type": "code",
           "metadata": {},
            "execution_count": 14, "outputs": [
          {
           "data": {
            "text/html": ["\u003cdiv\u003e\u003cdiv id=\"d2b7df79-ffcf-419a-9aa7-6354d8300df5\"\u003e\u003c!-- Plotly chart will be drawn inside this DIV --\u003e\u003c/div\u003e\u003cscript type=\"text/javascript\"\u003evar renderPlotly_d2b7df79ffcf419a9aa76354d8300df5 = function() {",
"",
"    var data = [{\"type\":\"scatter\",\"mode\":\"markers\",\"x\":[],\"y\":[],\"marker\":{},\"line\":{}}];",
"",
"    var layout = {\"width\":600,\"height\":600,\"template\":{\"layout\":{\"paper_bgcolor\":\"white\",\"plot_bgcolor\":\"white\",\"xaxis\":{\"ticks\":\"inside\",\"mirror\":\"all\",\"showline\":true,\"zeroline\":true},\"yaxis\":{\"ticks\":\"inside\",\"mirror\":\"all\",\"showline\":true,\"zeroline\":true}},\"data\":{}},\"shapes\":[{\"fillcolor\":\"rgba(31, 119, 180, 1.0)\",\"type\":\"rect\",\"x0\":6.0,\"x1\":8.0,\"y0\":1,\"y1\":2},{\"fillcolor\":\"rgba(255, 127, 14, 1.0)\",\"type\":\"rect\",\"x0\":5.0,\"x1\":10.0,\"y0\":3,\"y1\":4},{\"fillcolor\":\"rgba(44, 160, 44, 1.0)\",\"type\":\"rect\",\"x0\":-4.0,\"x1\":3.0,\"y0\":5,\"y1\":6}],\"xaxis\":{\"title\":{},\"range\":[-5.0,20.0]},\"yaxis\":{\"title\":{},\"range\":[0.0,8.0]}};",
"",
"    var config = {\"responsive\":true};",
"",
"    Plotly.newPlot(\u0027d2b7df79-ffcf-419a-9aa7-6354d8300df5\u0027, data, layout, config);",
"",
"};",
"",
"renderPlotly_d2b7df79ffcf419a9aa76354d8300df5();",
"",
"\u003c/script\u003e\u003c/div\u003e"]
        },
           "execution_count": 14,
           "metadata": {},
           "output_type": "execute_result"
          }],
           "source": ["let subInterval = Interval.subtract i02 i03\n"]
          }
,
          {
           "cell_type": "markdown",
           "metadata": {},
           
           "source": ["**Interval intersection**\n",
"\n",
"Closed intervals include their margins. If a margin is shared between two intervals, both intervals intersect.\n",
"\n"]
          }
,
          {
           "cell_type": "code",
           "metadata": {},
            "execution_count": 16, "outputs": [
          {
           "data": {
            "text/html": ["\u003cdiv\u003e\u003cdiv id=\"b80393da-e8c1-4d3d-843d-039cf1bc21df\"\u003e\u003c!-- Plotly chart will be drawn inside this DIV --\u003e\u003c/div\u003e\u003cscript type=\"text/javascript\"\u003evar renderPlotly_b80393dae8c14d3d843d039cf1bc21df = function() {",
"",
"    var data = [{\"type\":\"scatter\",\"mode\":\"markers\",\"x\":[],\"y\":[],\"marker\":{},\"line\":{}}];",
"",
"    var layout = {\"width\":600,\"height\":600,\"template\":{\"layout\":{\"paper_bgcolor\":\"white\",\"plot_bgcolor\":\"white\",\"xaxis\":{\"ticks\":\"inside\",\"mirror\":\"all\",\"showline\":true,\"zeroline\":true},\"yaxis\":{\"ticks\":\"inside\",\"mirror\":\"all\",\"showline\":true,\"zeroline\":true}},\"data\":{}},\"shapes\":[{\"fillcolor\":\"rgba(31, 119, 180, 1.0)\",\"type\":\"rect\",\"x0\":2.0,\"x1\":8.0,\"y0\":1,\"y1\":2},{\"fillcolor\":\"rgba(255, 127, 14, 1.0)\",\"type\":\"rect\",\"x0\":5.0,\"x1\":10.0,\"y0\":3,\"y1\":4},{\"fillcolor\":\"rgba(44, 160, 44, 1.0)\",\"type\":\"rect\",\"x0\":5.0,\"x1\":8.0,\"y0\":5,\"y1\":6}],\"xaxis\":{\"title\":{},\"range\":[0.0,12.0]},\"yaxis\":{\"title\":{},\"range\":[0.0,8.0]}};",
"",
"    var config = {\"responsive\":true};",
"",
"    Plotly.newPlot(\u0027b80393da-e8c1-4d3d-843d-039cf1bc21df\u0027, data, layout, config);",
"",
"};",
"",
"renderPlotly_b80393dae8c14d3d843d039cf1bc21df();",
"",
"\u003c/script\u003e\u003c/div\u003e"]
        },
           "execution_count": 16,
           "metadata": {},
           "output_type": "execute_result"
          }],
           "source": ["let i04 = Interval.CreateClosed\u003cfloat\u003e (2.,8.)\n",
"let i05 = Interval.CreateClosed\u003cfloat\u003e (5.,10.)\n",
"let intInterval = Interval.intersect i04 i05\n"]
          }],
            "metadata": {
            "kernelspec": {"display_name": ".NET (F#)", "language": "F#", "name": ".net-fsharp"},
            "langauge_info": {
        "file_extension": ".fs",
        "mimetype": "text/x-fsharp",
        "name": "C#",
        "pygments_lexer": "fsharp",
        "version": "4.5"
        }
        },
            "nbformat": 4,
            "nbformat_minor": 1
        }
        

