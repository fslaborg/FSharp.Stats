
        {
            "cells": [
          {
           "cell_type": "markdown",
           "metadata": {},
           
           "source": []
          }
,
          {
           "cell_type": "code",
           "metadata": {},
            "execution_count": null, "outputs": [],
           "source": ["#r \"nuget: Plotly.NET, 4.0.0\"\n",
"#r \"nuget: Plotly.NET.Interactive, 4.0.0\"\n",
"#r \"nuget: FSharp.Stats\"\n",
"\n",
"open Plotly.NET\n"]
          }
,
          {
           "cell_type": "markdown",
           "metadata": {},
           
           "source": ["# Imputation\n",
"\n",
"[![Binder](https://mybinder.org/badge_logo.svg)](https://mybinder.org/v2/gh/fslaborg/FSharp.Stats/gh-pages?urlpath=/tree/home/jovyan/Imputation.ipynb)\n",
"[![Notebook](https://fslab.org/FSharp.Stats/img/badge-notebook.svg)](https://fslab.org/FSharp.Stats/Imputation.ipynb)\n",
"\n",
"Short documentation how to impute values\n",
"\n"]
          }
,
          {
           "cell_type": "code",
           "metadata": {},
            "execution_count": 3, "outputs": [
          {
           "data": {
            "text/plain": ["\"rawData",
"",
"",
"",
"               0         1         2         3         4 ",
"",
"_________________________________________________________",
"",
"0     |    3.000     2.000     3.000     4.000     5.000",
"",
"1     |    1.000     2.000     3.000       NaN     5.000",
"",
"2     |      NaN     2.000     3.000     4.000       NaN",
"",
"3     |    5.000     2.000     6.000     4.000     5.000",
"",
"4     |    0.500     2.000     3.000     5.000     5.000",
"",
"\""]
        },
           "execution_count": 3,
           "metadata": {},
           "output_type": "execute_result"
          }],
           "source": ["open FSharp.Stats\n",
"open FSharp.Stats.ML\n",
"\n",
"\n",
"let a = [3.;2.;3.;4.;5.;]\n",
"let b = [1.;2.;3.;nan;5.;]\n",
"let c = [nan;2.;3.;4.;nan;]\n",
"let d = [5.;2.;6.;4.;5.;]\n",
"let e = [0.5;2.;3.;5.;5.;]\n",
"\n",
"let data = [a;b;c;d;e]\n"]
          }
,
          {
           "cell_type": "code",
           "metadata": {},
            "execution_count": null, "outputs": [],
           "source": ["\u003ca name=\"k-Nearest imputation\"\u003e\u003c/a\u003e\n"]
          }
,
          {
           "cell_type": "markdown",
           "metadata": {},
           
           "source": ["## k-Nearest imputation\n",
"\n",
"Missing data imputation based on the k-nearest neighbour algorithm:\n",
"\n"]
          }
,
          {
           "cell_type": "code",
           "metadata": {},
            "execution_count": 6, "outputs": [
          {
           "data": {
            "text/plain": ["\"k nearest neighbours imputed data",
"",
"",
"",
"               0         1         2         3         4 ",
"",
"_________________________________________________________",
"",
"0     |    3.000     2.000     3.000     4.000     5.000",
"",
"1     |    1.000     2.000     3.000     4.500     5.000",
"",
"2     |    1.750     2.000     3.000     4.000     5.000",
"",
"3     |    5.000     2.000     6.000     4.000     5.000",
"",
"4     |    0.500     2.000     3.000     5.000     5.000",
"",
"\""]
        },
           "execution_count": 6,
           "metadata": {},
           "output_type": "execute_result"
          }],
           "source": ["// init kNearest MatrixBaseImpute\n",
"let kn : Impute.MatrixBaseImputation\u003cfloat[],float\u003e = Impute.kNearestImpute 2\n",
"let imputedData = Impute.imputeBy kn Ops.isNan data\n"]
          }
,
          {
           "cell_type": "code",
           "metadata": {},
            "execution_count": null, "outputs": [],
           "source": ["\u003ca name=\"random imputation\"\u003e\u003c/a\u003e\n"]
          }
,
          {
           "cell_type": "markdown",
           "metadata": {},
           
           "source": ["## random imputation\n",
"\n",
"...\n",
"\n"]
          }
,
          {
           "cell_type": "code",
           "metadata": {},
            "execution_count": 9, "outputs": [
          {
           "data": {
            "text/plain": ["\"rndRowDataMatrix imputed data",
"",
"",
"",
"               0         1         2         3         4 ",
"",
"_________________________________________________________",
"",
"0     |    3.000     2.000     3.000     4.000     5.000",
"",
"1     |    1.000     2.000     3.000     1.000     5.000",
"",
"2     |    2.000     2.000     3.000     4.000     2.000",
"",
"3     |    5.000     2.000     6.000     4.000     5.000",
"",
"4     |    0.500     2.000     3.000     5.000     5.000",
"",
"\""]
        },
           "execution_count": 9,
           "metadata": {},
           "output_type": "execute_result"
          },

          {
           "data": {
            "text/plain": ["\"rndColDataMatrix imputed data",
"",
"",
"",
"               0         1         2         3         4 ",
"",
"_________________________________________________________",
"",
"0     |    3.000     2.000     3.000     4.000     5.000",
"",
"1     |    1.000     2.000     3.000     4.000     5.000",
"",
"2     |    3.000     2.000     3.000     4.000     5.000",
"",
"3     |    5.000     2.000     6.000     4.000     5.000",
"",
"4     |    0.500     2.000     3.000     5.000     5.000",
"",
"\""]
        },
           "execution_count": 9,
           "metadata": {},
           "output_type": "execute_result"
          }],
           "source": ["// init random VectorBaseImpute\n",
"let rnd = Impute.rnd (System.Random())\n",
"\n",
"let rndRowWise = Impute.imputeRowWiseBy rnd Ops.isNan data\n",
"let rndColWise = Impute.imputeColWiseBy rnd Ops.isNan data\n"]
          }
,
          {
           "cell_type": "code",
           "metadata": {},
            "execution_count": null, "outputs": [],
           "source": ["\u003ca name=\"normal imputation\"\u003e\u003c/a\u003e\n"]
          }
,
          {
           "cell_type": "markdown",
           "metadata": {},
           
           "source": ["## normal imputation\n",
"\n",
"...\n",
"\n"]
          }
,
          {
           "cell_type": "code",
           "metadata": {},
            "execution_count": 13, "outputs": [
          {
           "data": {
            "text/plain": ["\"normalRowDataMatrix imputed data",
"",
"",
"",
"               0         1         2         3         4 ",
"",
"_________________________________________________________",
"",
"0     |    3.000     2.000     3.000     4.000     5.000",
"",
"1     |    1.000     2.000     3.000     2.422     5.000",
"",
"2     |    3.197     2.000     3.000     4.000     2.202",
"",
"3     |    5.000     2.000     6.000     4.000     5.000",
"",
"4     |    0.500     2.000     3.000     5.000     5.000",
"",
"\""]
        },
           "execution_count": 13,
           "metadata": {},
           "output_type": "execute_result"
          },

          {
           "data": {
            "text/plain": ["\"normalColDataMatrix imputed data",
"",
"",
"",
"               0         1         2         3         4 ",
"",
"_________________________________________________________",
"",
"0     |    3.000     2.000     3.000     4.000     5.000",
"",
"1     |    1.000     2.000     3.000     4.093     5.000",
"",
"2     |    0.328     2.000     3.000     4.000     5.000",
"",
"3     |    5.000     2.000     6.000     4.000     5.000",
"",
"4     |    0.500     2.000     3.000     5.000     5.000",
"",
"\""]
        },
           "execution_count": 13,
           "metadata": {},
           "output_type": "execute_result"
          }],
           "source": ["let normalRowWise = Impute.imputeRowWiseBy Impute.normal Ops.isNan data\n",
"let normalColWise = Impute.imputeColWiseBy Impute.normal Ops.isNan data\n"]
          }],
            "metadata": {
            "kernelspec": {"display_name": ".NET (F#)", "language": "F#", "name": ".net-fsharp"},
            "langauge_info": {
        "file_extension": ".fs",
        "mimetype": "text/x-fsharp",
        "name": "C#",
        "pygments_lexer": "fsharp",
        "version": "4.5"
        }
        },
            "nbformat": 4,
            "nbformat_minor": 1
        }
        

