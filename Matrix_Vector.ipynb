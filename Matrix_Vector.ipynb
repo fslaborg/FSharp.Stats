
        {
            "cells": [
          {
           "cell_type": "markdown",
           "metadata": {},
           
           "source": []
          }
,
          {
           "cell_type": "code",
           "metadata": {},
            "execution_count": null, "outputs": [],
           "source": ["#r \"nuget: FSharp.Stats\"\n"]
          }
,
          {
           "cell_type": "markdown",
           "metadata": {},
           
           "source": ["# Matrix and Vector\n",
"\n",
"[![Binder](https://mybinder.org/badge_logo.svg)](https://mybinder.org/v2/gh/fslaborg/FSharp.Stats/gh-pages?urlpath=/tree/home/jovyan/Matrix_Vector.ipynb)\n",
"\n",
"**Summary:** this tutorial demonstrates some of the functionality for matrices and vectors provided by FSharp.Stats.\n",
"\n",
"## Vector\n",
"\n"]
          }
,
          {
           "cell_type": "code",
           "metadata": {},
            "execution_count": 3, "outputs": [
          {
           "data": {
            "text/plain": ["vector [|2.0; 20.0; 1.0|]"]
        },
           "execution_count": 3,
           "metadata": {},
           "output_type": "execute_result"
          }],
           "source": ["open FSharp.Stats\n",
"\n",
"let v = \n",
"    vector [|2.0; 20.0; 1.|]\n"]
          }
,
          {
           "cell_type": "code",
           "metadata": {},
            "execution_count": 5, "outputs": [
          {
           "data": {
            "text/plain": ["rowvec [|2.0; 20.0; 1.0|]"]
        },
           "execution_count": 5,
           "metadata": {},
           "output_type": "execute_result"
          }],
           "source": ["let rv = \n",
"    rowvec [|2.0; 20.0; 1.|]\n"]
          }
,
          {
           "cell_type": "markdown",
           "metadata": {},
           
           "source": ["Addition to every element of vector.\n",
"\n"]
          }
,
          {
           "cell_type": "code",
           "metadata": {},
            "execution_count": 8, "outputs": [
          {
           "data": {
            "text/plain": ["vector [|3.0; 21.0; 2.0|]"]
        },
           "execution_count": 8,
           "metadata": {},
           "output_type": "execute_result"
          }],
           "source": ["v + 1.\n"]
          }
,
          {
           "cell_type": "markdown",
           "metadata": {},
           
           "source": ["Addition to every element of row vector.\n",
"\n"]
          }
,
          {
           "cell_type": "code",
           "metadata": {},
            "execution_count": 10, "outputs": [
          {
           "data": {
            "text/plain": ["rowvec [|3.0; 21.0; 2.0|]"]
        },
           "execution_count": 10,
           "metadata": {},
           "output_type": "execute_result"
          }],
           "source": ["rv + 1.\n"]
          }
,
          {
           "cell_type": "markdown",
           "metadata": {},
           
           "source": ["## Matrix\n",
"\n",
"### Creating Matrices with FSharp.Stats.\n",
"\n",
"Matrices will also be printed with the FSharp.Stats.FSIPrinters.matrix function to get a nice console output.\n",
"\n"]
          }
,
          {
           "cell_type": "code",
           "metadata": {},
            "execution_count": 12, "outputs": [
          {
           "data": {
            "text/plain": ["\"",
"",
"               0         1         2 ",
"",
"_____________________________________",
"",
"0     |    1.000     7.000     2.000",
"",
"1     |    1.000     3.000     1.000",
"",
"2     |    2.000     9.000     1.000",
"",
"\""]
        },
           "execution_count": 12,
           "metadata": {},
           "output_type": "execute_result"
          }],
           "source": ["open FSharp.Stats\n",
"\n",
"// http://fdatamining.blogspot.de/2010/03/matrix-and-linear-algebra-in-f-part-i-f.html\n",
"// http://fdatamining.blogspot.de/search/label/linear%20algebra\n",
"\n",
"let A = \n",
"    matrix [ [ 1.0; 7.0; 2.0 ]\n",
"             [ 1.0; 3.0; 1.0 ]\n",
"             [ 2.0; 9.0; 1.0 ] ]\n"]
          }
,
          {
           "cell_type": "code",
           "metadata": {},
            "execution_count": 15, "outputs": [
          {
           "data": {
            "text/plain": ["\"",
"",
"               0         1         2 ",
"",
"_____________________________________",
"",
"0     |   10.000    70.000    20.000",
"",
"1     |   10.000    30.000    10.000",
"",
"2     |   20.000    90.000    10.000",
"",
"\""]
        },
           "execution_count": 15,
           "metadata": {},
           "output_type": "execute_result"
          }],
           "source": ["let B = \n",
"    matrix [ [ 10.0; 70.0; 20.0 ]\n",
"             [ 10.0; 30.0; 10.0 ]\n",
"             [ 20.0; 90.0; 10.0 ] ]\n"]
          }
,
          {
           "cell_type": "markdown",
           "metadata": {},
           
           "source": ["### Calculation Examples for Matrices\n",
"\n",
"Get sum of each row.\n",
"\n"]
          }
,
          {
           "cell_type": "code",
           "metadata": {},
            "execution_count": 19, "outputs": [
          {
           "data": {
            "text/plain": ["vector [|10.0; 5.0; 12.0|]"]
        },
           "execution_count": 19,
           "metadata": {},
           "output_type": "execute_result"
          }],
           "source": ["A\n",
"|\u003e Matrix.Generic.mapRows (Seq.sum)\n"]
          }
,
          {
           "cell_type": "markdown",
           "metadata": {},
           
           "source": ["Create seq of vectors of matrix columns.\n",
"\n"]
          }
,
          {
           "cell_type": "code",
           "metadata": {},
            "execution_count": 22, "outputs": [
          {
           "data": {
            "text/plain": ["rowvec [|vector ...; vector ...; vector ...|]"]
        },
           "execution_count": 22,
           "metadata": {},
           "output_type": "execute_result"
          }],
           "source": ["A\n",
"|\u003e Matrix.mapiCols (fun i r -\u003e r)\n"]
          }
,
          {
           "cell_type": "markdown",
           "metadata": {},
           
           "source": ["Sum of two matrices.\n",
"\n"]
          }
,
          {
           "cell_type": "code",
           "metadata": {},
            "execution_count": 25, "outputs": [
          {
           "data": {
            "text/plain": ["\"",
"",
"               0         1         2 ",
"",
"_____________________________________",
"",
"0     |   11.000    77.000    22.000",
"",
"1     |   11.000    33.000    11.000",
"",
"2     |   22.000    99.000    11.000",
"",
"\""]
        },
           "execution_count": 25,
           "metadata": {},
           "output_type": "execute_result"
          }],
           "source": ["A + B\n"]
          }
,
          {
           "cell_type": "markdown",
           "metadata": {},
           
           "source": ["Difference between two matrices.\n",
"\n"]
          }
,
          {
           "cell_type": "code",
           "metadata": {},
            "execution_count": 27, "outputs": [
          {
           "data": {
            "text/plain": ["\"",
"",
"               0         1         2 ",
"",
"_____________________________________",
"",
"0     |    -9.00    -63.00    -18.00",
"",
"1     |    -9.00    -27.00     -9.00",
"",
"2     |   -18.00    -81.00     -9.00",
"",
"\""]
        },
           "execution_count": 27,
           "metadata": {},
           "output_type": "execute_result"
          }],
           "source": ["A - B\n"]
          }
,
          {
           "cell_type": "markdown",
           "metadata": {},
           
           "source": ["Product of two matrices.\n",
"\n"]
          }
,
          {
           "cell_type": "code",
           "metadata": {},
            "execution_count": 29, "outputs": [
          {
           "data": {
            "text/plain": ["\"",
"",
"               0         1         2 ",
"",
"_____________________________________",
"",
"0     |  120.000   460.000   110.000",
"",
"1     |   60.000   250.000    60.000",
"",
"2     |  130.000   500.000   140.000",
"",
"\""]
        },
           "execution_count": 29,
           "metadata": {},
           "output_type": "execute_result"
          }],
           "source": ["A * B \n"]
          }
,
          {
           "cell_type": "markdown",
           "metadata": {},
           
           "source": ["Element-wise product of two matrices\n",
"\n"]
          }
,
          {
           "cell_type": "code",
           "metadata": {},
            "execution_count": 31, "outputs": [
          {
           "data": {
            "text/plain": ["\"",
"",
"               0         1         2 ",
"",
"_____________________________________",
"",
"0     |   10.000   490.000    40.000",
"",
"1     |   10.000    90.000    10.000",
"",
"2     |   40.000   810.000    10.000",
"",
"\""]
        },
           "execution_count": 31,
           "metadata": {},
           "output_type": "execute_result"
          }],
           "source": ["A .* B \n"]
          }
,
          {
           "cell_type": "markdown",
           "metadata": {},
           
           "source": ["Scalar product of a matrix.\n",
"\n"]
          }
,
          {
           "cell_type": "code",
           "metadata": {},
            "execution_count": 33, "outputs": [
          {
           "data": {
            "text/plain": ["\"",
"",
"               0         1         2 ",
"",
"_____________________________________",
"",
"0     |    2.000    14.000     4.000",
"",
"1     |    2.000     6.000     2.000",
"",
"2     |    4.000    18.000     2.000",
"",
"\""]
        },
           "execution_count": 33,
           "metadata": {},
           "output_type": "execute_result"
          }],
           "source": ["A * 2.0 \n",
"2.0 * A // also ok, gives same result\n"]
          }
,
          {
           "cell_type": "markdown",
           "metadata": {},
           
           "source": ["Negation of a matrix\n",
"\n"]
          }
,
          {
           "cell_type": "code",
           "metadata": {},
            "execution_count": 35, "outputs": [
          {
           "data": {
            "text/plain": ["\"",
"",
"               0         1         2 ",
"",
"_____________________________________",
"",
"0     |    -1.00     -7.00     -2.00",
"",
"1     |    -1.00     -3.00     -1.00",
"",
"2     |    -2.00     -9.00     -1.00",
"",
"\""]
        },
           "execution_count": 35,
           "metadata": {},
           "output_type": "execute_result"
          }],
           "source": ["-A \n"]
          }
,
          {
           "cell_type": "markdown",
           "metadata": {},
           
           "source": ["Product of a matrix-vector.\n",
"\n"]
          }
,
          {
           "cell_type": "code",
           "metadata": {},
            "execution_count": 37, "outputs": [
          {
           "data": {
            "text/plain": ["vector [|144.0; 63.0; 185.0|]"]
        },
           "execution_count": 37,
           "metadata": {},
           "output_type": "execute_result"
          }],
           "source": ["A * v\n"]
          }
,
          {
           "cell_type": "markdown",
           "metadata": {},
           
           "source": ["Dot product of two matrices.\n",
"\n"]
          }
,
          {
           "cell_type": "code",
           "metadata": {},
            "execution_count": 39, "outputs": [
          {
           "data": {
            "text/plain": ["1510.0"]
        },
           "execution_count": 39,
           "metadata": {},
           "output_type": "execute_result"
          }],
           "source": ["Matrix.dot A B\n"]
          }
,
          {
           "cell_type": "markdown",
           "metadata": {},
           
           "source": ["Addition to every element of matrix.\n",
"\n"]
          }
,
          {
           "cell_type": "code",
           "metadata": {},
            "execution_count": 41, "outputs": [
          {
           "data": {
            "text/plain": ["\"",
"",
"               0         1         2 ",
"",
"_____________________________________",
"",
"0     |    2.000     8.000     3.000",
"",
"1     |    2.000     4.000     2.000",
"",
"2     |    3.000    10.000     2.000",
"",
"\""]
        },
           "execution_count": 41,
           "metadata": {},
           "output_type": "execute_result"
          }],
           "source": ["A + 1.\n"]
          }],
            "metadata": {
            "kernelspec": {"display_name": ".NET (F#)", "language": "F#", "name": ".net-fsharp"},
            "langauge_info": {
        "file_extension": ".fs",
        "mimetype": "text/x-fsharp",
        "name": "C#",
        "pygments_lexer": "fsharp",
        "version": "4.5"
        }
        },
            "nbformat": 4,
            "nbformat_minor": 1
        }
        

