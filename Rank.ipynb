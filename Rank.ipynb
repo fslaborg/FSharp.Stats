
        {
            "cells": [
          {
           "cell_type": "markdown",
           "metadata": {},
           
           "source": []
          }
,
          {
           "cell_type": "code",
           "metadata": {},
            "execution_count": null, "outputs": [],
           "source": ["#r \"nuget: Plotly.NET, 4.0.0\"\n",
"#r \"nuget: Plotly.NET.Interactive, 4.0.0\"\n",
"#r \"nuget: FSharp.Stats\"\n",
"\n",
"open Plotly.NET\n",
"\n",
"\n",
"open Plotly.NET\n",
"open Plotly.NET.StyleParam\n",
"open Plotly.NET.LayoutObjects\n"]
          }
,
          {
           "cell_type": "markdown",
           "metadata": {},
           
           "source": ["# Ranking\n",
"\n",
"[![Binder](https://mybinder.org/badge_logo.svg)](https://mybinder.org/v2/gh/fslaborg/FSharp.Stats/gh-pages?urlpath=/tree/home/jovyan/Rank.ipynb)\n",
"[![Notebook](https://fslab.org/FSharp.Stats/img/badge-notebook.svg)](https://fslab.org/FSharp.Stats/Rank.ipynb)\n",
"\n",
"**Summary:** this tutorial demonstrates how to determine ranks of a collection\n",
"\n",
"Consider a collection of values. The rank of a number is its size relative to other values in a sequence.\n",
"There are four methods how to handle ties:\n",
"\n",
"```\n",
"let mySequence = [|1.0; -2.0; 0.0; 1.0|]\n",
"```\n",
"\n",
"* **rankFirst**\n",
"\n",
"  * Each rank occurs exactly once. If ties are present the first occurence gets the low rank.\n",
"  \n",
"  * ATTENTION: If there are multiple ties (\u0026gt;20) the sorting of Arrays will not preserve the element order correctly!!\n",
"  \n",
"  * `ranks = [3,1,2,4]`\n",
"  \n",
"\n",
"* **rankMin**\n",
"\n",
"  * If ties are present all tied elements receive the score of the first occurence (min rank)\n",
"  \n",
"  * `ranks = [3,1,2,3]`\n",
"    \n",
"  \n",
"\n",
"* **rankMax**\n",
"\n",
"  * If ties are present all tied elements receive the score of the last occurence (max rank)\n",
"  \n",
"  * `ranks = [4,1,2,4]`\n",
"  \n",
"\n",
"* **rankAverge**\n",
"\n",
"  * If ties are present all tied elements receive their average rank.\n",
"  \n",
"  * `ranks = [3.5,1,2,3.5]`\n",
"  \n",
"\n",
"## NaN treatment\n",
"\n",
"If nans are present in the collection, there are several ways to treat them. In general `nan \u003c\u003e nan` so that each occurence will receive its unique rank.\n",
"(for infinity and -infinity the equality check returns true).\n",
"\n",
"* Usually nans are sorted to the beginning of the collection: `nan, -infinity, -100., 0., 100, infinity`\n",
"\n",
"* By default in FSharp.Stats.Rank, nans are sorted to the end of the sequence (the sorting can be defined as optional parameter)\n",
"\n",
"* Additionally ranks of nan values are set to nan if not specified othwerwise\n",
"\n"]
          }
,
          {
           "cell_type": "code",
           "metadata": {},
            "execution_count": 3, "outputs": [],
           "source": ["open FSharp.Stats\n",
"\n",
"let collection = [|2.;-infinity;infinity;infinity;nan;0|]\n",
"\n",
"Rank.RankFirst() collection\n",
"// result:  [|3.0; 1.0; 4.0; 5.0; nan; 2.0|]\n",
"\n",
"Rank.RankMin() collection\n",
"// result:  [|3.0; 1.0; 4.0; 4.0; nan; 2.0|]\n",
"\n",
"Rank.RankMax() collection\n",
"// result:  [|3.0; 1.0; 5.0; 5.0; nan; 2.0|]\n",
"\n",
"Rank.RankAverage() collection\n",
"// result:  [|3.0; 1.0; 4.5; 4.5; nan; 2.0|]\n"]
          }
,
          {
           "cell_type": "markdown",
           "metadata": {},
           
           "source": ["If you want to preserve the true ranks of nans but sort them to the back you can use:\n",
"\n"]
          }
,
          {
           "cell_type": "code",
           "metadata": {},
            "execution_count": 4, "outputs": [],
           "source": ["Rank.RankFirst(RankNanWithNan=false) collection\n",
"// result:  [|3.0; 1.0; 4.0; 5.0; 6.0; 2.0|]\n"]
          }
,
          {
           "cell_type": "markdown",
           "metadata": {},
           
           "source": ["If you want to preserve the true ranks of nans AND sort them to the beginning you can use:\n",
"\n"]
          }
,
          {
           "cell_type": "code",
           "metadata": {},
            "execution_count": 5, "outputs": [],
           "source": ["Rank.RankFirst(NanIsMaximum=false,RankNanWithNan=false) collection\n",
"// result:  [|4.0; 2.0; 5.0; 6.0; 1.0; 3.0|]\n"]
          }],
            "metadata": {
            "kernelspec": {"display_name": ".NET (F#)", "language": "F#", "name": ".net-fsharp"},
            "langauge_info": {
        "file_extension": ".fs",
        "mimetype": "text/x-fsharp",
        "name": "C#",
        "pygments_lexer": "fsharp",
        "version": "4.5"
        }
        },
            "nbformat": 4,
            "nbformat_minor": 1
        }
        

