
        {
            "cells": [
          {
           "cell_type": "code",
           "metadata": {},
            "execution_count": null, "outputs": [],
           "source": ["#r \"nuget: Plotly.NET, 4.0.0\"\n",
"#r \"nuget: Plotly.NET.Interactive, 4.0.0\"\n",
"#r \"nuget: FSharp.Stats\"\n",
"\n",
"open Plotly.NET\n"]
          }
,
          {
           "cell_type": "markdown",
           "metadata": {},
           
           "source": ["# FSharp.Stats\n",
"\n",
"[![Binder](https://mybinder.org/badge_logo.svg)](https://mybinder.org/v2/gh/fslaborg/FSharp.Stats/gh-pages?urlpath=/tree/home/jovyan/index.ipynb)\n",
"[![Notebook](https://fslab.org/FSharp.Stats/img/badge-notebook.svg)](https://fslab.org/FSharp.Stats/index.ipynb)\n",
"\n",
"FSharp.Stats is a multipurpose project for statistical testing, linear algebra, machine learning, fitting and signal processing.\n",
"\n",
"## Installation\n",
"\n",
"**From Nuget.org:**\n",
"\n",
"You can get all FSharp.Stats packages from nuget at [https://www.nuget.org/packages/FSharp.Stats/.](https://www.nuget.org/packages/FSharp.Stats/.)\n",
"\n",
"**To build the binaries yourself:**\n",
"\n",
"**Windows**:\n",
"\n",
"* Install [.Net Core SDK](https://www.microsoft.com/net/download)\n",
"\n",
"* navigate to project folder\n",
"\n",
"* use the console command `./build.cmd`\n",
"\n",
"**Linux(Ubuntu, using Mono)**:\n",
"\n",
"* Install [.Net Core SDK](https://www.microsoft.com/net/download/linux-package-manager/ubuntu14-04/sdk-current)\n",
"\n",
"* navigate to project folder\n",
"\n",
"* make the script executable with `chmod +x ./build.sh`\n",
"\n",
"* use the console command `./build.sh`\n",
"\n",
"**Documentation**:\n",
"\n",
"* While editing the documentation you can preview the documentation in your browser via `dotnet fsdocs watch --eval`\n",
"\n",
"-----------------------\n",
"\n",
"## Example\n",
"\n",
"The following examples show how easy it is to start working with FSharp.Stats.\n",
"\n",
"### Distributions\n",
"\n"]
          }
,
          {
           "cell_type": "code",
           "metadata": {},
            "execution_count": 3, "outputs": [
          {
           "data": {
            "text/plain": ["[|24.96364913; 25.00077328; 25.07030027; 24.89523359; 25.16642852; 25.0290682;",
"  24.93624391; 25.09148224; 25.04386949; 24.95486889; 25.03759422; 24.83775151;",
"  25.01604052; 25.12230125; 24.9982179; 24.97143487; 24.98641304; 24.91060353;",
"  24.85395277; 24.83448403; 25.11118665; 24.89436809; 24.93870966; 25.01018196;",
"  25.00090979; 24.73957389; 25.05012813; 25.06950179; 25.06135681; 25.02100545|]"]
        },
           "execution_count": 3,
           "metadata": {},
           "output_type": "execute_result"
          }],
           "source": ["open Plotly.NET\n",
"open FSharp.Stats\n",
"\n",
"// initialize a normal distribution with mean 25 and standard deviation 0.1\n",
"let normalDistribution = Distributions.Continuous.Normal.Init 25. 0.1\n",
"\n",
"// draw independently 30 times from the given distribution \n",
"let sample = Array.init 30 (fun _ -\u003e normalDistribution.Sample())\n"]
          }
,
          {
           "cell_type": "markdown",
           "metadata": {},
           
           "source": ["### Basic descriptive statistics\n",
"\n"]
          }
,
          {
           "cell_type": "code",
           "metadata": {},
            "execution_count": 5, "outputs": [
          {
           "data": {
            "text/plain": ["24.98725445"]
        },
           "execution_count": 5,
           "metadata": {},
           "output_type": "execute_result"
          }],
           "source": ["// calculate the mean of the given sample\n",
"let mean = Seq.mean sample\n"]
          }
,
          {
           "cell_type": "code",
           "metadata": {},
            "execution_count": 7, "outputs": [
          {
           "data": {
            "text/plain": ["0.09554406693"]
        },
           "execution_count": 7,
           "metadata": {},
           "output_type": "execute_result"
          }],
           "source": ["// calculate the bessel corrected sample standard deviation of the given sample\n",
"let stDev = Seq.stDev sample\n"]
          }
,
          {
           "cell_type": "code",
           "metadata": {},
            "execution_count": 9, "outputs": [
          {
           "data": {
            "text/plain": ["0.00382371209"]
        },
           "execution_count": 9,
           "metadata": {},
           "output_type": "execute_result"
          }],
           "source": ["// calculate the coefficient of variation of the given sample \n",
"// Attention: CV is valid only if a hypothetical real zero value exists for the data.\n",
"let cv = Seq.cv sample\n"]
          }
,
          {
           "cell_type": "markdown",
           "metadata": {},
           
           "source": ["### Vectors, Matrices and linear algebra\n",
"\n"]
          }
,
          {
           "cell_type": "code",
           "metadata": {},
            "execution_count": 11, "outputs": [
          {
           "data": {
            "text/plain": ["vector [|5.0; 1.0; 2.0|]"]
        },
           "execution_count": 11,
           "metadata": {},
           "output_type": "execute_result"
          }],
           "source": ["// create a vector \n",
"let vecB = vector [19.;11.;35.]\n",
"\n",
"// create a matrix \n",
"let matA = matrix [[3.;4.;0.];[1.;2.;2.];[5.;0.;5.]]\n",
"\n",
"// solve the linear system of equations\n",
"let vecX = FSharp.Stats.Algebra.LinearAlgebra.SolveLinearSystem matA vecB\n"]
          }
,
          {
           "cell_type": "markdown",
           "metadata": {},
           
           "source": ["### Interpolation\n",
"\n"]
          }
,
          {
           "cell_type": "code",
           "metadata": {},
            "execution_count": 13, "outputs": [],
           "source": ["let xData = vector [|1. .. 10.|]\n",
"let yData = vector [|4.;7.;9.;12.;15.;17.;16.;23.;5.;30.|]\n",
"\n",
"// get coefficients of interpolating polynomial\n",
"let interpolatingCoefficients = \n",
"    Interpolation.Polynomial.interpolate xData yData\n",
"\n",
"// get fitting function of interpolating polynomial\n",
"let interpolFitFunc = \n",
"    Interpolation.Polynomial.predict interpolatingCoefficients\n"]
          }
,
          {
           "cell_type": "markdown",
           "metadata": {},
           
           "source": ["### Regression\n",
"\n"]
          }
,
          {
           "cell_type": "code",
           "metadata": {},
            "execution_count": 15, "outputs": [],
           "source": ["// get coefficients of 3rd order regression polynomial\n",
"let regressionCoefficients = \n",
"    Fitting.LinearRegression.fit(xData,yData,FittingMethod=Fitting.Method.Polynomial 3)\n",
"    \n",
"// get fitting function of 3rd order regression polynomial\n",
"let regressionPredictionFunc: float -\u003e float = \n",
"    Fitting.LinearRegression.predict regressionCoefficients\n"]
          }
,
          {
           "cell_type": "markdown",
           "metadata": {},
           
           "source": ["The resulting interpolating and regression polynomials are plotted below using [Plotly.NET](https://github.com/plotly/Plotly.NET).\n",
"\n",
"\u003cdiv\u003e\u003cdiv id=\"2a9b3fc1-3f2f-4189-878a-62b7054f0530\"\u003e\u003c!-- Plotly chart will be drawn inside this DIV --\u003e\u003c/div\u003e\u003cscript type=\"text/javascript\"\u003evar renderPlotly_2a9b3fc13f2f4189878a62b7054f0530 = function() {\n",
"    var data = [{\"type\":\"scatter\",\"mode\":\"markers\",\"x\":[1.0,2.0,3.0,4.0,5.0,6.0,7.0,8.0,9.0,10.0],\"y\":[4.0,7.0,9.0,12.0,15.0,17.0,16.0,23.0,5.0,30.0],\"marker\":{},\"line\":{}},{\"type\":\"scatter\",\"name\":\"interpol polynomial\",\"mode\":\"lines\",\"x\":[1.0,1.1,1.2,1.3,1.4,1.5,1.6,1.7000000000000002,1.8,1.9,2.0,2.1,2.2,2.3,2.4000000000000004,2.5,2.6,2.7,2.8,2.9000000000000004,3.0,3.1,3.2,3.3000000000000003,3.4000000000000004,3.5,3.6,3.7,3.8000000000000003,3.9000000000000004,4.0,4.1,4.2,4.300000000000001,4.4,4.5,4.6,4.7,4.800000000000001,4.9,5.0,5.1000000000000005,5.2,5.3,5.4,5.5,5.6000000000000005,5.7,5.800000000000001,5.9,6.0,6.1000000000000005,6.2,6.300000000000001,6.4,6.5,6.6000000000000005,6.7,6.800000000000001,6.9,7.0,7.1000000000000005,7.2,7.300000000000001,7.4,7.5,7.6000000000000005,7.7,7.800000000000001,7.9,8.0,8.100000000000001,8.2,8.3,8.4,8.5,8.600000000000001,8.7,8.8,8.9,9.0,9.1,9.200000000000001,9.3,9.4,9.5,9.6,9.700000000000001,9.8,9.9,10.0],\"y\":[4.000000000000001,9.677506472156333,12.653219225718779,13.75671890177262,13.633243955273898,12.77432250979497,11.544644300783702,10.205497566308734,8.93507799031007,7.845959513350153,6.999999999869821,6.42093838892843,6.104924057464143,6.0292036910343665,6.159175987077711,6.454010009655073,6.8710089726980925,7.368887650777605,7.9101185023215645,8.462488940393584,8.999999999931159,9.503224928489665,9.959234969522889,10.361188813081526,10.707671859104721,11.001861572164998,11.250585804686779,11.463332027729962,11.65125693426279,11.82623786981651,11.99999999984226,12.183346040407116,12.385508761437677,12.613640317522254,12.872446771072987,13.163970947132157,13.487521996702753,13.839745747247207,14.214826086318453,14.604804251938276,15.000000000008185,15.389516175080644,15.76180623363689,16.105282754741893,16.40894392329028,16.66299438484384,16.859436748995904,16.99261035953168,17.05965475859557,17.0608765366851,17.000000000274667,16.88428428221232,16.724492185723648,16.534699174324487,16.33193451551415,16.135650635002094,15.967021260876209,15.84807391416689,15.800667750590947,15.845333673809364,16.000000000283762,16.27863381183124,16.68983541771013,17.235431126406183,17.90911774727283,18.695220947440248,19.567638733045897,20.489050961172325,21.410485862812493,22.271345113927964,23.000000000494765,23.515082714991877,23.727608730230713,23.544078661798267,22.87072081968654,21.6190490736044,19.712924365827348,17.097322550602257,13.749025895434897,9.689470805518795,5.000000000582077,-0.16021656058728695,-5.533311078208499,-10.738599672098644,-15.244901069090702,-18.338958740700036,-19.08961464453023,-16.307363767409697,-8.498899353435263,6.183761200867593,30.000000001396984],\"marker\":{},\"line\":{}},{\"type\":\"scatter\",\"name\":\"regression polynomial\",\"mode\":\"lines\",\"x\":[1.0,1.1,1.2,1.3,1.4,1.5,1.6,1.7000000000000002,1.8,1.9,2.0,2.1,2.2,2.3,2.4000000000000004,2.5,2.6,2.7,2.8,2.9000000000000004,3.0,3.1,3.2,3.3000000000000003,3.4000000000000004,3.5,3.6,3.7,3.8000000000000003,3.9000000000000004,4.0,4.1,4.2,4.300000000000001,4.4,4.5,4.6,4.7,4.800000000000001,4.9,5.0,5.1000000000000005,5.2,5.3,5.4,5.5,5.6000000000000005,5.7,5.800000000000001,5.9,6.0,6.1000000000000005,6.2,6.300000000000001,6.4,6.5,6.6000000000000005,6.7,6.800000000000001,6.9,7.0,7.1000000000000005,7.2,7.300000000000001,7.4,7.5,7.6000000000000005,7.7,7.800000000000001,7.9,8.0,8.100000000000001,8.2,8.3,8.4,8.5,8.600000000000001,8.7,8.8,8.9,9.0,9.1,9.200000000000001,9.3,9.4,9.5,9.6,9.700000000000001,9.8,9.9,10.0],\"y\":[2.422377622374652,3.079641025638399,3.7109743589720567,4.316939393937402,4.8980979020962,5.45501165501023,5.988242424241262,6.498351981351064,6.985902097901411,7.451454545454075,7.895571095570825,8.318813519813437,8.721743589743683,9.104923076923328,9.468913752914151,9.814277389277926,10.141575757576415,10.451370629371397,10.744223776224642,11.020696969697926,11.281351981353014,11.52675058275168,11.757454545455701,11.974025641026845,12.177025641026882,12.367016317017589,12.544559440560732,12.71021678321809,12.864550116551424,13.00812121212252,13.141491841493135,13.265223776225053,13.37987878788004,13.486018648019876,13.584205128206317,13.675000000001146,13.758965034966135,13.836662004663053,13.908652680653672,13.97549883449976,14.037762237763115,14.096004662005464,14.150787878788615,14.202673659674321,14.252223776224362,14.30000000000051,14.346564102564535,14.392477855478216,14.438303030303306,14.484601398601598,14.531934731934847,14.580864801864838,14.631953379953327,14.685762237762116,14.74285314685294,14.803787878787599,14.86912820512785,14.939435897435477,15.01527272727223,15.097200466199919,15.185780885780275,15.28157575757507,15.385146853146125,15.497055944055163,15.617864801863988,15.748135198134342,15.888428904428004,16.03930769230677,16.2013333333324,16.37506759906664,16.561072261071295,16.75990909090813,16.972139860138903,17.198326340325387,17.439030303029384,17.694813519812634,17.96623776223693,18.253864801864005,18.558256410255687,18.879974358973698,19.21958041957984,19.57763636363586,19.954703962703576,20.35134498834472,20.768121212121073,21.20559440559441,21.664326340326497,22.144878787879108,22.647813519813994,23.173692307693003,23.72307692307784],\"marker\":{},\"line\":{}}];\n",
"    var layout = {\"width\":600,\"height\":600,\"template\":{\"layout\":{\"paper_bgcolor\":\"white\",\"plot_bgcolor\":\"white\",\"xaxis\":{\"ticks\":\"inside\",\"mirror\":\"all\",\"showline\":true,\"zeroline\":true},\"yaxis\":{\"ticks\":\"inside\",\"mirror\":\"all\",\"showline\":true,\"zeroline\":true}},\"data\":{}}};\n",
"    var config = {\"responsive\":true};\n",
"    Plotly.newPlot(\u00272a9b3fc1-3f2f-4189-878a-62b7054f0530\u0027, data, layout, config);\n",
"};\n",
"renderPlotly_2a9b3fc13f2f4189878a62b7054f0530();\n",
"\u003c/script\u003e\u003c/div\u003e\n",
"\n",
"## Samples \u0026amp; documentation\n",
"\n",
"The library comes with comprehensible documentation.\n",
"It can include tutorials automatically generated from `*.fsx` files in [the content folder](https://github.com/fslaborg/FSharp.Stats/tree/developer/docs).\n",
"The API reference is automatically generated from Markdown comments in the library implementation.\n",
"\n",
"* [API Reference](reference/index.html) contains automatically generated documentation for all types, modules\n",
"and functions in the library. This includes additional brief samples on using most of the\n",
"functions.\n",
"\n",
"## Contributing and copyright\n",
"\n",
"The project is hosted on [GitHub](https://github.com/fslaborg/FSharp.Stats) where you can [report issues](https://github.com/fslaborg/FSharp.Stats/issues), fork\n",
"the project and submit pull requests. If you\u0027re adding a new public API, please also\n",
"consider adding [samples](https://github.com/fslaborg/FSharp.Stats/tree/developer/docs) that can be turned into a documentation. You might\n",
"also want to read the [library design notes](https://github.com/fslaborg/FSharp.Stats/blob/developer/README.md) to understand how it works.\n",
"\n",
"The library is available under Public Domain license, which allows modification and\n",
"redistribution for both commercial and non-commercial purposes. For more information see the\n",
"[License file](https://github.com/fslaborg/FSharp.Stats/blob/developer/LICENSE) in the GitHub repository.\n",
"\n"]
          }],
            "metadata": {
            "kernelspec": {"display_name": ".NET (F#)", "language": "F#", "name": ".net-fsharp"},
            "langauge_info": {
        "file_extension": ".fs",
        "mimetype": "text/x-fsharp",
        "name": "C#",
        "pygments_lexer": "fsharp",
        "version": "4.5"
        }
        },
            "nbformat": 4,
            "nbformat_minor": 1
        }
        

