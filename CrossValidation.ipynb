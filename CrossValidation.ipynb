
        {
            "cells": [
          {
           "cell_type": "markdown",
           "metadata": {},
           
           "source": []
          }
,
          {
           "cell_type": "code",
           "metadata": {},
            "execution_count": null, "outputs": [],
           "source": ["#r \"nuget: Plotly.NET, 4.0.0\"\n",
"#r \"nuget: Plotly.NET.Interactive, 4.0.0\"\n",
"#r \"nuget: FSharp.Stats\"\n"]
          }
,
          {
           "cell_type": "markdown",
           "metadata": {},
           
           "source": ["# Cross validation\n",
"\n",
"[![Binder](https://mybinder.org/badge_logo.svg)](https://mybinder.org/v2/gh/fslaborg/FSharp.Stats/gh-pages?urlpath=/tree/home/jovyan/CrossValidation.ipynb)\n",
"[![Notebook](https://fslab.org/FSharp.Stats/img/badge-notebook.svg)](https://fslab.org/FSharp.Stats/CrossValidation.ipynb)\n",
"\n",
"**Summary:** this tutorial demonstrates how to perform several types of cross validation with FSharp.Stats.\n",
"\n",
"### Table of contents\n",
"\n",
"* [Leave-one-out cross validation (LOOCV)](#Leave-one-out-cross-validation-LOOCV)\n",
"\n",
"  * [Procedure](#Procedure)\n",
"  \n",
"  * [Polynomial loocv](#Polynomial-loocv)\n",
"  \n",
"  * [Smoothing spline loocv](#Smoothing-spline-loocv)\n",
"  \n",
"\n",
"* [k fold cross validation](#k-fold-cross-validation)\n",
"\n",
"* [Shuffle and split cross validation](#Shuffle-and-split-cross-validation)\n",
"\n",
"## Leave-one-out cross validation (LOOCV)\n",
"\n",
"When fitting a data set it often comes down to the selection of the optimal fitting parameter(s).\n",
"A method to determine these is given by the leave-one-out cross validation (LOOCV). Thereby, the data set is fitted with a\n",
"given parameter range (smoothing strength, polynomial order etc.) in order to select the best.\n",
"\n",
"### Procedure\n",
"\n",
"In each iteration, one data point is excluded from the fitting procedure. The coefficients are determined\n",
"based on the remaining (n-1) data points. The difference of the excluded point with its corresponding fitted point is measured.\n",
"In a two-dimensional problem it is the y-intercept of f(xi) and the y_orig at xi.\n",
"\n",
"After every data point was excluded once, the average (squared) distance is calculated and assigned to the corresponding fitting parameter (polynomial order or smoothing strength).\n",
"The parameter of the model that shows the minimal average error is the best under the given assumptions. It shows the best compromise between over- and underfitting respectively.\n",
"\n",
"### Polynomial loocv\n",
"\n",
"let\u0027s first create some polynomial fits to cross validate:\n",
"\n"]
          }
,
          {
           "cell_type": "code",
           "metadata": {},
            "execution_count": 3, "outputs": [],
           "source": ["open Plotly.NET\n",
"open FSharp.Stats\n",
"open FSharp.Stats.Fitting\n",
"open LinearRegression.OLS\n",
"\n",
"let xV = vector [1. .. 10.]                            \n",
"let yV = vector [1.;20.;51.;40.;37.;6.;-10.;-5.;0.;10.]\n",
"\n",
"// the fitting function fits a polynomial of order \u0027order\u0027 to the training data set (xTrain and yTrain) and applies it to xTest\n",
"let getFitFuncPolynomial xTrain yTrain (xTest:RowVector\u003cfloat\u003e) order = \n",
"    let xDat             = xTrain |\u003e Matrix.toVector\n",
"    let coeffs           = Polynomial.fit order xDat yTrain\n",
"    let predictFunction  = Polynomial.predict  coeffs (xTest.[0])\n",
"    predictFunction\n",
"\n",
"open Plotly.NET\n",
"\n",
"let rawchart() = \n",
"    Chart.Point (xV,yV) \n",
"    |\u003e Chart.withTraceInfo \"raw data\"\n",
"\n",
"let chartOrderOpt = \n",
"    [1 .. 2 .. 10]\n",
"    |\u003e List.map (fun order -\u003e \n",
"        let coeffs = Polynomial.fit order xV yV\n",
"        let predictFunction = Polynomial.predict coeffs\n",
"        [1. .. 0.2 .. 10.]\n",
"        |\u003e List.map (fun x -\u003e x,predictFunction x)\n",
"        |\u003e Chart.Line\n",
"        |\u003e Chart.withTraceInfo (sprintf \"order=%i\" order)\n",
"        )\n",
"    |\u003e fun x -\u003e Chart.combine (rawchart()::x)\n",
"    |\u003e Chart.withTitle \"polynomial fits\"\n",
"    |\u003e Chart.withTemplate ChartTemplates.lightMirrored\n",
"    |\u003e Chart.withXAxisStyle \"x\"\n",
"    |\u003e Chart.withYAxisStyle \"y\"\n"]
          }
,
          {
           "cell_type": "code",
           "metadata": {},
            "execution_count": null, "outputs": [
          {
           "data": {
            "text/html": ["\u003cdiv\u003e\u003cdiv id=\"b7aacfb3-75ef-44be-942f-864d85036c1d\"\u003e\u003c!-- Plotly chart will be drawn inside this DIV --\u003e\u003c/div\u003e\u003cscript type=\"text/javascript\"\u003evar renderPlotly_b7aacfb375ef44be942f864d85036c1d = function() {",
"",
"    var data = [{\"type\":\"scatter\",\"mode\":\"markers\",\"x\":[1.0,2.0,3.0,4.0,5.0,6.0,7.0,8.0,9.0,10.0],\"y\":[1.0,20.0,51.0,40.0,37.0,6.0,-10.0,-5.0,0.0,10.0],\"marker\":{},\"line\":{},\"name\":\"raw data\"},{\"type\":\"scatter\",\"mode\":\"lines\",\"x\":[1.0,1.2,1.4,1.6,1.8,2.0,2.2,2.4000000000000004,2.6,2.8,3.0,3.2,3.4000000000000004,3.6,3.8000000000000003,4.0,4.2,4.4,4.6,4.800000000000001,5.0,5.2,5.4,5.6000000000000005,5.800000000000001,6.0,6.2,6.4,6.6000000000000005,6.800000000000001,7.0,7.2,7.4,7.6000000000000005,7.800000000000001,8.0,8.2,8.4,8.600000000000001,8.8,9.0,9.200000000000001,9.4,9.6,9.8,10.0],\"y\":[29.181818181818027,28.551515151515,27.921212121211976,27.29090909090895,26.660606060605925,26.0303030303029,25.399999999999874,24.76969696969685,24.139393939393827,23.5090909090908,22.878787878787776,22.24848484848475,21.618181818181725,20.9878787878787,20.357575757575674,19.72727272727265,19.096969696969623,18.466666666666598,17.836363636363576,17.206060606060547,16.575757575757525,15.9454545454545,15.315151515151474,14.684848484848448,14.054545454545423,13.4242424242424,12.793939393939375,12.16363636363635,11.533333333333324,10.903030303030299,10.272727272727273,9.642424242424248,9.012121212121222,8.381818181818197,7.7515151515151715,7.1212121212121495,6.490909090909128,5.860606060606099,5.2303030303030695,4.600000000000048,3.9696969696970257,3.3393939393939966,2.7090909090909747,2.0787878787879492,1.4484848484849202,0.8181818181818983],\"marker\":{},\"line\":{},\"name\":\"order=1\"},{\"type\":\"scatter\",\"mode\":\"lines\",\"x\":[1.0,1.2,1.4,1.6,1.8,2.0,2.2,2.4000000000000004,2.6,2.8,3.0,3.2,3.4000000000000004,3.6,3.8000000000000003,4.0,4.2,4.4,4.6,4.800000000000001,5.0,5.2,5.4,5.6000000000000005,5.800000000000001,6.0,6.2,6.4,6.6000000000000005,6.800000000000001,7.0,7.2,7.4,7.6000000000000005,7.800000000000001,8.0,8.2,8.4,8.600000000000001,8.8,9.0,9.200000000000001,9.4,9.6,9.8,10.0],\"y\":[-2.223776223879498,6.154498834416539,13.56144522138188,20.03939393934759,25.63067599064476,30.377622377604503,34.32256410255788,37.507832167836,39.97575757576989,41.76867132869071,42.92890442892949,43.49878787881735,43.520652680685416,43.036829836864676,42.089650349686316,40.72144522148136,38.974545454580934,36.891282051316054,34.513986014017874,31.88498834501752,29.046620046645955,26.041212121234324,22.911095571113748,19.698601398615267,16.446060606070148,13.195804195809046,9.990163170163555,6.8714685314643305,3.882051282042795,1.0642424242298603,-1.5396270396433351,-3.8872261072457377,-5.936223776246152,-7.644289044313723,-8.969090909117028,-9.868298368325327,-10.299580419607366,-10.220606060632008,-9.589044289068397,-8.362564102584997,-6.498834498851124,-3.9555244755357535,-0.6903030303076321,3.3391608391647196,8.175198135211758,13.860139860164963],\"marker\":{},\"line\":{},\"name\":\"order=3\"},{\"type\":\"scatter\",\"mode\":\"lines\",\"x\":[1.0,1.2,1.4,1.6,1.8,2.0,2.2,2.4000000000000004,2.6,2.8,3.0,3.2,3.4000000000000004,3.6,3.8000000000000003,4.0,4.2,4.4,4.6,4.800000000000001,5.0,5.2,5.4,5.6000000000000005,5.800000000000001,6.0,6.2,6.4,6.6000000000000005,6.800000000000001,7.0,7.2,7.4,7.6000000000000005,7.800000000000001,8.0,8.2,8.4,8.600000000000001,8.8,9.0,9.200000000000001,9.4,9.6,9.8,10.0],\"y\":[0.2923070155183206,3.526877663252951,7.7948018460774735,12.732559592317118,18.021958591770048,23.387879426608976,28.59602080228265,33.450644778417555,37.792321999718965,41.49567692687338,44.46713306744911,46.64265820679826,47.98550963895857,48.48397939755443,48.14913948669856,47.01258711189391,45.12418991093472,42.54983118480847,39.369155128597114,35.673312062378784,31.562703662128712,27.14472819062226,22.53152572833619,17.837723404347116,13.178180627237566,8.665734315996076,4.408944130914847,0.5098377044981817,-2.9383441276418125,-5.853402095880256,-8.166433265679302,-9.824085806687208,-10.790813761835125,-11.051131816438101,-10.611870067288919,-9.504428791760802,-7.787033216905456,-5.546988288551802,-2.902933440398556,-0.00709736312410314,2.9524472265297845,5.749528816643306,8.117622331034909,9.747594360149378,10.285448391974569,9.330070042927218],\"marker\":{},\"line\":{},\"name\":\"order=5\"},{\"type\":\"scatter\",\"mode\":\"lines\",\"x\":[1.0,1.2,1.4,1.6,1.8,2.0,2.2,2.4000000000000004,2.6,2.8,3.0,3.2,3.4000000000000004,3.6,3.8000000000000003,4.0,4.2,4.4,4.6,4.800000000000001,5.0,5.2,5.4,5.6000000000000005,5.800000000000001,6.0,6.2,6.4,6.6000000000000005,6.800000000000001,7.0,7.2,7.4,7.6000000000000005,7.800000000000001,8.0,8.2,8.4,8.600000000000001,8.8,9.0,9.200000000000001,9.4,9.6,9.8,10.0],\"y\":[0.7752029608092634,2.009268157635965,5.323267546135924,10.060003721024993,15.656401048537647,21.637042383495366,27.607754117147845,33.24925496513014,38.310883904874316,42.604422671821155,45.99802822376665,48.410290582692014,49.80443146341194,50.18265909838758,49.58069466804049,48.062485745913534,45.715122168016165,42.64396973569817,38.96803716139277,34.81559166656385,30.320038641212506,25.616080774270603,20.836172064230556,16.107282119341058,11.547986156734083,7.265896109797936,3.3554482531477277,-0.10393724545403416,-3.0493094369117273,-5.435236956966946,-7.234440237435848,-8.43799015310583,-9.05505769501832,-9.112199260746081,-8.652162152345,-7.732194872649018,-6.421846810533793,-4.800241905828443,-2.9528108845752286,-0.9674666552033386,1.0697925436654714,3.079867653090105,4.996146370775932,6.770709204431114,8.381169410884922,9.838162230219496],\"marker\":{},\"line\":{},\"name\":\"order=7\"},{\"type\":\"scatter\",\"mode\":\"lines\",\"x\":[1.0,1.2,1.4,1.6,1.8,2.0,2.2,2.4000000000000004,2.6,2.8,3.0,3.2,3.4000000000000004,3.6,3.8000000000000003,4.0,4.2,4.4,4.6,4.800000000000001,5.0,5.2,5.4,5.6000000000000005,5.800000000000001,6.0,6.2,6.4,6.6000000000000005,6.800000000000001,7.0,7.2,7.4,7.6000000000000005,7.800000000000001,8.0,8.2,8.4,8.600000000000001,8.8,9.0,9.200000000000001,9.4,9.6,9.8,10.0],\"y\":[0.8356266222877728,-9.131860872359992,-7.820953463844717,-0.2239154676440337,10.108143116070913,20.791948634233567,30.363703310976977,38.05782226063431,43.61401527778201,47.11314854233084,48.841589755743215,49.183089136928146,48.536678152908706,47.25857784046827,45.62569909005464,43.81798831274371,41.91662349503454,39.91489776393337,37.738540237495044,35.272217122339725,32.38902974063217,28.979980424274117,24.980612003177157,20.39234193866423,15.296408010551659,9.858818859295752,4.325259610209287,-0.9944597311250618,-5.752107429307216,-9.595780501998888,-12.21171925978706,-13.370243026565731,-12.971824036507314,-11.088195831893245,-7.9921912893187255,-4.1687236652869615,-0.29796178263495676,2.799692324377247,4.268738324724836,3.38734395877691,-0.1850538447033614,-6.064344858692493,-12.68372474858188,-16.700317833165172,-12.243697153928224,10.018531494191848],\"marker\":{},\"line\":{},\"name\":\"order=9\"}];",
"",
"    var layout = {\"width\":600,\"height\":600,\"template\":{\"layout\":{\"paper_bgcolor\":\"white\",\"plot_bgcolor\":\"white\",\"xaxis\":{\"ticks\":\"inside\",\"mirror\":\"all\",\"showline\":true,\"zeroline\":true},\"yaxis\":{\"ticks\":\"inside\",\"mirror\":\"all\",\"showline\":true,\"zeroline\":true}},\"data\":{}},\"title\":{\"text\":\"polynomial fits\"},\"xaxis\":{\"title\":{\"text\":\"x\"}},\"yaxis\":{\"title\":{\"text\":\"y\"}}};",
"",
"    var config = {\"responsive\":true};",
"",
"    Plotly.newPlot(\u0027b7aacfb3-75ef-44be-942f-864d85036c1d\u0027, data, layout, config);",
"",
"};",
"",
"renderPlotly_b7aacfb375ef44be942f864d85036c1d();",
"",
"\u003c/script\u003e\u003c/div\u003e"]
        },
           "execution_count": null,
           "metadata": {},
           "output_type": "execute_result"
          }],
           "source": ["chartOrderOpt\n"]
          }
,
          {
           "cell_type": "markdown",
           "metadata": {},
           
           "source": ["And then crossvalidate across the polynomial orders:\n",
"\n"]
          }
,
          {
           "cell_type": "code",
           "metadata": {},
            "execution_count": 5, "outputs": [],
           "source": ["// the error is calculated as the squared difference of fitted and original y value\n",
"let error (f1:float) f2 = pown (f1 - f2) 2\n",
"\n",
"/// Leave-one-out cross validation. Returns the mean squared error of each leave-out at the \n",
"/// specific polynomial order. Minimize for model selection.\n",
"let loocvPolynomial (xData:Vector\u003cfloat\u003e) (yData:Vector\u003cfloat\u003e) order =\n",
"    let xDataMat = Matrix.ofVector xData\n",
"    let getFitFuncPol xTrain yTrain (xTest:RowVector\u003cfloat\u003e) = \n",
"        getFitFuncPolynomial xTrain yTrain xTest order\n",
"    let meanSquaredError = CrossValidation.loocv xDataMat yData getFitFuncPol error\n",
"    \n",
"    meanSquaredError\n",
"\n",
"// polynomial orders that should be checked\n",
"let ordersToCheck = [|1 .. 10|]\n",
"\n",
"let errorPol = \n",
"    ordersToCheck \n",
"    |\u003e Array.map (fun order -\u003e \n",
"        let error = loocvPolynomial xV yV order\n",
"        order,error)\n",
"\n",
"let chartPol = \n",
"    errorPol \n",
"    |\u003e Chart.Line \n",
"    |\u003e Chart.withTemplate ChartTemplates.lightMirrored\n",
"    |\u003e Chart.withXAxisStyle \"polynomial order\"\n",
"    |\u003e Chart.withYAxisStyle \"mean error\"\n",
"    |\u003e Chart.withTitle \"leave one out cross validation (polynomial)\"\n",
"    \n",
"let result = sprintf \"The minimal error is obtained by order=%i\" (errorPol |\u003e Seq.minBy snd |\u003e fst)\n"]
          }
,
          {
           "cell_type": "code",
           "metadata": {},
            "execution_count": null, "outputs": [
          {
           "data": {
            "text/html": ["\u003cdiv\u003e\u003cdiv id=\"0188cde7-4f98-43c5-867b-c78cfb43012f\"\u003e\u003c!-- Plotly chart will be drawn inside this DIV --\u003e\u003c/div\u003e\u003cscript type=\"text/javascript\"\u003evar renderPlotly_0188cde74f9843c5867bc78cfb43012f = function() {",
"",
"    var data = [{\"type\":\"scatter\",\"mode\":\"lines\",\"x\":[1,2,3,4,5,6,7,8,9,10],\"y\":[518.9308915194205,812.7345012199844,166.75463932777865,778.5381081790381,411.17756653180624,872.4700488193091,67360.29677463943,34803.511023421226,783659.4379293614,62429502.83155799],\"marker\":{},\"line\":{}}];",
"",
"    var layout = {\"width\":600,\"height\":600,\"template\":{\"layout\":{\"paper_bgcolor\":\"white\",\"plot_bgcolor\":\"white\",\"xaxis\":{\"ticks\":\"inside\",\"mirror\":\"all\",\"showline\":true,\"zeroline\":true},\"yaxis\":{\"ticks\":\"inside\",\"mirror\":\"all\",\"showline\":true,\"zeroline\":true}},\"data\":{}},\"xaxis\":{\"title\":{\"text\":\"polynomial order\"}},\"yaxis\":{\"title\":{\"text\":\"mean error\"}},\"title\":{\"text\":\"leave one out cross validation (polynomial)\"}};",
"",
"    var config = {\"responsive\":true};",
"",
"    Plotly.newPlot(\u00270188cde7-4f98-43c5-867b-c78cfb43012f\u0027, data, layout, config);",
"",
"};",
"",
"renderPlotly_0188cde74f9843c5867bc78cfb43012f();",
"",
"\u003c/script\u003e\u003c/div\u003e"]
        },
           "execution_count": null,
           "metadata": {},
           "output_type": "execute_result"
          },

          {
           "data": {
            "text/plain": ["\"The minimal error is obtained by order=3\""]
        },
           "execution_count": null,
           "metadata": {},
           "output_type": "execute_result"
          }],
           "source": ["chartPol\n"]
          }
,
          {
           "cell_type": "markdown",
           "metadata": {},
           
           "source": ["### Smoothing spline loocv\n",
"\n",
"A smoothing spline is a non-parametric fitting procedure, fitting cubic polynomials in each interval given by the basis points.\n",
"\n",
"let\u0027s first create some smoothing splines to cross validate:\n",
"\n"]
          }
,
          {
           "cell_type": "code",
           "metadata": {},
            "execution_count": 8, "outputs": [],
           "source": ["// the fitting function fits a smoothing spline with smoothing factor lambda to the training data set (xTrain and yTrain) and applies it to xTest\n",
"let getFitFuncSpline xDat yDat (xDatTrain: RowVector\u003cfloat\u003e) lambda =\n",
"    let xDatVec = xDat |\u003e Matrix.toVector\n",
"    let zippedData = Seq.zip xDatVec yDat |\u003e Array.ofSeq\n",
"    let xValTest = xDatTrain.[0]\n",
"    Spline.smoothingSpline zippedData (xDat |\u003e Array.ofSeq) lambda xValTest\n",
"\n",
"    /// in loocv the border points are chosen so that the support range of the training data set does not cover the test point.\n",
"    /// if splines are used, that are not defined outside the border points use the following:\n",
"    //let xDatSupport = Intervals.create (xDatVec |\u003e Seq.min) (xDatVec |\u003e Seq.max)\n",
"    //if Intervals.liesInInterval xValTest xDatSupport then \n",
"    //Spline.smoothingSpline zippedData (xDat |\u003e Array.ofSeq) lambda xValTest\n",
"    //else nan\n",
"\n",
"let chartSpline = \n",
"    [0.0002;0.002;0.0216;0.2;2.;20.]\n",
"    |\u003e List.map (fun lambda -\u003e \n",
"        let fit = Spline.smoothingSpline (Seq.zip xV yV |\u003e Array.ofSeq) (Array.ofSeq xV) lambda\n",
"        [1. .. 0.2 .. 10.]\n",
"        |\u003e List.map (fun x -\u003e x,fit x)\n",
"        |\u003e Chart.Line\n",
"        |\u003e Chart.withTraceInfo (sprintf \"l=%.4f\" lambda)\n",
"        )\n",
"    |\u003e fun x -\u003e \n",
"        Chart.combine (rawchart()::x)\n",
"    |\u003e Chart.withTemplate ChartTemplates.lightMirrored\n",
"    |\u003e Chart.withXAxisStyle \"x\"\n",
"    |\u003e Chart.withYAxisStyle \"y\"\n",
"    |\u003e Chart.withTitle \"smoothing splines\"\n"]
          }
,
          {
           "cell_type": "code",
           "metadata": {},
            "execution_count": null, "outputs": [
          {
           "data": {
            "text/html": ["\u003cdiv\u003e\u003cdiv id=\"b74b6d6e-2e0c-4b3c-abf6-4318f36e1aa6\"\u003e\u003c!-- Plotly chart will be drawn inside this DIV --\u003e\u003c/div\u003e\u003cscript type=\"text/javascript\"\u003evar renderPlotly_b74b6d6e2e0c4b3cabf64318f36e1aa6 = function() {",
"",
"    var data = [{\"type\":\"scatter\",\"mode\":\"markers\",\"x\":[1.0,2.0,3.0,4.0,5.0,6.0,7.0,8.0,9.0,10.0],\"y\":[1.0,20.0,51.0,40.0,37.0,6.0,-10.0,-5.0,0.0,10.0],\"marker\":{},\"line\":{},\"name\":\"raw data\"},{\"type\":\"scatter\",\"mode\":\"lines\",\"x\":[1.0,1.2,1.4,1.6,1.8,2.0,2.2,2.4000000000000004,2.6,2.8,3.0,3.2,3.4000000000000004,3.6,3.8000000000000003,4.0,4.2,4.4,4.6,4.800000000000001,5.0,5.2,5.4,5.6000000000000005,5.800000000000001,6.0,6.2,6.4,6.6000000000000005,6.800000000000001,7.0,7.2,7.4,7.6000000000000005,7.800000000000001,8.0,8.2,8.4,8.600000000000001,8.8,9.0,9.200000000000001,9.4,9.6,9.8,10.0],\"y\":[0.92724801104624,3.63907391275856,6.641907777313364,10.22675756755314,14.684631246320366,20.306536776457527,27.179124267232087,34.57161241361139,41.548862056987744,47.175734038753475,50.517089200300916,50.95972891992573,49.17821672353686,46.16905667394675,42.928752833967664,40.45380926641197,39.438190520157576,39.365703088344574,39.417613950178534,38.77519008486533,36.61969847161048,32.38594044292597,26.52285474454959,19.732914475525273,12.718592734896724,6.1823626217086485,0.7051221538454528,-3.6185309754452692,-6.815574154072886,-8.912984769949489,-9.937740210985526,-9.958324391205318,-9.209247329075346,-7.966525569182171,-6.506175656106828,-5.10421413442721,-3.967181459074641,-3.0237137263360037,-2.132970942842853,-1.1541131152292827,0.05369974986769677,1.595507812561312,3.4331518999404764,5.492673005834085,7.700112124061377,9.98151024846588],\"marker\":{},\"line\":{},\"name\":\"l=0.0002\"},{\"type\":\"scatter\",\"mode\":\"lines\",\"x\":[1.0,1.2,1.4,1.6,1.8,2.0,2.2,2.4000000000000004,2.6,2.8,3.0,3.2,3.4000000000000004,3.6,3.8000000000000003,4.0,4.2,4.4,4.6,4.800000000000001,5.0,5.2,5.4,5.6000000000000005,5.800000000000001,6.0,6.2,6.4,6.6000000000000005,6.800000000000001,7.0,7.2,7.4,7.6000000000000005,7.800000000000001,8.0,8.2,8.4,8.600000000000001,8.8,9.0,9.200000000000001,9.4,9.6,9.8,10.0],\"y\":[0.5796064700909724,4.1867339599294695,7.962018861440389,12.073618586296167,16.689690546169214,21.978392152731967,27.975988007586725,34.19117147205529,40.000743097389304,44.78150343484045,47.91025303566042,48.96977558194901,48.36678727919854,46.71398746374956,44.62407547194254,42.709750640117974,41.40306226200718,40.41345946090511,39.26974131749755,37.500706912470285,34.6351553265089,30.359541951815608,24.990947426656657,19.004108700814598,12.87376272407219,7.074646446211926,2.0098537206451756,-2.2040939847018937,-5.522318298273288,-7.899940848514946,-9.292083263871088,-9.701061621886254,-9.31796979650357,-8.381096110768222,-7.128728887723814,-5.799156450410933,-4.57739002517511,-3.43533245154499,-2.2916094723450895,-1.064846830407181,0.3263297314430913,1.9415391549440564,3.7533791201170814,5.71269199153722,7.770320133789063,9.877105911461967],\"marker\":{},\"line\":{},\"name\":\"l=0.0020\"},{\"type\":\"scatter\",\"mode\":\"lines\",\"x\":[1.0,1.2,1.4,1.6,1.8,2.0,2.2,2.4000000000000004,2.6,2.8,3.0,3.2,3.4000000000000004,3.6,3.8000000000000003,4.0,4.2,4.4,4.6,4.800000000000001,5.0,5.2,5.4,5.6000000000000005,5.800000000000001,6.0,6.2,6.4,6.6000000000000005,6.800000000000001,7.0,7.2,7.4,7.6000000000000005,7.800000000000001,8.0,8.2,8.4,8.600000000000001,8.8,9.0,9.200000000000001,9.4,9.6,9.8,10.0],\"y\":[1.2751151284982534,5.986320109351016,10.687335640995196,15.367972274222202,20.01804055982344,24.627351048590334,29.15715039595122,33.454429675882146,37.33761606699606,40.625136747905984,43.135418897224845,44.735436490499524,45.48635069101243,45.49786945897983,44.87970075461804,43.741552538143374,42.17003676644793,40.15938138312719,37.680718328452535,34.705179542695284,31.203896966126738,27.18378095280832,22.794855511961824,18.222923066598977,13.65378603973168,9.273246854371706,5.246902706034829,1.6595298802525145,-1.4243005649396783,-3.9400175715062633,-5.82305008141182,-7.034610678093886,-7.639046510880934,-7.726488370575195,-7.3870670479783564,-6.710913333891775,-5.777596825698894,-4.624442347105595,-3.2782135283985387,-1.765673999865046,-0.11358739179288224,1.651983822270532,3.5077817957367534,5.431249838753174,7.399831261470479,9.390969374038669],\"marker\":{},\"line\":{},\"name\":\"l=0.0216\"},{\"type\":\"scatter\",\"mode\":\"lines\",\"x\":[1.0,1.2,1.4,1.6,1.8,2.0,2.2,2.4000000000000004,2.6,2.8,3.0,3.2,3.4000000000000004,3.6,3.8000000000000003,4.0,4.2,4.4,4.6,4.800000000000001,5.0,5.2,5.4,5.6000000000000005,5.800000000000001,6.0,6.2,6.4,6.6000000000000005,6.800000000000001,7.0,7.2,7.4,7.6000000000000005,7.800000000000001,8.0,8.2,8.4,8.600000000000001,8.8,9.0,9.200000000000001,9.4,9.6,9.8,10.0],\"y\":[9.634494601532586,12.763509562595184,15.857986545251629,18.88338757109577,21.805174661721445,24.588809838722508,27.196695917133663,29.578998885753073,31.68282552681975,33.45528262257274,34.843476955251056,35.80528632245687,36.34167258324508,36.46436861203374,36.185107283240896,35.51562147128459,34.470633636268644,33.07682458103997,31.363864694131244,29.361424364075148,27.09917397940437,24.613384479332005,21.96672900579298,19.228481251402673,16.46791490877642,13.754303670529573,11.151751693497111,8.703684991392489,6.4483600421487575,4.424033323698934,2.6689613139761774,1.2129545167041618,0.05203953876943447,-0.8262029871507808,-1.434192428379225,-1.7843481522387927,-1.8912332939507004,-1.7779860603302222,-1.4698884260912488,-0.9922223659477544,-0.3702698546133435,0.37093397976743747,1.207341395330217,2.1151514967787124,3.0705633888182984,4.049776176153117],\"marker\":{},\"line\":{},\"name\":\"l=0.2000\"},{\"type\":\"scatter\",\"mode\":\"lines\",\"x\":[1.0,1.2,1.4,1.6,1.8,2.0,2.2,2.4000000000000004,2.6,2.8,3.0,3.2,3.4000000000000004,3.6,3.8000000000000003,4.0,4.2,4.4,4.6,4.800000000000001,5.0,5.2,5.4,5.6000000000000005,5.800000000000001,6.0,6.2,6.4,6.6000000000000005,6.800000000000001,7.0,7.2,7.4,7.6000000000000005,7.800000000000001,8.0,8.2,8.4,8.600000000000001,8.8,9.0,9.200000000000001,9.4,9.6,9.8,10.0],\"y\":[22.629141741920183,23.068911162905213,23.50002892719348,23.913843378088213,24.30170285889265,24.654955712910027,24.96463995306271,25.220552270749643,25.412179026988873,25.529006582798488,25.560521299196537,25.49790550244782,25.33912537980401,25.083843083763497,24.731720766824676,24.28242058148595,23.7366525188736,23.099317924625527,22.376365983007524,21.573745878285376,20.697406794724873,19.754384756138837,18.756063144528145,17.71491218144071,16.643402088424445,15.554003087027251,14.458548465257893,13.366323776968626,12.285977642472517,11.226158682082671,10.195515516112199,9.2013503971731,8.245580107073094,7.328775059918857,6.45150566981702,5.614342350874225,4.81714789437378,4.056954600305302,3.330087145835142,2.6328702081295954,1.961628464354956,1.3125558164465314,0.681323065415946,0.06347023704364219,-0.5454626428898027,-1.149935548603761],\"marker\":{},\"line\":{},\"name\":\"l=2.0000\"},{\"type\":\"scatter\",\"mode\":\"lines\",\"x\":[1.0,1.2,1.4,1.6,1.8,2.0,2.2,2.4000000000000004,2.6,2.8,3.0,3.2,3.4000000000000004,3.6,3.8000000000000003,4.0,4.2,4.4,4.6,4.800000000000001,5.0,5.2,5.4,5.6000000000000005,5.800000000000001,6.0,6.2,6.4,6.6000000000000005,6.800000000000001,7.0,7.2,7.4,7.6000000000000005,7.800000000000001,8.0,8.2,8.4,8.600000000000001,8.8,9.0,9.200000000000001,9.4,9.6,9.8,10.0],\"y\":[28.166439319486322,27.689346614121195,27.211167251183284,26.730814573099817,26.24720192229801,25.759242641205088,25.265811677297325,24.765630398247243,24.257381776776406,23.739748785606384,23.211414397458753,22.671246842292444,22.118855379015763,21.554034523774394,20.97657879271402,20.386282701980303,19.783071525834238,19.1673935709981,18.539827902309497,17.900953584606004,17.25134968272523,16.591726919173546,15.923322647132453,15.24750587745224,14.565645620983195,13.879110888575603,13.189218163673821,12.497073820098521,11.80373170426444,11.110245662586326,10.417669541478926,9.726921069560026,9.038373504259662,8.352263985210922,7.668829652046879,6.988307644400625,6.310855179854278,5.636309787786104,4.964429075523404,4.294970650393511,3.6276921197237173,2.962326906227189,2.2985116941605983,1.6358589831664472,0.9739812728872499,0.31249106296554363],\"marker\":{},\"line\":{},\"name\":\"l=20.0000\"}];",
"",
"    var layout = {\"width\":600,\"height\":600,\"template\":{\"layout\":{\"paper_bgcolor\":\"white\",\"plot_bgcolor\":\"white\",\"xaxis\":{\"ticks\":\"inside\",\"mirror\":\"all\",\"showline\":true,\"zeroline\":true},\"yaxis\":{\"ticks\":\"inside\",\"mirror\":\"all\",\"showline\":true,\"zeroline\":true}},\"data\":{}},\"xaxis\":{\"title\":{\"text\":\"x\"}},\"yaxis\":{\"title\":{\"text\":\"y\"}},\"title\":{\"text\":\"smoothing splines\"}};",
"",
"    var config = {\"responsive\":true};",
"",
"    Plotly.newPlot(\u0027b74b6d6e-2e0c-4b3c-abf6-4318f36e1aa6\u0027, data, layout, config);",
"",
"};",
"",
"renderPlotly_b74b6d6e2e0c4b3cabf64318f36e1aa6();",
"",
"\u003c/script\u003e\u003c/div\u003e"]
        },
           "execution_count": null,
           "metadata": {},
           "output_type": "execute_result"
          }],
           "source": ["chartSpline\n"]
          }
,
          {
           "cell_type": "markdown",
           "metadata": {},
           
           "source": ["And then crossvalidate across different lambda values:\n",
"\n"]
          }
,
          {
           "cell_type": "code",
           "metadata": {},
            "execution_count": 10, "outputs": [],
           "source": ["// the error is calculated as the squared difference of fitted and original y value\n",
"let errorSpl (f1:float) f2 = \n",
"    // if xValue is outside of support area of the fitted model (some smoothing spline algorithms), the error should report 0.\n",
"    //if nan.Equals f1 then 0.\n",
"    //else pown (f1 - f2) 2\n",
"    pown (f1 - f2) 2\n",
"\n",
"/// Leave-one-out cross validation. Returns the mean squared error of each leave-out at the \n",
"/// specific regularization parameter (lambda). Minimize the (MSE) for model selection.\n",
"let loocvSmoothingSpline (xData:Vector\u003cfloat\u003e) (yData:Vector\u003cfloat\u003e) lambda =\n",
"    let xDataMat = Matrix.ofVector xData\n",
"    let getFitFuncSpl xDat yDat (xDatTrain: RowVector\u003cfloat\u003e) =\n",
"        getFitFuncSpline xDat yDat xDatTrain lambda\n",
"    \n",
"    CrossValidation.loocv xDataMat yData getFitFuncSpl errorSpl\n",
"\n",
"// smoothing parameter = lambda = regularization parameter\n",
"let lambdasToCheck = [|1. .. 15.|] |\u003e Array.map (fun i -\u003e 0.0001 * i**3.)\n",
"\n",
"let errorSpline = \n",
"    lambdasToCheck \n",
"    |\u003e Array.map (fun lambda -\u003e \n",
"        //basisPoints define, where the knots of the spline are located\n",
"        let error = loocvSmoothingSpline xV yV lambda\n",
"        lambda,error)\n",
"\n",
"let chartSplineError = \n",
"    errorSpline \n",
"    |\u003e Chart.Line \n",
"    |\u003e Chart.withTemplate ChartTemplates.lightMirrored\n",
"    |\u003e Chart.withXAxisStyle \"lambda\"\n",
"    |\u003e Chart.withYAxisStyle \"mean error\"\n",
"    |\u003e Chart.withTitle \"leave one out cross validation (smoothing spline)\"\n",
"    \n",
"let resultSpline = sprintf \"The minimal error is obtained by lambda=%f\" (errorSpline |\u003e Seq.minBy snd |\u003e fst)\n"]
          }
,
          {
           "cell_type": "code",
           "metadata": {},
            "execution_count": null, "outputs": [
          {
           "data": {
            "text/html": ["\u003cdiv\u003e\u003cdiv id=\"9e588501-0cab-40a0-b228-cfd129675127\"\u003e\u003c!-- Plotly chart will be drawn inside this DIV --\u003e\u003c/div\u003e\u003cscript type=\"text/javascript\"\u003evar renderPlotly_9e5885010cab40a0b228cfd129675127 = function() {",
"",
"    var data = [{\"type\":\"scatter\",\"mode\":\"lines\",\"x\":[0.0001,0.0008,0.0027,0.0064,0.0125,0.0216,0.034300000000000004,0.0512,0.0729,0.1,0.1331,0.1728,0.2197,0.27440000000000003,0.3375],\"y\":[177.50287296448602,155.54884396184133,121.60445548451654,93.68905675088232,77.83313559908747,73.05645531644781,78.05763861073224,92.02643300406768,114.0335855100406,142.67170657331891,176.07478362995715,212.16071605790688,248.92997100776202,284.70093185655224,318.23138422073504],\"marker\":{},\"line\":{}}];",
"",
"    var layout = {\"width\":600,\"height\":600,\"template\":{\"layout\":{\"paper_bgcolor\":\"white\",\"plot_bgcolor\":\"white\",\"xaxis\":{\"ticks\":\"inside\",\"mirror\":\"all\",\"showline\":true,\"zeroline\":true},\"yaxis\":{\"ticks\":\"inside\",\"mirror\":\"all\",\"showline\":true,\"zeroline\":true}},\"data\":{}},\"xaxis\":{\"title\":{\"text\":\"lambda\"}},\"yaxis\":{\"title\":{\"text\":\"mean error\"}},\"title\":{\"text\":\"leave one out cross validation (smoothing spline)\"}};",
"",
"    var config = {\"responsive\":true};",
"",
"    Plotly.newPlot(\u00279e588501-0cab-40a0-b228-cfd129675127\u0027, data, layout, config);",
"",
"};",
"",
"renderPlotly_9e5885010cab40a0b228cfd129675127();",
"",
"\u003c/script\u003e\u003c/div\u003e"]
        },
           "execution_count": null,
           "metadata": {},
           "output_type": "execute_result"
          },

          {
           "data": {
            "text/plain": ["\"The minimal error is obtained by lambda=0.021600\""]
        },
           "execution_count": null,
           "metadata": {},
           "output_type": "execute_result"
          }],
           "source": ["chartSplineError\n"]
          }
,
          {
           "cell_type": "markdown",
           "metadata": {},
           
           "source": ["## k fold cross validation\n",
"\n",
"The k fold cross validation (kfcv) is a generalized form of the loocv. Rather than excluding every data point separately, kfcv\n",
"allows the exclusion of data chunks with a defined fraction of the data points. When using k=10, the data is split up into 10 chunks of sub data sets each\n",
"containing 10% of the data set.\n",
"\n",
"In each loop one chunk is excluded (test data), while the other 9 chunks serve as training data. After 10 (k) loops every single point was evaluated as test data set once\n",
"and k-1 times as training data. The selection of the subset chunks is random and can be repeated in several iterations.\n",
"The output contains the average error together with the standardDeviation computed by the given function.\n",
"\n"]
          }
,
          {
           "cell_type": "code",
           "metadata": {},
            "execution_count": 13, "outputs": [],
           "source": ["//repeated k fold cross validation for polynomials\n",
"let repeatedKFoldPolynomial k (xData: Vector\u003cfloat\u003e) (yData: Vector\u003cfloat\u003e) order =\n",
"    let xDataMat = xData |\u003e Matrix.Generic.ofVector\n",
"    \n",
"    let getFitFuncPol xTrain yTrain (xTest:RowVector\u003cfloat\u003e) = \n",
"        getFitFuncPolynomial xTrain yTrain xTest order\n",
"        \n",
"    CrossValidation.repeatedKFold k 10 xDataMat yData getFitFuncPol error Seq.stDev\n",
"\n",
"//creates an output for 10 iterations where defined 20 % of the data set are taken as testing data set\n",
"let kfPolynomial order = repeatedKFoldPolynomial 5 xV yV order\n",
"\n",
"//repeated k fold cross validation for smoothing splines\n",
"let repeatedKFoldSpline k (xData: Vector\u003cfloat\u003e) (yData: Vector\u003cfloat\u003e) lambda =\n",
"    let xDataMat = xData |\u003e Matrix.ofVector\n",
"    \n",
"    let getFitFuncSpl xDat yDat (xDatTrain: RowVector\u003cfloat\u003e) =\n",
"        getFitFuncSpline xDat yDat xDatTrain lambda\n",
"\n",
"    CrossValidation.repeatedKFold k 10 xDataMat yData getFitFuncSpl errorSpl Seq.stDev\n",
"\n",
"//creates an output for 10 iterations where defined 20 % of the data set are taken as testing data set\n",
"let kfSpline lambda = repeatedKFoldSpline 5 xV yV lambda\n"]
          }
,
          {
           "cell_type": "markdown",
           "metadata": {},
           
           "source": ["The given data set is small and therefore the mean errors show a high variability\n",
"\n"]
          }
,
          {
           "cell_type": "code",
           "metadata": {},
            "execution_count": 14, "outputs": [],
           "source": ["let kfp = \n",
"    let errorSplinekf = \n",
"        ordersToCheck \n",
"        |\u003e Array.map (fun order -\u003e \n",
"            //basisPoints define, where the knots of the spline are located\n",
"            let error = kfPolynomial order\n",
"            (order,error.Error),error.ErrorStDev)\n",
"        |\u003e Array.unzip\n",
"\n",
"    fst errorSplinekf \n",
"    |\u003e Chart.Line \n",
"    |\u003e Chart.withTemplate ChartTemplates.lightMirrored\n",
"    |\u003e Chart.withXAxisStyle \"order\"\n",
"    |\u003e Chart.withYAxisStyle \"mean error\"\n",
"    |\u003e Chart.withYAxis(LayoutObjects.LinearAxis.init(AxisType=StyleParam.AxisType.Log))\n",
"    |\u003e Chart.withYErrorStyle (Array= snd errorSplinekf)\n",
"    |\u003e Chart.withTitle \"kfoldPolynomial error\"\n"]
          }
,
          {
           "cell_type": "code",
           "metadata": {},
            "execution_count": null, "outputs": [
          {
           "data": {
            "text/html": ["\u003cdiv\u003e\u003cdiv id=\"efc76e16-a84e-47d3-b88b-f30edf1fd9be\"\u003e\u003c!-- Plotly chart will be drawn inside this DIV --\u003e\u003c/div\u003e\u003cscript type=\"text/javascript\"\u003evar renderPlotly_efc76e16a84e47d3b88bf30edf1fd9be = function() {",
"",
"    var data = [{\"type\":\"scatter\",\"mode\":\"lines\",\"x\":[1,2,3,4,5,6,7,8,9,10],\"y\":[540.9429672896038,1006.4944827349269,263.0314745572115,1311.0411478302592,722.9583089927254,16666.649768614363,930841.9289995646,1711189.7623837213,5013397.677713027,21460466.60643882],\"marker\":{},\"line\":{},\"error_y\":{\"array\":[82.52276640551784,676.8015065757924,85.74712639064639,1500.0432733019666,507.71634202160567,20548.0054047222,1923851.79175148,4286334.420176202,14520540.694147302,35400455.653929844]}}];",
"",
"    var layout = {\"width\":600,\"height\":600,\"template\":{\"layout\":{\"paper_bgcolor\":\"white\",\"plot_bgcolor\":\"white\",\"xaxis\":{\"ticks\":\"inside\",\"mirror\":\"all\",\"showline\":true,\"zeroline\":true},\"yaxis\":{\"ticks\":\"inside\",\"mirror\":\"all\",\"showline\":true,\"zeroline\":true}},\"data\":{}},\"xaxis\":{\"title\":{\"text\":\"order\"}},\"yaxis\":{\"title\":{\"text\":\"mean error\"},\"type\":\"log\"},\"title\":{\"text\":\"kfoldPolynomial error\"}};",
"",
"    var config = {\"responsive\":true};",
"",
"    Plotly.newPlot(\u0027efc76e16-a84e-47d3-b88b-f30edf1fd9be\u0027, data, layout, config);",
"",
"};",
"",
"renderPlotly_efc76e16a84e47d3b88bf30edf1fd9be();",
"",
"\u003c/script\u003e\u003c/div\u003e"]
        },
           "execution_count": null,
           "metadata": {},
           "output_type": "execute_result"
          }],
           "source": ["kfp\n"]
          }
,
          {
           "cell_type": "code",
           "metadata": {},
            "execution_count": 16, "outputs": [],
           "source": ["let kfs = \n",
"    let errorSplinekf = \n",
"        lambdasToCheck \n",
"        |\u003e Array.map (fun lambda -\u003e \n",
"            //basisPoints define, where the knots of the spline are located\n",
"            let error = kfSpline lambda\n",
"            (lambda,error.Error),error.ErrorStDev)\n",
"        |\u003e Array.unzip\n",
"\n",
"    fst errorSplinekf \n",
"    |\u003e Chart.Line \n",
"    |\u003e Chart.withTemplate ChartTemplates.lightMirrored\n",
"    |\u003e Chart.withXAxisStyle \"lambda\"\n",
"    |\u003e Chart.withYAxisStyle \"mean error\"\n",
"    |\u003e Chart.withYErrorStyle (Array= snd errorSplinekf)\n",
"    |\u003e Chart.withTitle \"kfoldSpline error\"\n"]
          }
,
          {
           "cell_type": "code",
           "metadata": {},
            "execution_count": null, "outputs": [
          {
           "data": {
            "text/html": ["\u003cdiv\u003e\u003cdiv id=\"1761ff83-bd20-49e4-9c24-33f17a9b522c\"\u003e\u003c!-- Plotly chart will be drawn inside this DIV --\u003e\u003c/div\u003e\u003cscript type=\"text/javascript\"\u003evar renderPlotly_1761ff83bd2049e49c2433f17a9b522c = function() {",
"",
"    var data = [{\"type\":\"scatter\",\"mode\":\"lines\",\"x\":[0.0001,0.0008,0.0027,0.0064,0.0125,0.0216,0.034300000000000004,0.0512,0.0729,0.1,0.1331,0.1728,0.2197,0.27440000000000003,0.3375],\"y\":[385.0762283437517,211.81714903601664,188.16687776446082,89.71199130512579,139.25756464214618,194.42514597877488,82.23837083333032,120.21921151705392,225.5730653068635,309.91793397287665,244.720626713432,317.6845594945734,248.85105762136104,369.16406898150257,328.1802269498171],\"marker\":{},\"line\":{},\"error_y\":{\"array\":[378.20614277540136,229.91266032721273,227.582247782981,6.919846151310957,187.78098091606094,254.45320956668908,12.893576342688148,41.22436685352632,248.98853315739967,340.4499244833137,226.33686739402896,246.18111755655613,24.103264729663778,229.3797372981955,92.69440382738361]}}];",
"",
"    var layout = {\"width\":600,\"height\":600,\"template\":{\"layout\":{\"paper_bgcolor\":\"white\",\"plot_bgcolor\":\"white\",\"xaxis\":{\"ticks\":\"inside\",\"mirror\":\"all\",\"showline\":true,\"zeroline\":true},\"yaxis\":{\"ticks\":\"inside\",\"mirror\":\"all\",\"showline\":true,\"zeroline\":true}},\"data\":{}},\"xaxis\":{\"title\":{\"text\":\"lambda\"}},\"yaxis\":{\"title\":{\"text\":\"mean error\"}},\"title\":{\"text\":\"kfoldSpline error\"}};",
"",
"    var config = {\"responsive\":true};",
"",
"    Plotly.newPlot(\u00271761ff83-bd20-49e4-9c24-33f17a9b522c\u0027, data, layout, config);",
"",
"};",
"",
"renderPlotly_1761ff83bd2049e49c2433f17a9b522c();",
"",
"\u003c/script\u003e\u003c/div\u003e"]
        },
           "execution_count": null,
           "metadata": {},
           "output_type": "execute_result"
          }],
           "source": ["kfs\n"]
          }
,
          {
           "cell_type": "markdown",
           "metadata": {},
           
           "source": ["## Shuffle and split cross validation\n",
"\n",
"The shuffle and split cross validation (sap) is a modified kfcv version. As in kfcv, sap\n",
"allows the exclusion of data chunks with a defined fraction of the data points. When using p=0.3, 30% of the data are taken as testing data set\n",
"while 70% serve as training data set. In sap by default only one testing set is evaluated (unlike to kfcv\n",
"where every data point is once part of a training data set and k-1 times part of testing data set).\n",
"\n",
"Sap can be performed multiple times. Each time the training data fraction is taken randomly from the original data set. Unlike in kfcv overlaps may occur.\n",
"The output contains the average error together with the standardDeviation computed by the given function.\n",
"\n"]
          }
,
          {
           "cell_type": "code",
           "metadata": {},
            "execution_count": 18, "outputs": [],
           "source": ["let shuffleAndSplitPolynomial p iterations (xData: Vector\u003cfloat\u003e) (yData: Vector\u003cfloat\u003e) order =\n",
"   let xDataMat = xData |\u003e Matrix.ofVector\n",
"   \n",
"   let getFitFuncPol xTrain yTrain (xTest:RowVector\u003cfloat\u003e) = \n",
"       getFitFuncPolynomial xTrain yTrain xTest order\n",
"   \n",
"   CrossValidation.shuffelAndSplit p iterations xDataMat yData getFitFuncPol error Seq.stDev\n",
"\n",
"//creates an output for 5 iterations where random 20 % of the data set are taken as testing data set\n",
"let sasPolynomial order = shuffleAndSplitPolynomial 0.2 5 xV yV order\n",
"\n",
"let shuffleAndSplitSpline p iterations (xData: Vector\u003cfloat\u003e) (yData: Vector\u003cfloat\u003e) lambda =\n",
"    let xDataMat = xData |\u003e Matrix.ofVector\n",
"   \n",
"    let getFitFuncSpl xDat yDat (xDatTrain: RowVector\u003cfloat\u003e) =\n",
"        getFitFuncSpline xDat yDat xDatTrain lambda\n",
"   \n",
"    CrossValidation.shuffelAndSplit p iterations xDataMat yData getFitFuncSpl errorSpl Seq.stDev\n",
"\n",
"//creates an output for 5 iterations where random 20 % of the data set are taken as testing data set\n",
"let sasSpline lambda = shuffleAndSplitSpline 0.2 5 xV yV lambda\n"]
          }
,
          {
           "cell_type": "markdown",
           "metadata": {},
           
           "source": ["The given data set is small and therefore the mean errors show a high variability.\n",
"\n"]
          }
,
          {
           "cell_type": "code",
           "metadata": {},
            "execution_count": 19, "outputs": [],
           "source": ["let sasp = \n",
"    let errorSplinekf = \n",
"        ordersToCheck \n",
"        |\u003e Array.map (fun order -\u003e \n",
"            //basisPoints define, where the knots of the spline are located\n",
"            let error = sasPolynomial order\n",
"            (order,error.Error),error.ErrorStDev)\n",
"        |\u003e Array.unzip\n",
"\n",
"    fst errorSplinekf \n",
"    |\u003e Chart.Line \n",
"    |\u003e Chart.withTemplate ChartTemplates.lightMirrored\n",
"    |\u003e Chart.withXAxisStyle \"order\"\n",
"    |\u003e Chart.withYAxisStyle \"mean error\"\n",
"    |\u003e Chart.withYAxis(LayoutObjects.LinearAxis.init(AxisType=StyleParam.AxisType.Log))\n",
"    |\u003e Chart.withYErrorStyle (Array= snd errorSplinekf)\n",
"    |\u003e Chart.withTitle \"shuffle_and_split polynomial error\"\n"]
          }
,
          {
           "cell_type": "code",
           "metadata": {},
            "execution_count": null, "outputs": [
          {
           "data": {
            "text/html": ["\u003cdiv\u003e\u003cdiv id=\"f1be953a-8a09-4a6a-aeb4-e2bb9df5bd81\"\u003e\u003c!-- Plotly chart will be drawn inside this DIV --\u003e\u003c/div\u003e\u003cscript type=\"text/javascript\"\u003evar renderPlotly_f1be953a8a094a6aaeb4e2bb9df5bd81 = function() {",
"",
"    var data = [{\"type\":\"scatter\",\"mode\":\"lines\",\"x\":[1,2,3,4,5,6,7,8,9,10],\"y\":[507.66850945220176,783.5305042722823,134.66667875561012,1255.904514043897,326.318092225032,4225.161663106424,7399.497146979256,799.3553821951276,114794.07971879988,10569.376376753398],\"marker\":{},\"line\":{},\"error_y\":{\"array\":[244.67545966303712,412.1429128165476,43.24225961886035,1522.8191179976561,236.03476234159328,5723.114571537221,15129.775877648986,794.4232095314649,256075.5705543756,18906.66304211823]}}];",
"",
"    var layout = {\"width\":600,\"height\":600,\"template\":{\"layout\":{\"paper_bgcolor\":\"white\",\"plot_bgcolor\":\"white\",\"xaxis\":{\"ticks\":\"inside\",\"mirror\":\"all\",\"showline\":true,\"zeroline\":true},\"yaxis\":{\"ticks\":\"inside\",\"mirror\":\"all\",\"showline\":true,\"zeroline\":true}},\"data\":{}},\"xaxis\":{\"title\":{\"text\":\"order\"}},\"yaxis\":{\"title\":{\"text\":\"mean error\"},\"type\":\"log\"},\"title\":{\"text\":\"shuffle_and_split polynomial error\"}};",
"",
"    var config = {\"responsive\":true};",
"",
"    Plotly.newPlot(\u0027f1be953a-8a09-4a6a-aeb4-e2bb9df5bd81\u0027, data, layout, config);",
"",
"};",
"",
"renderPlotly_f1be953a8a094a6aaeb4e2bb9df5bd81();",
"",
"\u003c/script\u003e\u003c/div\u003e"]
        },
           "execution_count": null,
           "metadata": {},
           "output_type": "execute_result"
          }],
           "source": ["sasp\n"]
          }
,
          {
           "cell_type": "code",
           "metadata": {},
            "execution_count": 21, "outputs": [],
           "source": ["let sass = \n",
"    let errorSplinekf = \n",
"        lambdasToCheck \n",
"        |\u003e Array.map (fun lambda -\u003e \n",
"            //basisPoints define, where the knots of the spline are located\n",
"            let error = sasSpline lambda\n",
"            (lambda,error.Error),error.ErrorStDev)\n",
"        |\u003e Array.unzip\n",
"\n",
"    fst errorSplinekf \n",
"    |\u003e Chart.Line \n",
"    |\u003e Chart.withTemplate ChartTemplates.lightMirrored\n",
"    |\u003e Chart.withXAxisStyle \"lambda\"\n",
"    |\u003e Chart.withYAxisStyle \"mean error\"\n",
"    |\u003e Chart.withYErrorStyle (Array= snd errorSplinekf)\n",
"    |\u003e Chart.withTitle \"shuffle_and_split spline error\"\n"]
          }
,
          {
           "cell_type": "code",
           "metadata": {},
            "execution_count": null, "outputs": [
          {
           "data": {
            "text/html": ["\u003cdiv\u003e\u003cdiv id=\"a7337bf8-6961-493b-a55f-9247b4c05934\"\u003e\u003c!-- Plotly chart will be drawn inside this DIV --\u003e\u003c/div\u003e\u003cscript type=\"text/javascript\"\u003evar renderPlotly_a7337bf86961493ba55f9247b4c05934 = function() {",
"",
"    var data = [{\"type\":\"scatter\",\"mode\":\"lines\",\"x\":[0.0001,0.0008,0.0027,0.0064,0.0125,0.0216,0.034300000000000004,0.0512,0.0729,0.1,0.1331,0.1728,0.2197,0.27440000000000003,0.3375],\"y\":[131.45470498165224,141.78557408860001,86.3601304697953,41.04497719579635,118.35061181638969,98.19573296577326,704.4172038896643,68.44457424102805,88.03769053574905,104.88098288430501,278.7744411331351,202.6049007574356,191.24770827904095,351.6467233794544,191.7022947222253],\"marker\":{},\"line\":{},\"error_y\":{\"array\":[95.56510407155348,17.707835082690252,26.772678051999726,27.639986538218054,53.036528961619986,52.32489953136268,1402.8770630604456,51.99422870312511,77.71945954048365,71.40032876414637,58.65936274123947,123.44870496858982,167.2622997478985,220.4874281058519,212.5671664867446]}}];",
"",
"    var layout = {\"width\":600,\"height\":600,\"template\":{\"layout\":{\"paper_bgcolor\":\"white\",\"plot_bgcolor\":\"white\",\"xaxis\":{\"ticks\":\"inside\",\"mirror\":\"all\",\"showline\":true,\"zeroline\":true},\"yaxis\":{\"ticks\":\"inside\",\"mirror\":\"all\",\"showline\":true,\"zeroline\":true}},\"data\":{}},\"xaxis\":{\"title\":{\"text\":\"lambda\"}},\"yaxis\":{\"title\":{\"text\":\"mean error\"}},\"title\":{\"text\":\"shuffle_and_split spline error\"}};",
"",
"    var config = {\"responsive\":true};",
"",
"    Plotly.newPlot(\u0027a7337bf8-6961-493b-a55f-9247b4c05934\u0027, data, layout, config);",
"",
"};",
"",
"renderPlotly_a7337bf86961493ba55f9247b4c05934();",
"",
"\u003c/script\u003e\u003c/div\u003e"]
        },
           "execution_count": null,
           "metadata": {},
           "output_type": "execute_result"
          }],
           "source": ["sass\n"]
          }],
            "metadata": {
            "kernelspec": {"display_name": ".NET (F#)", "language": "F#", "name": ".net-fsharp"},
            "langauge_info": {
        "file_extension": ".fs",
        "mimetype": "text/x-fsharp",
        "name": "C#",
        "pygments_lexer": "fsharp",
        "version": "4.5"
        }
        },
            "nbformat": 4,
            "nbformat_minor": 1
        }
        

