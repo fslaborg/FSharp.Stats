
        {
            "cells": [
          {
           "cell_type": "markdown",
           "metadata": {},
           
           "source": []
          }
,
          {
           "cell_type": "code",
           "metadata": {},
            "execution_count": null, "outputs": [],
           "source": ["#r \"nuget: Plotly.NET, 4.0.0\"\n",
"#r \"nuget: Plotly.NET.Interactive, 4.0.0\"\n",
"#r \"nuget: FSharp.Stats\"\n",
"\n",
"open Plotly.NET\n"]
          }
,
          {
           "cell_type": "markdown",
           "metadata": {},
           
           "source": ["# Interpolation\n",
"\n",
"[![Binder](https://mybinder.org/badge_logo.svg)](https://mybinder.org/v2/gh/fslaborg/FSharp.Stats/gh-pages?urlpath=/tree/home/jovyan/Interpolation.ipynb)\n",
"[![Notebook](https://fslab.org/FSharp.Stats/img/badge-notebook.svg)](https://fslab.org/FSharp.Stats/Interpolation.ipynb)\n",
"\n",
"**Summary:** This tutorial demonstrates several ways of interpolating with FSharp.Stats\n",
"\n",
"### Table of contents\n",
"\n",
"* [Polynomial interpolation](#Polynomial-interpolation)\n",
"\n",
"* [Cubic interpolating Spline](#Cubic-interpolating-Spline)\n",
"\n",
"* [Hermite interpolation](#Hermite-interpolation)\n",
"\n",
"* [Chebyshev function approximation](#Chebyshev-function-approximation)\n",
"\n",
"## Polynomial Interpolation\n",
"\n",
"Here a polynomial is fitted to the data. In general, a polynomial with degree = dataPointNumber - 1 has sufficient flexibility to interpolate all data points.\n",
"The least squares approach is not sufficient to converge to an interpolating polynomial! A degree other than n-1 results in a regression polynomial.\n",
"\n"]
          }
,
          {
           "cell_type": "code",
           "metadata": {},
            "execution_count": 3, "outputs": [],
           "source": ["open Plotly.NET\n",
"open FSharp.Stats\n",
"\n",
"let xData = vector [|1.;2.;3.;4.;5.;6.|]\n",
"let yData = vector [|4.;7.;9.;8.;7.;9.;|]\n",
"\n",
"//Polynomial interpolation\n",
"\n",
"//Define the polynomial coefficients. In Interpolation the order is equal to the data length - 1.\n",
"let coefficients = \n",
"    Interpolation.Polynomial.coefficients xData yData \n",
"let interpolFunction x = \n",
"    Interpolation.Polynomial.fit coefficients x\n",
"\n",
"let rawChart = \n",
"    Chart.Point(xData,yData)\n",
"    |\u003e Chart.withTraceInfo \"raw data\"\n",
"    \n",
"let interpolPol = \n",
"    let fit = [|1. .. 0.1 .. 6.|] |\u003e Array.map (fun x -\u003e x,interpolFunction x)\n",
"    fit\n",
"    |\u003e Chart.Line\n",
"    |\u003e Chart.withTraceInfo \"interpolating polynomial\"\n",
"\n",
"let chartPol = \n",
"    [rawChart;interpolPol] \n",
"    |\u003e Chart.combine\n",
"    |\u003e Chart.withTemplate ChartTemplates.lightMirrored\n"]
          }
,
          {
           "cell_type": "code",
           "metadata": {},
            "execution_count": null, "outputs": [
          {
           "data": {
            "text/html": ["\u003cdiv\u003e\u003cdiv id=\"40eb3432-c1c5-4506-8795-ff883f9fe526\"\u003e\u003c!-- Plotly chart will be drawn inside this DIV --\u003e\u003c/div\u003e\u003cscript type=\"text/javascript\"\u003evar renderPlotly_40eb3432c1c545068795ff883f9fe526 = function() {",
"",
"    var data = [{\"type\":\"scatter\",\"mode\":\"markers\",\"x\":[1.0,2.0,3.0,4.0,5.0,6.0],\"y\":[4.0,7.0,9.0,8.0,7.0,9.0],\"marker\":{},\"line\":{},\"name\":\"raw data\"},{\"type\":\"scatter\",\"mode\":\"lines\",\"x\":[1.0,1.1,1.2,1.3,1.4,1.5,1.6,1.7000000000000002,1.8,1.9,2.0,2.1,2.2,2.3,2.4000000000000004,2.5,2.6,2.7,2.8,2.9000000000000004,3.0,3.1,3.2,3.3000000000000003,3.4000000000000004,3.5,3.6,3.7,3.8000000000000003,3.9000000000000004,4.0,4.1,4.2,4.300000000000001,4.4,4.5,4.6,4.7,4.800000000000001,4.9,5.0,5.1000000000000005,5.2,5.3,5.4,5.5,5.6000000000000005,5.7,5.800000000000001,5.9,6.0],\"y\":[4.0,4.104103749999994,4.288319999999989,4.536586249999982,4.834239999999981,5.167968749999979,5.525759999999975,5.896851249999972,6.271679999999953,6.641833749999961,6.999999999999958,7.339916249999947,7.6563199999999405,7.944898749999948,8.202239999999945,8.425781249999927,8.61375999999991,8.76516374999993,8.879679999999922,8.9576462499999,8.999999999999915,9.008228749999919,8.984319999999922,8.930711249999916,8.850239999999935,8.746093749999897,8.621759999999881,8.480976249999909,8.327679999999908,8.165958749999874,7.999999999999879,7.834041249999885,7.672319999999836,7.519023749999889,7.378239999999778,7.253906249999943,7.1497599999999295,7.069288749999913,7.015679999999904,6.991771249999914,6.999999999999886,7.042353749999847,7.120319999999765,7.234836250000001,7.386239999999873,7.574218749999858,7.7977599999999825,8.055101249999979,8.343679999999722,8.660083749999899,8.999999999999773],\"marker\":{},\"line\":{},\"name\":\"interpolating polynomial\"}];",
"",
"    var layout = {\"width\":600,\"height\":600,\"template\":{\"layout\":{\"paper_bgcolor\":\"white\",\"plot_bgcolor\":\"white\",\"xaxis\":{\"ticks\":\"inside\",\"mirror\":\"all\",\"showline\":true,\"zeroline\":true},\"yaxis\":{\"ticks\":\"inside\",\"mirror\":\"all\",\"showline\":true,\"zeroline\":true}},\"data\":{}}};",
"",
"    var config = {\"responsive\":true};",
"",
"    Plotly.newPlot(\u002740eb3432-c1c5-4506-8795-ff883f9fe526\u0027, data, layout, config);",
"",
"};",
"",
"renderPlotly_40eb3432c1c545068795ff883f9fe526();",
"",
"\u003c/script\u003e\u003c/div\u003e"]
        },
           "execution_count": null,
           "metadata": {},
           "output_type": "execute_result"
          }],
           "source": ["chartPol\n"]
          }
,
          {
           "cell_type": "markdown",
           "metadata": {},
           
           "source": ["## Cubic interpolating Spline\n",
"\n",
"Splines are flexible strips of wood, that were used by shipbuilders to draw smooth shapes. In graphics and mathematics a piecewise cubic polynomial (order = 3) is called spline.\n",
"The curvature (second derivative) of a cubic polynomial is proportional to its tense energy and in spline theory the curvature is minimized. Therefore, the resulting function is very smooth.\n",
"To solve for the spline coefficients it is necessary to define two additional constraints, so called boundary conditions:\n",
"\n",
"* natural spline (most used spline variant): `f\u0027\u0027` at borders is set to 0\n",
"  \n",
"\n",
"* periodic spline: `f\u0027` at first point is the same as `f\u0027` at the last point\n",
"  \n",
"\n",
"* parabolic spline: `f\u0027\u0027` at first/second and last/penultimate knot are equal\n",
"  \n",
"\n",
"* notAKnot spline: `f\u0027\u0027\u0027` at second and penultimate knot are continuous\n",
"  \n",
"\n",
"* quadratic spline: first and last polynomial are quadratic, not cubic\n",
"  \n",
"\n",
"* clamped spline: `f\u0027` at first and last knot are set by user\n",
"  \n",
"\n",
"In general, piecewise cubic splines only are defined within the region defined by the used x values.\n",
"\n",
"### Related information\n",
"\n",
"* [Cubic Spline Interpolation](https://en.wikiversity.org/wiki/Cubic_Spline_Interpolation)\n",
"  \n",
"\n",
"* [Boundary conditions](https://timodenk.com/blog/cubic-spline-interpolation/)\n",
"  \n",
"\n",
"* [Cubic spline online tool](https://tools.timodenk.com/cubic-spline-interpolation)\n",
"  \n",
"\n"]
          }
,
          {
           "cell_type": "code",
           "metadata": {},
            "execution_count": 5, "outputs": [],
           "source": ["open Plotly.NET\n",
"open FSharp.Stats.Interpolation\n",
"\n",
"let xValues = vector [1.;2.;3.;4.;5.5;6.]\n",
"let yValues = vector [1.;8.;6.;3.;7.;1.]\n",
"\n",
"//calculates the spline coefficients for a natural spline\n",
"let coeffSpline = \n",
"    CubicSpline.Simple.coefficients CubicSpline.Simple.BoundaryCondition.Natural xValues yValues\n",
"//cubic interpolating splines are only defined within the region defined in xValues\n",
"let fit  x = \n",
"    CubicSpline.Simple.fit coeffSpline xValues x\n",
"//to fit x_Values that are out of the region defined in xValues\n",
"//fits the interpolation spline with linear prediction at borderknots\n",
"let fitIntPo x = \n",
"    CubicSpline.Simple.fitWithLinearPrediction coeffSpline xValues x\n",
"\n",
"//to compare the spline fit with an interpolating polynomial:\n",
"let coeffPolynomial = \n",
"    Interpolation.Polynomial.coefficients xValues yValues\n",
"let fitPol x = \n",
"    Interpolation.Polynomial.fit coeffPolynomial x\n",
"//A linear spline draws straight lines to interpolate all data\n",
"let coeffLinearSpline = Interpolation.LinearSpline.initInterpolate (Array.ofSeq xValues) (Array.ofSeq yValues)\n",
"let fitLinSp = Interpolation.LinearSpline.interpolate coeffLinearSpline\n",
"\n",
"let splineChart =\n",
"    [\n",
"    Chart.Point(xValues,yValues)                                         |\u003e Chart.withTraceInfo \"raw data\"\n",
"    [ 1. .. 0.1 .. 6.] |\u003e List.map (fun x -\u003e x,fitPol x)   |\u003e Chart.Line |\u003e Chart.withTraceInfo \"fitPolynomial\"\n",
"    [-1. .. 0.1 .. 8.] |\u003e List.map (fun x -\u003e x,fitIntPo x) |\u003e Chart.Line |\u003e Chart.withLineStyle(Dash=StyleParam.DrawingStyle.Dash) |\u003e Chart.withTraceInfo \"fitSplineLinPred\"\n",
"    [ 1. .. 0.1 .. 6.] |\u003e List.map (fun x -\u003e x,fit x)      |\u003e Chart.Line |\u003e Chart.withTraceInfo \"fitSpline\"\n",
"    [ 1. .. 0.1 .. 6.] |\u003e List.map (fun x -\u003e x,fitLinSp x) |\u003e Chart.Line |\u003e Chart.withTraceInfo \"fitLinearSpline\"\n",
"    ]\n",
"    |\u003e Chart.combine\n",
"    |\u003e Chart.withTitle \"Interpolation methods\"\n",
"    |\u003e Chart.withTemplate ChartTemplates.lightMirrored\n"]
          }
,
          {
           "cell_type": "code",
           "metadata": {},
            "execution_count": null, "outputs": [
          {
           "data": {
            "text/html": ["\u003cdiv\u003e\u003cdiv id=\"7090cbc4-7da0-4b99-b778-b233db8d0c7f\"\u003e\u003c!-- Plotly chart will be drawn inside this DIV --\u003e\u003c/div\u003e\u003cscript type=\"text/javascript\"\u003evar renderPlotly_7090cbc47da04b99b778b233db8d0c7f = function() {",
"",
"    var data = [{\"type\":\"scatter\",\"mode\":\"markers\",\"x\":[1.0,2.0,3.0,4.0,5.5,6.0],\"y\":[1.0,8.0,6.0,3.0,7.0,1.0],\"marker\":{},\"line\":{},\"name\":\"raw data\"},{\"type\":\"scatter\",\"mode\":\"lines\",\"x\":[1.0,1.1,1.2,1.3,1.4,1.5,1.6,1.7000000000000002,1.8,1.9,2.0,2.1,2.2,2.3,2.4000000000000004,2.5,2.6,2.7,2.8,2.9000000000000004,3.0,3.1,3.2,3.3000000000000003,3.4000000000000004,3.5,3.6,3.7,3.8000000000000003,3.9000000000000004,4.0,4.1,4.2,4.300000000000001,4.4,4.5,4.6,4.7,4.800000000000001,4.9,5.0,5.1000000000000005,5.2,5.3,5.4,5.5,5.6000000000000005,5.7,5.800000000000001,5.9,6.0],\"y\":[1.0000000000000002,2.0101139999999953,2.9930879999999895,3.92720699999999,4.794465523809508,5.580357142857121,6.273663999999981,6.866246333333316,7.352831999999981,7.730805999999986,7.999999999999965,8.162481857142822,8.222345142857105,8.185498666666641,8.059455999999964,7.853124999999967,7.576597333333293,7.240937999999961,6.857974857142803,6.4400881428570855,5.9999999999999645,5.550563999999987,5.104554666666658,4.674456999999961,4.272255999999999,3.909226190476133,3.5957211428571156,3.340963000000059,3.1528319999999326,3.0376559999998847,2.9999999999999716,3.042455666666541,3.165430857142752,3.366939142857177,3.6423893333333126,3.984375000000057,4.38246399999997,4.822987999999839,5.288832000000127,5.75922385714307,6.20952380952383,6.611014000000068,6.930688000000032,7.131040333333772,7.169856000000095,7.000000000000114,6.569206857142717,5.819870142856871,4.688832000000048,3.1071726666666564,0.9999999999997726],\"marker\":{},\"line\":{},\"name\":\"fitPolynomial\"},{\"type\":\"scatter\",\"mode\":\"lines\",\"x\":[-1.0,-0.9,-0.8,-0.7,-0.6,-0.5,-0.3999999999999999,-0.29999999999999993,-0.19999999999999996,-0.09999999999999998,0.0,0.10000000000000009,0.20000000000000018,0.30000000000000004,0.40000000000000013,0.5,0.6000000000000001,0.7000000000000002,0.8,0.9000000000000001,1.0,1.1,1.2000000000000002,1.3000000000000003,1.4000000000000004,1.5,1.6,1.7000000000000002,1.8000000000000003,1.9000000000000004,2.0,2.1,2.2,2.3000000000000003,2.4000000000000004,2.5,2.6,2.7,2.8000000000000003,2.9000000000000004,3.0,3.1000000000000005,3.2,3.3,3.4000000000000004,3.5,3.6000000000000005,3.7,3.8000000000000007,3.9000000000000004,4.0,4.1000000000000005,4.2,4.300000000000001,4.4,4.5,4.6000000000000005,4.7,4.800000000000001,4.9,5.0,5.1000000000000005,5.2,5.300000000000001,5.4,5.5,5.6000000000000005,5.7,5.800000000000001,5.9,6.0,6.1000000000000005,6.2,6.300000000000001,6.4,6.5,6.6000000000000005,6.7,6.800000000000001,6.9,7.0,7.1,7.200000000000001,7.300000000000001,7.4,7.5,7.6,7.700000000000001,7.800000000000001,7.9,8.0],\"y\":[-17.320346320346253,-16.404329004328943,-15.488311688311628,-14.572294372294314,-13.656277056277002,-12.740259740259688,-11.824242424242374,-10.908225108225059,-9.992207792207747,-9.076190476190435,-8.160173160173121,-7.244155844155808,-6.328138528138493,-5.412121212121181,-4.496103896103866,-3.5800865800865544,-2.6640692640692403,-1.748051948051926,-0.8320346320346139,0.08398268398270026,1.0000000000000124,1.9138571428571538,2.8147532467532566,3.6897272727272794,4.525818181818187,5.310064935064935,6.029506493506495,6.671181818181817,7.222129870129865,7.6693896103896,8.0,8.204961038961045,8.291116883116871,8.269272727272721,8.150233766233754,7.944805194805184,7.663792207792213,7.317999999999969,6.91823376623374,6.475298701298712,5.999999999999943,5.504298701298666,5.00477922077917,4.519181818181806,4.065246753246697,3.660714285714306,3.323324675324642,3.0708181818181686,2.9209350649350654,2.8914155844156255,2.999999999999943,3.2566464646466216,3.6401847041846054,4.1216623376623716,4.672126984126692,5.262626262626156,5.864207792207765,6.447919191919084,6.984808080807909,7.445922077921807,7.802308802308801,8.025015873016002,8.08509090909098,7.9535815295812995,7.601535353535212,7.000000000000227,6.134129870130209,5.045506493506991,3.7898181818184185,2.422753246754155,1.0000000000002274,-0.4320346320343069,-1.8640692640688283,-3.2961038961033626,-4.728138528137884,-6.1601731601724055,-7.59220779220694,-9.02424242424146,-10.456277056275995,-11.888311688310516,-13.320346320345038,-14.75238095237956,-16.184415584414108,-17.616450216448627,-19.04848484848315,-20.48051948051767,-21.912554112552193,-23.34458874458674,-24.77662337662126,-26.20865800865578,-27.640692640690304],\"marker\":{},\"line\":{\"dash\":\"dash\"},\"name\":\"fitSplineLinPred\"},{\"type\":\"scatter\",\"mode\":\"lines\",\"x\":[1.0,1.1,1.2,1.3,1.4,1.5,1.6,1.7000000000000002,1.8,1.9,2.0,2.1,2.2,2.3,2.4000000000000004,2.5,2.6,2.7,2.8,2.9000000000000004,3.0,3.1,3.2,3.3000000000000003,3.4000000000000004,3.5,3.6,3.7,3.8000000000000003,3.9000000000000004,4.0,4.1,4.2,4.300000000000001,4.4,4.5,4.6,4.7,4.800000000000001,4.9,5.0,5.1000000000000005,5.2,5.3,5.4,5.5,5.6000000000000005,5.7,5.800000000000001,5.9,6.0],\"y\":[1.0000000000000124,1.9138571428571538,2.814753246753255,3.6897272727272776,4.5258181818181855,5.310064935064935,6.029506493506495,6.671181818181817,7.222129870129861,7.669389610389602,8.0,8.204961038961045,8.291116883116871,8.269272727272721,8.150233766233754,7.944805194805184,7.663792207792213,7.317999999999969,6.91823376623374,6.475298701298712,5.999999999999943,5.504298701298637,5.00477922077917,4.519181818181778,4.065246753246697,3.660714285714306,3.3233246753246704,3.0708181818181686,2.920935064935094,2.8914155844156255,2.999999999999943,3.256646464646508,3.6401847041846054,4.1216623376623716,4.672126984126692,5.262626262626156,5.864207792207651,6.447919191919084,6.984808080807909,7.445922077921807,7.802308802308801,8.025015873016002,8.08509090909098,7.953581529581527,7.601535353535212,7.000000000000227,6.134129870130209,5.045506493506991,3.7898181818184185,2.422753246754155,1.0000000000002274],\"marker\":{},\"line\":{},\"name\":\"fitSpline\"},{\"type\":\"scatter\",\"mode\":\"lines\",\"x\":[1.0,1.1,1.2,1.3,1.4,1.5,1.6,1.7000000000000002,1.8,1.9,2.0,2.1,2.2,2.3,2.4000000000000004,2.5,2.6,2.7,2.8,2.9000000000000004,3.0,3.1,3.2,3.3000000000000003,3.4000000000000004,3.5,3.6,3.7,3.8000000000000003,3.9000000000000004,4.0,4.1,4.2,4.300000000000001,4.4,4.5,4.6,4.7,4.800000000000001,4.9,5.0,5.1000000000000005,5.2,5.3,5.4,5.5,5.6000000000000005,5.7,5.800000000000001,5.9,6.0],\"y\":[1.0,1.7000000000000006,2.3999999999999995,3.1000000000000005,3.7999999999999994,4.5,5.200000000000001,5.900000000000001,6.6000000000000005,7.299999999999999,8.0,7.8,7.6,7.4,7.199999999999999,7.0,6.8,6.6,6.4,6.199999999999999,6.0,5.699999999999999,5.3999999999999995,5.1,4.799999999999999,4.5,4.199999999999999,3.8999999999999995,3.599999999999999,3.299999999999999,3.0,3.2666666666666657,3.5333333333333337,3.8000000000000016,4.066666666666667,4.333333333333333,4.599999999999999,4.866666666666667,5.133333333333335,5.4,5.666666666666666,5.9333333333333345,6.2,6.466666666666666,6.733333333333334,7.0,5.799999999999994,4.599999999999998,3.3999999999999915,2.1999999999999957,1.0],\"marker\":{},\"line\":{},\"name\":\"fitLinearSpline\"}];",
"",
"    var layout = {\"width\":600,\"height\":600,\"template\":{\"layout\":{\"paper_bgcolor\":\"white\",\"plot_bgcolor\":\"white\",\"xaxis\":{\"ticks\":\"inside\",\"mirror\":\"all\",\"showline\":true,\"zeroline\":true},\"yaxis\":{\"ticks\":\"inside\",\"mirror\":\"all\",\"showline\":true,\"zeroline\":true}},\"data\":{}},\"title\":{\"text\":\"Interpolation methods\"}};",
"",
"    var config = {\"responsive\":true};",
"",
"    Plotly.newPlot(\u00277090cbc4-7da0-4b99-b778-b233db8d0c7f\u0027, data, layout, config);",
"",
"};",
"",
"renderPlotly_7090cbc47da04b99b778b233db8d0c7f();",
"",
"\u003c/script\u003e\u003c/div\u003e"]
        },
           "execution_count": null,
           "metadata": {},
           "output_type": "execute_result"
          }],
           "source": ["splineChart\n"]
          }
,
          {
           "cell_type": "code",
           "metadata": {},
            "execution_count": 7, "outputs": [],
           "source": ["//additionally you can calculate the derivatives of the spline\n",
"//The cubic spline interpolation is continuous in f, f\u0027, and  f\u0027\u0027.\n",
"let derivativeChart =\n",
"    [\n",
"        Chart.Point(xValues,yValues) |\u003e Chart.withTraceInfo \"raw data\"\n",
"        [1. .. 0.1 .. 6.] |\u003e List.map (fun x -\u003e x,fit x) |\u003e Chart.Line  |\u003e Chart.withTraceInfo \"spline fit\"\n",
"        [1. .. 0.1 .. 6.] |\u003e List.map (fun x -\u003e x,CubicSpline.Simple.getFirstDerivative  coeffSpline xValues x) |\u003e Chart.Point |\u003e Chart.withTraceInfo \"fst derivative\"\n",
"        [1. .. 0.1 .. 6.] |\u003e List.map (fun x -\u003e x,CubicSpline.Simple.getSecondDerivative coeffSpline xValues x) |\u003e Chart.Point |\u003e Chart.withTraceInfo \"snd derivative\"\n",
"        [1. .. 0.1 .. 6.] |\u003e List.map (fun x -\u003e x,CubicSpline.Simple.getThirdDerivative  coeffSpline xValues x) |\u003e Chart.Point |\u003e Chart.withTraceInfo \"trd derivative\"\n",
"    ]\n",
"    |\u003e Chart.combine\n",
"    |\u003e Chart.withTitle \"Cubic spline derivatives\"\n",
"    |\u003e Chart.withTemplate ChartTemplates.lightMirrored\n"]
          }
,
          {
           "cell_type": "code",
           "metadata": {},
            "execution_count": null, "outputs": [
          {
           "data": {
            "text/html": ["\u003cdiv\u003e\u003cdiv id=\"7ee3a607-f27c-4afb-8fcd-96f239f6dbe2\"\u003e\u003c!-- Plotly chart will be drawn inside this DIV --\u003e\u003c/div\u003e\u003cscript type=\"text/javascript\"\u003evar renderPlotly_7ee3a607f27c4afb8fcd96f239f6dbe2 = function() {",
"",
"    var data = [{\"type\":\"scatter\",\"mode\":\"markers\",\"x\":[1.0,2.0,3.0,4.0,5.5,6.0],\"y\":[1.0,8.0,6.0,3.0,7.0,1.0],\"marker\":{},\"line\":{},\"name\":\"raw data\"},{\"type\":\"scatter\",\"mode\":\"lines\",\"x\":[1.0,1.1,1.2,1.3,1.4,1.5,1.6,1.7000000000000002,1.8,1.9,2.0,2.1,2.2,2.3,2.4000000000000004,2.5,2.6,2.7,2.8,2.9000000000000004,3.0,3.1,3.2,3.3000000000000003,3.4000000000000004,3.5,3.6,3.7,3.8000000000000003,3.9000000000000004,4.0,4.1,4.2,4.300000000000001,4.4,4.5,4.6,4.7,4.800000000000001,4.9,5.0,5.1000000000000005,5.2,5.3,5.4,5.5,5.6000000000000005,5.7,5.800000000000001,5.9,6.0],\"y\":[1.0000000000000124,1.9138571428571538,2.814753246753255,3.6897272727272776,4.5258181818181855,5.310064935064935,6.029506493506495,6.671181818181817,7.222129870129861,7.669389610389602,8.0,8.204961038961045,8.291116883116871,8.269272727272721,8.150233766233754,7.944805194805184,7.663792207792213,7.317999999999969,6.91823376623374,6.475298701298712,5.999999999999943,5.504298701298637,5.00477922077917,4.519181818181778,4.065246753246697,3.660714285714306,3.3233246753246704,3.0708181818181686,2.920935064935094,2.8914155844156255,2.999999999999943,3.256646464646508,3.6401847041846054,4.1216623376623716,4.672126984126692,5.262626262626156,5.864207792207651,6.447919191919084,6.984808080807909,7.445922077921807,7.802308802308801,8.025015873016002,8.08509090909098,7.953581529581527,7.601535353535212,7.000000000000227,6.134129870130209,5.045506493506991,3.7898181818184185,2.422753246754155,1.0000000000002274],\"marker\":{},\"line\":{},\"name\":\"spline fit\"},{\"type\":\"scatter\",\"mode\":\"markers\",\"x\":[1.0,1.1,1.2,1.3,1.4,1.5,1.6,1.7000000000000002,1.8,1.9,2.0,2.1,2.2,2.3,2.4000000000000004,2.5,2.6,2.7,2.8,2.9000000000000004,3.0,3.1,3.2,3.3000000000000003,3.4000000000000004,3.5,3.6,3.7,3.8000000000000003,3.9000000000000004,4.0,4.1,4.2,4.300000000000001,4.4,4.5,4.6,4.7,4.800000000000001,4.9,5.0,5.1000000000000005,5.2,5.3,5.4,5.5,5.6000000000000005,5.7,5.800000000000001,5.9,6.0],\"y\":[9.160173160173134,9.095367965367938,8.900952380952358,8.576926406926383,8.12329004329002,7.540043290043264,6.827186147186121,5.984718614718591,5.012640692640669,3.9109523809523514,2.679653679653647,1.437575757575722,0.30354978354974804,-0.7224242424242746,-1.640346320346346,-2.450216450216473,-3.152034632034642,-3.7458008658008595,-4.23151515151514,-4.609177489177462,-4.8787878787878185,-5.005670995670911,-4.9551515151514,-4.72722943722934,-4.321904761904662,-3.739177489177422,-2.979047619047549,-2.041515151515128,-0.9265800865800884,0.36575757575755574,1.8354978354977902,3.2491774891773275,4.373333333333221,5.207965367965244,5.753073593073452,6.0086580086578465,5.974718614718483,5.651255411255306,5.038268398268315,4.135757575757566,2.943722943723003,1.462164502164626,-0.30891774891750856,-2.369523809523514,-4.71965367965322,-7.35930735930674,-9.865281385280468,-11.814372294371424,-13.206580086579038,-14.04190476190388,-14.320346320345266],\"marker\":{},\"line\":{},\"name\":\"fst derivative\"},{\"type\":\"scatter\",\"mode\":\"markers\",\"x\":[1.0,1.1,1.2,1.3,1.4,1.5,1.6,1.7000000000000002,1.8,1.9,2.0,2.1,2.2,2.3,2.4000000000000004,2.5,2.6,2.7,2.8,2.9000000000000004,3.0,3.1,3.2,3.3000000000000003,3.4000000000000004,3.5,3.6,3.7,3.8000000000000003,3.9000000000000004,4.0,4.1,4.2,4.300000000000001,4.4,4.5,4.6,4.7,4.800000000000001,4.9,5.0,5.1000000000000005,5.2,5.3,5.4,5.5,5.6000000000000005,5.7,5.800000000000001,5.9,6.0],\"y\":[1.7763568394002505E-14,-1.296103896103883,-2.592207792207782,-3.888311688311685,-5.184415584415582,-6.480519480519483,-7.776623376623384,-9.072727272727285,-10.368831168831186,-11.664935064935083,-12.961038961038987,-11.880519480519485,-10.799999999999983,-9.719480519480488,-8.638961038960982,-7.5584415584414835,-6.477922077921981,-5.397402597402479,-4.316883116882984,-3.2363636363634782,-2.1558441558439654,-0.3818181818180548,1.3922077922078557,3.166233766233759,4.94025974025967,6.714285714285573,8.488311688311484,10.262337662337387,12.036363636363305,13.810389610389208,15.58441558441514,12.689177489177183,9.793939393939183,6.898701298701198,4.003463203463241,1.1082251082252697,-1.7870129870127016,-4.682251082250673,-7.577489177488673,-10.472727272726615,-13.367965367964587,-16.263203463202586,-19.15844155844053,-22.0536796536785,-24.9489177489165,-27.844155844154443,-22.27532467532353,-16.70649350649262,-11.137662337661709,-5.568831168830798,1.1368683772161603E-13],\"marker\":{},\"line\":{},\"name\":\"snd derivative\"},{\"type\":\"scatter\",\"mode\":\"markers\",\"x\":[1.0,1.1,1.2,1.3,1.4,1.5,1.6,1.7000000000000002,1.8,1.9,2.0,2.1,2.2,2.3,2.4000000000000004,2.5,2.6,2.7,2.8,2.9000000000000004,3.0,3.1,3.2,3.3000000000000003,3.4000000000000004,3.5,3.6,3.7,3.8000000000000003,3.9000000000000004,4.0,4.1,4.2,4.300000000000001,4.4,4.5,4.6,4.7,4.800000000000001,4.9,5.0,5.1000000000000005,5.2,5.3,5.4,5.5,5.6000000000000005,5.7,5.800000000000001,5.9,6.0],\"y\":[-12.961038961039002,-12.961038961039002,-12.961038961039002,-12.961038961039002,-12.961038961039002,-12.961038961039002,-12.961038961039002,-12.961038961039002,-12.961038961039002,-12.961038961039002,10.805194805195008,10.805194805195008,10.805194805195008,10.805194805195008,10.805194805195008,10.805194805195008,10.805194805195008,10.805194805195008,10.805194805195008,10.805194805195008,17.740259740259077,17.740259740259077,17.740259740259077,17.740259740259077,17.740259740259077,17.740259740259077,17.740259740259077,17.740259740259077,17.740259740259077,17.740259740259077,-28.95238095237973,-28.95238095237973,-28.95238095237973,-28.95238095237973,-28.95238095237973,-28.95238095237973,-28.95238095237973,-28.95238095237973,-28.95238095237973,-28.95238095237973,-28.95238095237973,-28.95238095237973,-28.95238095237973,-28.95238095237973,-28.95238095237973,55.68831168830907,55.68831168830907,55.68831168830907,55.68831168830907,55.68831168830907,55.68831168830907],\"marker\":{},\"line\":{},\"name\":\"trd derivative\"}];",
"",
"    var layout = {\"width\":600,\"height\":600,\"template\":{\"layout\":{\"paper_bgcolor\":\"white\",\"plot_bgcolor\":\"white\",\"xaxis\":{\"ticks\":\"inside\",\"mirror\":\"all\",\"showline\":true,\"zeroline\":true},\"yaxis\":{\"ticks\":\"inside\",\"mirror\":\"all\",\"showline\":true,\"zeroline\":true}},\"data\":{}},\"title\":{\"text\":\"Cubic spline derivatives\"}};",
"",
"    var config = {\"responsive\":true};",
"",
"    Plotly.newPlot(\u00277ee3a607-f27c-4afb-8fcd-96f239f6dbe2\u0027, data, layout, config);",
"",
"};",
"",
"renderPlotly_7ee3a607f27c4afb8fcd96f239f6dbe2();",
"",
"\u003c/script\u003e\u003c/div\u003e"]
        },
           "execution_count": null,
           "metadata": {},
           "output_type": "execute_result"
          }],
           "source": ["derivativeChart\n"]
          }
,
          {
           "cell_type": "markdown",
           "metadata": {},
           
           "source": ["## Hermite interpolation\n",
"\n",
"In Hermite interpolation the user can define the slopes of the function in the knots. This is especially useful if the function is oscillating and thereby generates local minima/maxima.\n",
"Intuitively the slope of a knot should be between the slopes of the adjacent straight lines. By using this slope calculation a monotone knot behavior results in a monotone spline.\n",
"\n",
"* [Slope calculation](http://www.korf.co.uk/spline.pdf)\n",
"\n"]
          }
,
          {
           "cell_type": "code",
           "metadata": {},
            "execution_count": 9, "outputs": [],
           "source": ["open FSharp.Stats\n",
"open FSharp.Stats.Interpolation\n",
"open FSharp.Stats.Interpolation.CubicSpline\n",
"open Plotly.NET\n",
"\n",
"//example from http://www.korf.co.uk/spline.pdf\n",
"let xDataH = vector [0.;10.;30.;50.;70.;80.;82.]\n",
"let yDataH = vector [150.;200.;200.;200.;180.;100.;0.]\n",
"\n",
"//Get slopes for Hermite spline. Try to fit a monotone function.\n",
"let tryMonotoneSlope = Simple.Hermite.getSlopesTryMonotonicity xDataH yDataH    \n",
"//get function for Hermite spline\n",
"let funHermite = Simple.Hermite.cubicHermite xDataH yDataH tryMonotoneSlope\n",
"\n",
"//get coefficients and function for a classic natural spline\n",
"let coeffSpl = Simple.coefficients Simple.BoundaryCondition.Natural xDataH yDataH\n",
"let funNaturalSpline x = Simple.fit coeffSpl xDataH x\n",
"\n",
"//get coefficients and function for a classic polynomial interpolation\n",
"let coeffPolInterpol = \n",
"    //let neutralWeights = Vector.init 7 (fun x -\u003e 1.)\n",
"    //Fitting.LinearRegression.OrdinaryLeastSquares.Polynomial.coefficientsWithWeighting 6 neutralWeights xDataH yDataH\n",
"    Interpolation.Polynomial.coefficients xDataH yDataH\n",
"let funPolInterpol x = \n",
"    //Fitting.LinearRegression.OrdinaryLeastSquares.Polynomial.fit 6 coeffPolInterpol x\n",
"    Interpolation.Polynomial.fit coeffPolInterpol x\n",
"\n",
"let splineComparison =\n",
"    [\n",
"    Chart.Point(xDataH,yDataH) |\u003e Chart.withTraceInfo \"raw data\"\n",
"    [0. .. 82.] |\u003e List.map (fun x -\u003e x,funNaturalSpline x) |\u003e Chart.Line  |\u003e Chart.withTraceInfo \"natural spline\"\n",
"    [0. .. 82.] |\u003e List.map (fun x -\u003e x,funHermite x      ) |\u003e Chart.Line  |\u003e Chart.withTraceInfo \"hermite spline\"\n",
"    [0. .. 82.] |\u003e List.map (fun x -\u003e x,funPolInterpol x  ) |\u003e Chart.Line  |\u003e Chart.withTraceInfo \"polynomial\"\n",
"    ]\n",
"    |\u003e Chart.combine\n",
"    |\u003e Chart.withTemplate ChartTemplates.lightMirrored\n"]
          }
,
          {
           "cell_type": "code",
           "metadata": {},
            "execution_count": null, "outputs": [
          {
           "data": {
            "text/html": ["\u003cdiv\u003e\u003cdiv id=\"74c8fc47-b665-42ee-a71d-d52ca8a6647c\"\u003e\u003c!-- Plotly chart will be drawn inside this DIV --\u003e\u003c/div\u003e\u003cscript type=\"text/javascript\"\u003evar renderPlotly_74c8fc47b66542eea71dd52ca8a6647c = function() {",
"",
"    var data = [{\"type\":\"scatter\",\"mode\":\"markers\",\"x\":[0.0,10.0,30.0,50.0,70.0,80.0,82.0],\"y\":[150.0,200.0,200.0,200.0,180.0,100.0,0.0],\"marker\":{},\"line\":{},\"name\":\"raw data\"},{\"type\":\"scatter\",\"mode\":\"lines\",\"x\":[0.0,1.0,2.0,3.0,4.0,5.0,6.0,7.0,8.0,9.0,10.0,11.0,12.0,13.0,14.0,15.0,16.0,17.0,18.0,19.0,20.0,21.0,22.0,23.0,24.0,25.0,26.0,27.0,28.0,29.0,30.0,31.0,32.0,33.0,34.0,35.0,36.0,37.0,38.0,39.0,40.0,41.0,42.0,43.0,44.0,45.0,46.0,47.0,48.0,49.0,50.0,51.0,52.0,53.0,54.0,55.0,56.0,57.0,58.0,59.0,60.0,61.0,62.0,63.0,64.0,65.0,66.0,67.0,68.0,69.0,70.0,71.0,72.0,73.0,74.0,75.0,76.0,77.0,78.0,79.0,80.0,81.0,82.0],\"y\":[150.0,155.9696657269433,161.88056383407186,167.67392670157093,173.29098670962574,178.6729762384216,183.76112766814373,188.49667337897736,192.82084575110778,196.67487716472024,200.0,202.75433044703965,204.96351993556135,206.6701037051946,207.91661699556883,208.74559504631358,209.19957309705836,209.3210863874326,209.1526701570658,208.73685964558754,208.1161900926272,207.33319673781432,206.4304148207784,205.4503795811489,204.43562625855535,203.42869009262725,202.472106322994,201.60841018928517,200.88013693113024,200.32982178815877,200.00000000000006,199.9200553765616,200.06676600886232,200.40375855819894,200.89465968586836,201.5030960531672,202.19269432139237,202.92708115184047,203.66988320580862,204.38472714459346,205.03523962949117,205.58504732179955,205.99777688281478,206.2370549738335,206.26650825615292,206.0497633910697,205.55044703988045,204.7321858638822,203.55860652437156,201.99333568264518,200.00000000000045,197.5629480467137,194.74941602898934,191.64736206201042,188.34474426095812,184.92952074101822,181.48964961737192,178.11308900520498,174.88779701969952,171.90173177604038,169.24285138940968,166.99911397498863,165.258477647963,164.1089005235167,163.63834071683277,163.93475634309334,165.08610551748416,167.18034635518734,170.305436971385,174.5493354812611,180.0000000000291,186.5251590817643,193.11162303670426,198.52597261380288,201.53478856230504,200.9046516311937,195.40214256956824,183.79384212655714,164.84633105120156,137.3261900926591,100.00000000029104,52.75986709649442,5.820766091346741E-11],\"marker\":{},\"line\":{},\"name\":\"natural spline\"},{\"type\":\"scatter\",\"mode\":\"lines\",\"x\":[0.0,1.0,2.0,3.0,4.0,5.0,6.0,7.0,8.0,9.0,10.0,11.0,12.0,13.0,14.0,15.0,16.0,17.0,18.0,19.0,20.0,21.0,22.0,23.0,24.0,25.0,26.0,27.0,28.0,29.0,30.0,31.0,32.0,33.0,34.0,35.0,36.0,37.0,38.0,39.0,40.0,41.0,42.0,43.0,44.0,45.0,46.0,47.0,48.0,49.0,50.0,51.0,52.0,53.0,54.0,55.0,56.0,57.0,58.0,59.0,60.0,61.0,62.0,63.0,64.0,65.0,66.0,67.0,68.0,69.0,70.0,71.0,72.0,73.0,74.0,75.0,76.0,77.0,78.0,79.0,80.0,81.0,82.0],\"y\":[150.0,157.47499999999997,164.8,171.82500000000002,178.40000000000003,184.375,189.6,193.92499999999998,197.20000000000002,199.27500000000003,200.0,200.0,200.0,200.0,200.00000000000003,200.0,200.0,200.0,200.0,200.0,200.0,200.0,200.0,200.0,200.0,200.0,200.0,200.0,200.0,200.0,200.0,200.0,200.0,200.0,200.00000000000003,200.0,200.0,200.0,200.0,200.0,200.0,200.0,200.0,200.0,200.0,200.0,200.0,200.0,200.0,200.0,200.0,199.93944444444446,199.76,199.465,199.0577777777778,198.54166666666666,197.92000000000002,197.19611111111112,196.37333333333333,195.455,194.44444444444446,193.345,192.16000000000003,190.89277777777778,189.54666666666665,188.125,186.63111111111112,185.06833333333333,183.44,181.74944444444446,180.0,177.56137931034485,173.81823754789275,168.79632183908046,162.52137931034483,155.0191570881226,146.3154022988506,136.43586206896552,125.40628352490421,113.25241379310346,100.0,63.57758620689655,0.0],\"marker\":{},\"line\":{},\"name\":\"hermite spline\"},{\"type\":\"scatter\",\"mode\":\"lines\",\"x\":[0.0,1.0,2.0,3.0,4.0,5.0,6.0,7.0,8.0,9.0,10.0,11.0,12.0,13.0,14.0,15.0,16.0,17.0,18.0,19.0,20.0,21.0,22.0,23.0,24.0,25.0,26.0,27.0,28.0,29.0,30.0,31.0,32.0,33.0,34.0,35.0,36.0,37.0,38.0,39.0,40.0,41.0,42.0,43.0,44.0,45.0,46.0,47.0,48.0,49.0,50.0,51.0,52.0,53.0,54.0,55.0,56.0,57.0,58.0,59.0,60.0,61.0,62.0,63.0,64.0,65.0,66.0,67.0,68.0,69.0,70.0,71.0,72.0,73.0,74.0,75.0,76.0,77.0,78.0,79.0,80.0,81.0,82.0],\"y\":[150.0,179.6566753415231,200.65430894309154,214.41850759996788,222.23181068525378,225.2420564977184,224.47052550701915,220.81986049631303,215.08176360225897,207.94447025241226,200.0000000000092,191.7511842561438,183.61847091933515,175.94650590248673,169.0104915572353,163.0223219956936,158.1364953095819,154.45580268675195,152.0367944251018,150.89502284388251,151.01006209239534,152.33030485607878,154.77753595999178,158.2512828696819,162.63294308944845,167.78968845799795,173.57814634148204,179.84785772394514,186.44451219514164,193.21295983575826,200.00000000001992,206.65694699570253,213.04197266150584,219.02222584185614,224.47572875906923,229.29305028291526,233.3787560975835,236.6526357660291,239.0507066917054,240.52599497770348,241.04909318326668,240.60849497770096,239.21070669170854,236.88013576602998,233.65875609758405,229.60555028291537,224.79572875906842,219.3197258418645,213.28197266150664,206.7994469957075,200.00000000003,193.020459835765,186.00451219514616,179.1003577239535,172.45814634148428,166.22718845800773,160.5529430894585,155.57378286968742,151.41753596001035,148.19780485609408,146.0100620924004,144.92752284389644,144.99679442512206,146.23330268675636,148.61649530959403,152.0848219957188,156.53049155725967,161.7940059024877,167.65847091937394,173.84368425614957,180.00000000005093,185.70197025243397,190.4417636022772,193.62236049630883,194.55052550704568,192.42955649772193,186.35181068529346,175.29100759998983,158.0943089431239,133.47417534154374,100.00000000007276,56.089519250701414,0.0],\"marker\":{},\"line\":{},\"name\":\"polynomial\"}];",
"",
"    var layout = {\"width\":600,\"height\":600,\"template\":{\"layout\":{\"paper_bgcolor\":\"white\",\"plot_bgcolor\":\"white\",\"xaxis\":{\"ticks\":\"inside\",\"mirror\":\"all\",\"showline\":true,\"zeroline\":true},\"yaxis\":{\"ticks\":\"inside\",\"mirror\":\"all\",\"showline\":true,\"zeroline\":true}},\"data\":{}}};",
"",
"    var config = {\"responsive\":true};",
"",
"    Plotly.newPlot(\u002774c8fc47-b665-42ee-a71d-d52ca8a6647c\u0027, data, layout, config);",
"",
"};",
"",
"renderPlotly_74c8fc47b66542eea71dd52ca8a6647c();",
"",
"\u003c/script\u003e\u003c/div\u003e"]
        },
           "execution_count": null,
           "metadata": {},
           "output_type": "execute_result"
          }],
           "source": ["splineComparison\n"]
          }
,
          {
           "cell_type": "markdown",
           "metadata": {},
           
           "source": ["## Chebyshev function approximation\n",
"\n",
"Polynomials are great when it comes to slope/area determination or the investigation of signal properties.\n",
"When faced with an unknown (or complex) function it may be beneficial to approximate the data using polynomials, even if it does not correspond to the real model.\n",
"\n",
"Polynomial regression can cause difficulties if the signal is flexible and the required polynomial degree is high. Floating point errors sometimes lead to vanishing coefficients and even though the\n",
"SSE should decrease, it does not and a strange, squiggly shape is generated.\n",
"Polynomial interpolation can help to obtain a robust polynomial description of the data, but is prone to Runges phenomenon.\n",
"\n",
"In the next section, data is introduced that should be converted to a polynomial approximation.\n",
"\n"]
          }
,
          {
           "cell_type": "code",
           "metadata": {},
            "execution_count": 11, "outputs": [],
           "source": ["let xs = [|0. .. 0.2 .. 3.|]\n",
"let ys = [|5.;5.5;6.;6.1;4.;1.;0.7;0.3;0.5;0.9;5.;9.;9.;8.;6.5;5.;|]\n",
"\n",
"let chebyChart =\n",
"    Chart.Line(xs,ys,Name=\"raw\",ShowMarkers=true)\n",
"    |\u003e Chart.withTemplate ChartTemplates.lightMirrored\n"]
          }
,
          {
           "cell_type": "code",
           "metadata": {},
            "execution_count": null, "outputs": [
          {
           "data": {
            "text/html": ["\u003cdiv\u003e\u003cdiv id=\"8ddd94f2-e8b9-4f48-8f71-6a1f65e48df8\"\u003e\u003c!-- Plotly chart will be drawn inside this DIV --\u003e\u003c/div\u003e\u003cscript type=\"text/javascript\"\u003evar renderPlotly_8ddd94f2e8b94f488f716a1f65e48df8 = function() {",
"",
"    var data = [{\"type\":\"scatter\",\"name\":\"raw\",\"mode\":\"lines+markers\",\"x\":[0.0,0.2,0.4,0.6000000000000001,0.8,1.0,1.2000000000000002,1.4000000000000001,1.6,1.8,2.0,2.2,2.4000000000000004,2.6,2.8000000000000003,3.0],\"y\":[5.0,5.5,6.0,6.1,4.0,1.0,0.7,0.3,0.5,0.9,5.0,9.0,9.0,8.0,6.5,5.0],\"marker\":{},\"line\":{}}];",
"",
"    var layout = {\"width\":600,\"height\":600,\"template\":{\"layout\":{\"paper_bgcolor\":\"white\",\"plot_bgcolor\":\"white\",\"xaxis\":{\"ticks\":\"inside\",\"mirror\":\"all\",\"showline\":true,\"zeroline\":true},\"yaxis\":{\"ticks\":\"inside\",\"mirror\":\"all\",\"showline\":true,\"zeroline\":true}},\"data\":{}}};",
"",
"    var config = {\"responsive\":true};",
"",
"    Plotly.newPlot(\u00278ddd94f2-e8b9-4f48-8f71-6a1f65e48df8\u0027, data, layout, config);",
"",
"};",
"",
"renderPlotly_8ddd94f2e8b94f488f716a1f65e48df8();",
"",
"\u003c/script\u003e\u003c/div\u003e"]
        },
           "execution_count": null,
           "metadata": {},
           "output_type": "execute_result"
          }],
           "source": ["chebyChart\n"]
          }
,
          {
           "cell_type": "markdown",
           "metadata": {},
           
           "source": ["Let\u0027s fit a interpolating polynomial to the points:\n",
"\n"]
          }
,
          {
           "cell_type": "code",
           "metadata": {},
            "execution_count": 13, "outputs": [],
           "source": ["// calculates the coefficients of the interpolating polynomial\n",
"let coeffs = \n",
"    Interpolation.Polynomial.coefficients (vector xs) (vector ys)\n",
"\n",
"// determines the y value of a given x value with the interpolating coefficients\n",
"let interpolatingFunction x = \n",
"    Interpolation.Polynomial.fit coeffs x\n",
"\n",
"// plot the interpolated data\n",
"let interpolChart =\n",
"    let ys_interpol = \n",
"        [|0. .. 0.01 .. 3.|] \n",
"        |\u003e Seq.map (fun x -\u003e x,interpolatingFunction x)\n",
"    Chart.Line(ys_interpol,Name=\"interpol\")\n",
"    |\u003e Chart.withTemplate ChartTemplates.lightMirrored\n",
"    |\u003e Chart.withXAxisStyle \"xs\"\n",
"    |\u003e Chart.withYAxisStyle \"ys\"\n",
"\n",
"let cbChart =\n",
"    [\n",
"    chebyChart\n",
"    interpolChart\n",
"    ]\n",
"    |\u003e Chart.combine\n"]
          }
,
          {
           "cell_type": "code",
           "metadata": {},
            "execution_count": null, "outputs": [
          {
           "data": {
            "text/html": ["\u003cdiv\u003e\u003cdiv id=\"e1355ee7-bb1d-44eb-b12c-5f9a172aac50\"\u003e\u003c!-- Plotly chart will be drawn inside this DIV --\u003e\u003c/div\u003e\u003cscript type=\"text/javascript\"\u003evar renderPlotly_e1355ee7bb1d44ebb12c5f9a172aac50 = function() {",
"",
"    var data = [{\"type\":\"scatter\",\"name\":\"raw\",\"mode\":\"lines+markers\",\"x\":[0.0,0.2,0.4,0.6000000000000001,0.8,1.0,1.2000000000000002,1.4000000000000001,1.6,1.8,2.0,2.2,2.4000000000000004,2.6,2.8000000000000003,3.0],\"y\":[5.0,5.5,6.0,6.1,4.0,1.0,0.7,0.3,0.5,0.9,5.0,9.0,9.0,8.0,6.5,5.0],\"marker\":{},\"line\":{}},{\"type\":\"scatter\",\"name\":\"interpol\",\"mode\":\"lines\",\"x\":[0.0,0.01,0.02,0.03,0.04,0.05,0.06,0.07,0.08,0.09,0.1,0.11,0.12,0.13,0.14,0.15,0.16,0.17,0.18,0.19,0.2,0.21,0.22,0.23,0.24,0.25,0.26,0.27,0.28,0.29,0.3,0.31,0.32,0.33,0.34,0.35000000000000003,0.36,0.37,0.38,0.39,0.4,0.41000000000000003,0.42,0.43,0.44,0.45,0.46,0.47000000000000003,0.48,0.49,0.5,0.51,0.52,0.53,0.54,0.55,0.56,0.5700000000000001,0.58,0.59,0.6,0.61,0.62,0.63,0.64,0.65,0.66,0.67,0.68,0.6900000000000001,0.7000000000000001,0.71,0.72,0.73,0.74,0.75,0.76,0.77,0.78,0.79,0.8,0.81,0.8200000000000001,0.8300000000000001,0.84,0.85,0.86,0.87,0.88,0.89,0.9,0.91,0.92,0.93,0.9400000000000001,0.9500000000000001,0.96,0.97,0.98,0.99,1.0,1.01,1.02,1.03,1.04,1.05,1.06,1.07,1.08,1.09,1.1,1.11,1.12,1.1300000000000001,1.1400000000000001,1.1500000000000001,1.16,1.17,1.18,1.19,1.2,1.21,1.22,1.23,1.24,1.25,1.26,1.27,1.28,1.29,1.3,1.31,1.32,1.33,1.34,1.35,1.36,1.37,1.3800000000000001,1.3900000000000001,1.4000000000000001,1.41,1.42,1.43,1.44,1.45,1.46,1.47,1.48,1.49,1.5,1.51,1.52,1.53,1.54,1.55,1.56,1.57,1.58,1.59,1.6,1.61,1.62,1.6300000000000001,1.6400000000000001,1.6500000000000001,1.6600000000000001,1.67,1.68,1.69,1.7,1.71,1.72,1.73,1.74,1.75,1.76,1.77,1.78,1.79,1.8,1.81,1.82,1.83,1.84,1.85,1.86,1.87,1.8800000000000001,1.8900000000000001,1.9000000000000001,1.9100000000000001,1.92,1.93,1.94,1.95,1.96,1.97,1.98,1.99,2.0,2.0100000000000002,2.02,2.0300000000000002,2.04,2.05,2.06,2.07,2.08,2.09,2.1,2.11,2.12,2.13,2.14,2.15,2.16,2.17,2.18,2.19,2.2,2.21,2.22,2.23,2.24,2.25,2.2600000000000002,2.27,2.2800000000000002,2.29,2.3000000000000003,2.31,2.32,2.33,2.34,2.35,2.36,2.37,2.38,2.39,2.4,2.41,2.42,2.43,2.44,2.45,2.46,2.47,2.48,2.49,2.5,2.5100000000000002,2.52,2.5300000000000002,2.54,2.5500000000000003,2.56,2.57,2.58,2.59,2.6,2.61,2.62,2.63,2.64,2.65,2.66,2.67,2.68,2.69,2.7,2.71,2.72,2.73,2.74,2.75,2.7600000000000002,2.77,2.7800000000000002,2.79,2.8000000000000003,2.81,2.82,2.83,2.84,2.85,2.86,2.87,2.88,2.89,2.9,2.91,2.92,2.93,2.94,2.95,2.96,2.97,2.98,2.99,3.0],\"y\":[5.0,-36.1435892423057,-64.79274807679931,-83.38438997269704,-93.99049422419094,-98.36249465149184,-97.9711804519434,-94.04248966567118,-87.58954867100942,-79.44128567753913,-70.26792226106943,-60.60362451040841,-50.86657425837853,-41.376701080179515,-32.3712971945738,-24.018720033883785,-16.43037099643916,-9.67112370139315,-3.7683608747370685,1.2802342468216648,5.499998452100009,8.93359898601472,11.636222523731528,13.671541276148238,15.108364039861051,16.01788855759685,16.471479475043083,16.538903504028593,16.286960166102553,15.778452728481202,15.071449688502224,14.21879244407403,13.267809635219784,12.260203083771017,11.23207432088692,10.214064400605352,9.231583075864101,8.305106483967533,7.450525272769891,6.679527617184819,6.000003847211908,5.416461451593422,4.930441052398878,4.540925582180887,4.244736350826521,4.036910979599988,3.911059317286339,3.8596944520688443,3.874536801922302,3.9467900218579937,4.067388112473824,4.227213666186697,4.417287652155834,4.628931525386549,4.853902760749036,5.084505164296082,5.313675507942504,5.535048179113597,5.742999637013105,5.932674528882921,6.0999953457775655,6.241657497903361,6.355111660651751,6.43853519590293,6.490794387104692,6.511399144287614,6.500451749103123,6.458591100719587,6.386933824288527,6.287013485094408,6.160719041942008,6.010233553779258,5.837974040316613,5.646533281767027,5.438624237015347,5.217027645223611,4.98454327763457,4.7439452111687075,4.49794139558717,4.249137711096303,4.000006619780338,3.7528604649647734,3.5098293669372307,3.2728436599978945,3.043620701850136,2.8236558884628735,2.614217645706553,2.4163461434770888,2.2308554312596947,2.058338715354637,1.8991764350284122,1.753546812200966,1.6214385393202804,1.502665271332127,1.3968815485777668,1.3035998934423105,1.222208680216582,1.1519905273252675,1.092140898868223,1.0417866506892608,1.0000042516323333,0.9658374742668911,0.9383143221698447,0.9164630284358566,0.8993269478568209,0.8859782128430425,0.8755300574496232,0.8671476597775722,0.8600575788864262,0.8535555151340759,0.8470126594307885,0.8398803720191381,0.8316933823425643,0.8220715111959862,0.8107198900222556,0.79742792089246,0.7820669063760306,0.7645864429439371,0.745009961156029,0.7234290714550298,0.6999972650851305,0.6749229407441817,0.6484617066885221,0.6209085205841802,0.5925893512835501,0.5638527900791814,0.5350616784717204,0.5065847736714204,0.4787887356133069,0.4520304295729147,0.42664967676682863,0.40296261473304185,0.3812556402535847,0.36178012226991996,0.34474789539308404,0.3303276030419511,0.3186417930483003,0.3097651244534063,0.30372349165190826,0.3004936744000588,0.30000456261768704,0.3021386658147094,0.3067349338634813,0.31359209210495465,0.32247289154474856,0.3331089215716929,0.3452064011798939,0.3584518992138328,0.3725191799530876,0.3870759395213099,0.4017909812537255,0.41634154644270893,0.43042052880628034,0.44374408286239486,0.45605844259262085,0.4671469753375277,0.4768366806965787,0.485003858077107,0.4915800846647471,0.49655676845577545,0.49998888705158606,0.501998557621846,0.5027776110509876,0.5025879671738949,0.501763045496773,0.5007068695849739,0.4998918270575814,0.4998570427414961,0.5012027902412228,0.5045876767253503,0.5107213363517076,0.5203582240501419,0.5342897286172956,0.5533351249760017,0.5783328582765535,0.6101302570896223,0.6495726042194292,0.6974921695655212,0.7546969559043646,0.821958735701628,0.9000015269266441,0.9894891637377441,1.0910157170146704,1.2050917197484523,1.332135678268969,1.4724643509835005,1.6262813725043088,1.7936705215834081,1.974591176956892,2.168867291416973,2.3761892914772034,2.5961043843999505,2.8280225773341954,3.071210365742445,3.3247985374182463,3.587782184127718,3.859030115418136,4.13728847913444,4.4211933659389615,4.709283055737615,5.000006636604667,5.291744135320187,5.582820639014244,5.871524368412793,6.1561234295368195,6.434891004115343,6.706122548319399,6.968161938712001,7.219416838139296,7.458389459177852,7.683690417557955,7.894067279994488,8.088425152003765,8.265833742916584,8.425572430714965,8.567117730155587,8.690171226859093,8.794677954167128,8.880814410746098,8.949020430445671,8.999976892024279,9.034618198871613,9.054120149463415,9.059895295649767,9.05356913805008,9.036963511258364,9.012085240334272,8.981072649359703,8.94618060439825,8.909735210239887,8.874093547463417,8.841597624123096,8.814524866640568,8.79501772671938,8.785061202943325,8.786400951445103,8.800491213798523,8.828436121344566,8.870934128761292,8.92821928858757,9.000014320015907,9.085491418838501,9.183212906122208,9.29110699892044,9.406471952795982,9.525912567973137,9.645395740866661,9.760239407420158,9.865138545632362,9.954244464635849,10.021232306957245,10.059367924928665,10.061680108308792,10.021042346954346,9.93037348985672,9.78284239768982,9.572090595960617,9.292420387268066,8.93918490409851,8.508961945772171,7.9999823570251465,7.41237199306488,6.748636543750763,6.013881266117096,5.21632045507431,4.367551267147064,3.4829573035240173,2.5820482969284058,1.6886974573135376,0.8315055966377258,0.04381155967712402,-0.6360662579536438,-1.1649830341339111,-1.4950646758079529,-1.5740902423858643,-1.346018671989441,-0.7518287897109985,0.26937198638916016,1.779014229774475,3.837092876434326,6.500020742416382,9.817724466323853,13.830237627029419,18.563722252845764,24.02533519268036,30.197816729545593,37.03248596191406,44.441540241241455,52.288957834243774,60.379958391189575,68.44904065132141,76.14630079269409,83.02169561386108,88.50735640525818,91.89751482009888,92.32588720321655,88.74013924598694,79.87336492538452,64.21190881729126,39.960143089294434,5.000002384185791],\"marker\":{},\"line\":{}}];",
"",
"    var layout = {\"width\":600,\"height\":600,\"template\":{\"layout\":{\"paper_bgcolor\":\"white\",\"plot_bgcolor\":\"white\",\"xaxis\":{\"ticks\":\"inside\",\"mirror\":\"all\",\"showline\":true,\"zeroline\":true},\"yaxis\":{\"ticks\":\"inside\",\"mirror\":\"all\",\"showline\":true,\"zeroline\":true}},\"data\":{}},\"xaxis\":{\"title\":{\"text\":\"xs\"}},\"yaxis\":{\"title\":{\"text\":\"ys\"}}};",
"",
"    var config = {\"responsive\":true};",
"",
"    Plotly.newPlot(\u0027e1355ee7-bb1d-44eb-b12c-5f9a172aac50\u0027, data, layout, config);",
"",
"};",
"",
"renderPlotly_e1355ee7bb1d44ebb12c5f9a172aac50();",
"",
"\u003c/script\u003e\u003c/div\u003e"]
        },
           "execution_count": null,
           "metadata": {},
           "output_type": "execute_result"
          }],
           "source": ["cbChart\n"]
          }
,
          {
           "cell_type": "markdown",
           "metadata": {},
           
           "source": ["Because of Runges phenomenon the interpolating polynomial overshoots in the outer areas of the data. It would be detrimental if this function approximation is used to investigate signal properties.\n",
"\n",
"To reduce this overfitting you can use x axis nodes that are spaced according to Chebyshev. Here, nodes are sparse in the center of the analysed function and are more dense in the outer areas.\n",
"\n"]
          }
,
          {
           "cell_type": "code",
           "metadata": {},
            "execution_count": 15, "outputs": [],
           "source": ["// new x values are determined in the x axis range of the data. These should reduce overshooting behaviour.\n",
"// since the original data consisted of 16 points, 16 nodes are initialized\n",
"let xs_cheby = \n",
"    Interpolation.Approximation.chebyshevNodes (Intervals.Interval.Create(0.,3.)) 16\n",
"\n",
"// to get the corresponding y values to the xs_cheby a linear spline is generated that approximates the new y values\n",
"let ys_cheby =\n",
"    let ls = Interpolation.LinearSpline.initInterpolate xs ys\n",
"    xs_cheby |\u003e Vector.map (Interpolation.LinearSpline.interpolate ls)\n",
"\n",
"// again polynomial interpolation coefficients are determined, but here with the x and y data that correspond to the chebyshev spacing\n",
"let coeffs_cheby = Interpolation.Polynomial.coefficients xs_cheby ys_cheby\n",
"\n",
"\n",
"// Note: the upper panel can be summarized by the follwing function:\n",
"Interpolation.Approximation.approxChebyshevPolynomialFromValues xs ys 16\n"]
          }
,
          {
           "cell_type": "markdown",
           "metadata": {},
           
           "source": ["Using the determined polynomial coefficients, the standard approach for fitting can be used to plot the signal together with the function approximation. Obviously the example data\n",
"is difficult to approximate, but the chebyshev spacing of the x-nodes drastically reduces the overfitting in the outer areas of the signal.\n",
"\n"]
          }
,
          {
           "cell_type": "code",
           "metadata": {},
            "execution_count": 16, "outputs": [],
           "source": ["// function using the cheby_coefficients to get y values of given x value\n",
"let interpolating_cheby x = Interpolation.Polynomial.fit coeffs_cheby x\n",
"\n",
"let interpolChart_cheby =\n",
"    let ys_interpol_cheby = \n",
"        vector [|0. .. 0.01 .. 3.|] \n",
"        |\u003e Seq.map (fun x -\u003e x,interpolating_cheby x)\n",
"\n",
"    Chart.Line(ys_interpol_cheby,Name=\"interpol_cheby\")\n",
"    |\u003e Chart.withTemplate ChartTemplates.lightMirrored\n",
"    |\u003e Chart.withXAxisStyle \"xs\"\n",
"    |\u003e Chart.withYAxisStyle \"ys\"\n",
"\n",
"\n",
"let cbChart_cheby =\n",
"    [\n",
"    chebyChart\n",
"    interpolChart\n",
"    Chart.Line(xs_cheby,ys_cheby,ShowMarkers=true,Name=\"cheby_nodes\") |\u003e Chart.withTemplate ChartTemplates.lightMirrored|\u003e Chart.withXAxisStyle \"xs\"|\u003e Chart.withYAxisStyle \"ys\"\n",
"    interpolChart_cheby\n",
"    ]\n",
"    |\u003e Chart.combine\n",
"    |\u003e Chart.withTemplate ChartTemplates.lightMirrored\n",
"    |\u003e Chart.withXAxisStyle \"xs\"\n",
"    |\u003e Chart.withYAxisStyle \"ys\"\n"]
          }
,
          {
           "cell_type": "code",
           "metadata": {},
            "execution_count": null, "outputs": [
          {
           "data": {
            "text/html": ["\u003cdiv\u003e\u003cdiv id=\"cb839772-a7ed-4ea1-b8b4-9f0cedbd22c2\"\u003e\u003c!-- Plotly chart will be drawn inside this DIV --\u003e\u003c/div\u003e\u003cscript type=\"text/javascript\"\u003evar renderPlotly_cb839772a7ed4ea1b8b49f0cedbd22c2 = function() {",
"",
"    var data = [{\"type\":\"scatter\",\"name\":\"raw\",\"mode\":\"lines+markers\",\"x\":[0.0,0.2,0.4,0.6000000000000001,0.8,1.0,1.2000000000000002,1.4000000000000001,1.6,1.8,2.0,2.2,2.4000000000000004,2.6,2.8000000000000003,3.0],\"y\":[5.0,5.5,6.0,6.1,4.0,1.0,0.7,0.3,0.5,0.9,5.0,9.0,9.0,8.0,6.5,5.0],\"marker\":{},\"line\":{}},{\"type\":\"scatter\",\"name\":\"interpol\",\"mode\":\"lines\",\"x\":[0.0,0.01,0.02,0.03,0.04,0.05,0.06,0.07,0.08,0.09,0.1,0.11,0.12,0.13,0.14,0.15,0.16,0.17,0.18,0.19,0.2,0.21,0.22,0.23,0.24,0.25,0.26,0.27,0.28,0.29,0.3,0.31,0.32,0.33,0.34,0.35000000000000003,0.36,0.37,0.38,0.39,0.4,0.41000000000000003,0.42,0.43,0.44,0.45,0.46,0.47000000000000003,0.48,0.49,0.5,0.51,0.52,0.53,0.54,0.55,0.56,0.5700000000000001,0.58,0.59,0.6,0.61,0.62,0.63,0.64,0.65,0.66,0.67,0.68,0.6900000000000001,0.7000000000000001,0.71,0.72,0.73,0.74,0.75,0.76,0.77,0.78,0.79,0.8,0.81,0.8200000000000001,0.8300000000000001,0.84,0.85,0.86,0.87,0.88,0.89,0.9,0.91,0.92,0.93,0.9400000000000001,0.9500000000000001,0.96,0.97,0.98,0.99,1.0,1.01,1.02,1.03,1.04,1.05,1.06,1.07,1.08,1.09,1.1,1.11,1.12,1.1300000000000001,1.1400000000000001,1.1500000000000001,1.16,1.17,1.18,1.19,1.2,1.21,1.22,1.23,1.24,1.25,1.26,1.27,1.28,1.29,1.3,1.31,1.32,1.33,1.34,1.35,1.36,1.37,1.3800000000000001,1.3900000000000001,1.4000000000000001,1.41,1.42,1.43,1.44,1.45,1.46,1.47,1.48,1.49,1.5,1.51,1.52,1.53,1.54,1.55,1.56,1.57,1.58,1.59,1.6,1.61,1.62,1.6300000000000001,1.6400000000000001,1.6500000000000001,1.6600000000000001,1.67,1.68,1.69,1.7,1.71,1.72,1.73,1.74,1.75,1.76,1.77,1.78,1.79,1.8,1.81,1.82,1.83,1.84,1.85,1.86,1.87,1.8800000000000001,1.8900000000000001,1.9000000000000001,1.9100000000000001,1.92,1.93,1.94,1.95,1.96,1.97,1.98,1.99,2.0,2.0100000000000002,2.02,2.0300000000000002,2.04,2.05,2.06,2.07,2.08,2.09,2.1,2.11,2.12,2.13,2.14,2.15,2.16,2.17,2.18,2.19,2.2,2.21,2.22,2.23,2.24,2.25,2.2600000000000002,2.27,2.2800000000000002,2.29,2.3000000000000003,2.31,2.32,2.33,2.34,2.35,2.36,2.37,2.38,2.39,2.4,2.41,2.42,2.43,2.44,2.45,2.46,2.47,2.48,2.49,2.5,2.5100000000000002,2.52,2.5300000000000002,2.54,2.5500000000000003,2.56,2.57,2.58,2.59,2.6,2.61,2.62,2.63,2.64,2.65,2.66,2.67,2.68,2.69,2.7,2.71,2.72,2.73,2.74,2.75,2.7600000000000002,2.77,2.7800000000000002,2.79,2.8000000000000003,2.81,2.82,2.83,2.84,2.85,2.86,2.87,2.88,2.89,2.9,2.91,2.92,2.93,2.94,2.95,2.96,2.97,2.98,2.99,3.0],\"y\":[5.0,-36.1435892423057,-64.79274807679931,-83.38438997269704,-93.99049422419094,-98.36249465149184,-97.9711804519434,-94.04248966567118,-87.58954867100942,-79.44128567753913,-70.26792226106943,-60.60362451040841,-50.86657425837853,-41.376701080179515,-32.3712971945738,-24.018720033883785,-16.43037099643916,-9.67112370139315,-3.7683608747370685,1.2802342468216648,5.499998452100009,8.93359898601472,11.636222523731528,13.671541276148238,15.108364039861051,16.01788855759685,16.471479475043083,16.538903504028593,16.286960166102553,15.778452728481202,15.071449688502224,14.21879244407403,13.267809635219784,12.260203083771017,11.23207432088692,10.214064400605352,9.231583075864101,8.305106483967533,7.450525272769891,6.679527617184819,6.000003847211908,5.416461451593422,4.930441052398878,4.540925582180887,4.244736350826521,4.036910979599988,3.911059317286339,3.8596944520688443,3.874536801922302,3.9467900218579937,4.067388112473824,4.227213666186697,4.417287652155834,4.628931525386549,4.853902760749036,5.084505164296082,5.313675507942504,5.535048179113597,5.742999637013105,5.932674528882921,6.0999953457775655,6.241657497903361,6.355111660651751,6.43853519590293,6.490794387104692,6.511399144287614,6.500451749103123,6.458591100719587,6.386933824288527,6.287013485094408,6.160719041942008,6.010233553779258,5.837974040316613,5.646533281767027,5.438624237015347,5.217027645223611,4.98454327763457,4.7439452111687075,4.49794139558717,4.249137711096303,4.000006619780338,3.7528604649647734,3.5098293669372307,3.2728436599978945,3.043620701850136,2.8236558884628735,2.614217645706553,2.4163461434770888,2.2308554312596947,2.058338715354637,1.8991764350284122,1.753546812200966,1.6214385393202804,1.502665271332127,1.3968815485777668,1.3035998934423105,1.222208680216582,1.1519905273252675,1.092140898868223,1.0417866506892608,1.0000042516323333,0.9658374742668911,0.9383143221698447,0.9164630284358566,0.8993269478568209,0.8859782128430425,0.8755300574496232,0.8671476597775722,0.8600575788864262,0.8535555151340759,0.8470126594307885,0.8398803720191381,0.8316933823425643,0.8220715111959862,0.8107198900222556,0.79742792089246,0.7820669063760306,0.7645864429439371,0.745009961156029,0.7234290714550298,0.6999972650851305,0.6749229407441817,0.6484617066885221,0.6209085205841802,0.5925893512835501,0.5638527900791814,0.5350616784717204,0.5065847736714204,0.4787887356133069,0.4520304295729147,0.42664967676682863,0.40296261473304185,0.3812556402535847,0.36178012226991996,0.34474789539308404,0.3303276030419511,0.3186417930483003,0.3097651244534063,0.30372349165190826,0.3004936744000588,0.30000456261768704,0.3021386658147094,0.3067349338634813,0.31359209210495465,0.32247289154474856,0.3331089215716929,0.3452064011798939,0.3584518992138328,0.3725191799530876,0.3870759395213099,0.4017909812537255,0.41634154644270893,0.43042052880628034,0.44374408286239486,0.45605844259262085,0.4671469753375277,0.4768366806965787,0.485003858077107,0.4915800846647471,0.49655676845577545,0.49998888705158606,0.501998557621846,0.5027776110509876,0.5025879671738949,0.501763045496773,0.5007068695849739,0.4998918270575814,0.4998570427414961,0.5012027902412228,0.5045876767253503,0.5107213363517076,0.5203582240501419,0.5342897286172956,0.5533351249760017,0.5783328582765535,0.6101302570896223,0.6495726042194292,0.6974921695655212,0.7546969559043646,0.821958735701628,0.9000015269266441,0.9894891637377441,1.0910157170146704,1.2050917197484523,1.332135678268969,1.4724643509835005,1.6262813725043088,1.7936705215834081,1.974591176956892,2.168867291416973,2.3761892914772034,2.5961043843999505,2.8280225773341954,3.071210365742445,3.3247985374182463,3.587782184127718,3.859030115418136,4.13728847913444,4.4211933659389615,4.709283055737615,5.000006636604667,5.291744135320187,5.582820639014244,5.871524368412793,6.1561234295368195,6.434891004115343,6.706122548319399,6.968161938712001,7.219416838139296,7.458389459177852,7.683690417557955,7.894067279994488,8.088425152003765,8.265833742916584,8.425572430714965,8.567117730155587,8.690171226859093,8.794677954167128,8.880814410746098,8.949020430445671,8.999976892024279,9.034618198871613,9.054120149463415,9.059895295649767,9.05356913805008,9.036963511258364,9.012085240334272,8.981072649359703,8.94618060439825,8.909735210239887,8.874093547463417,8.841597624123096,8.814524866640568,8.79501772671938,8.785061202943325,8.786400951445103,8.800491213798523,8.828436121344566,8.870934128761292,8.92821928858757,9.000014320015907,9.085491418838501,9.183212906122208,9.29110699892044,9.406471952795982,9.525912567973137,9.645395740866661,9.760239407420158,9.865138545632362,9.954244464635849,10.021232306957245,10.059367924928665,10.061680108308792,10.021042346954346,9.93037348985672,9.78284239768982,9.572090595960617,9.292420387268066,8.93918490409851,8.508961945772171,7.9999823570251465,7.41237199306488,6.748636543750763,6.013881266117096,5.21632045507431,4.367551267147064,3.4829573035240173,2.5820482969284058,1.6886974573135376,0.8315055966377258,0.04381155967712402,-0.6360662579536438,-1.1649830341339111,-1.4950646758079529,-1.5740902423858643,-1.346018671989441,-0.7518287897109985,0.26937198638916016,1.779014229774475,3.837092876434326,6.500020742416382,9.817724466323853,13.830237627029419,18.563722252845764,24.02533519268036,30.197816729545593,37.03248596191406,44.441540241241455,52.288957834243774,60.379958391189575,68.44904065132141,76.14630079269409,83.02169561386108,88.50735640525818,91.89751482009888,92.32588720321655,88.74013924598694,79.87336492538452,64.21190881729126,39.960143089294434,5.000002384185791],\"marker\":{},\"line\":{}},{\"type\":\"scatter\",\"name\":\"cheby_nodes\",\"mode\":\"lines+markers\",\"x\":[0.007222909991704718,0.06458949640168665,0.1771181034774676,0.34048431995589445,0.5484100737545319,0.7929048947610035,1.0645729841183067,1.3529742895056591,1.647025710494341,1.9354270158816935,2.207095105238997,2.451589926245468,2.6595156800441053,2.8228818965225324,2.9354105035983133,2.9927770900082953],\"y\":[5.018057274979261,5.161473741004217,5.442795258693669,5.851210799889736,6.074205036877266,4.074498605009465,0.9031405238225401,0.394051420988682,0.594051420988682,3.6762538255747166,9.0,8.742050368772661,7.553632399669211,6.328385776081008,5.48442122301265,5.054171824937786],\"marker\":{},\"line\":{}},{\"type\":\"scatter\",\"name\":\"interpol_cheby\",\"mode\":\"lines\",\"x\":[0.0,0.01,0.02,0.03,0.04,0.05,0.06,0.07,0.08,0.09,0.1,0.11,0.12,0.13,0.14,0.15,0.16,0.17,0.18,0.19,0.2,0.21,0.22,0.23,0.24,0.25,0.26,0.27,0.28,0.29,0.3,0.31,0.32,0.33,0.34,0.35000000000000003,0.36,0.37,0.38,0.39,0.4,0.41000000000000003,0.42,0.43,0.44,0.45,0.46,0.47000000000000003,0.48,0.49,0.5,0.51,0.52,0.53,0.54,0.55,0.56,0.5700000000000001,0.58,0.59,0.6,0.61,0.62,0.63,0.64,0.65,0.66,0.67,0.68,0.6900000000000001,0.7000000000000001,0.71,0.72,0.73,0.74,0.75,0.76,0.77,0.78,0.79,0.8,0.81,0.8200000000000001,0.8300000000000001,0.84,0.85,0.86,0.87,0.88,0.89,0.9,0.91,0.92,0.93,0.9400000000000001,0.9500000000000001,0.96,0.97,0.98,0.99,1.0,1.01,1.02,1.03,1.04,1.05,1.06,1.07,1.08,1.09,1.1,1.11,1.12,1.1300000000000001,1.1400000000000001,1.1500000000000001,1.16,1.17,1.18,1.19,1.2,1.21,1.22,1.23,1.24,1.25,1.26,1.27,1.28,1.29,1.3,1.31,1.32,1.33,1.34,1.35,1.36,1.37,1.3800000000000001,1.3900000000000001,1.4000000000000001,1.41,1.42,1.43,1.44,1.45,1.46,1.47,1.48,1.49,1.5,1.51,1.52,1.53,1.54,1.55,1.56,1.57,1.58,1.59,1.6,1.61,1.62,1.6300000000000001,1.6400000000000001,1.6500000000000001,1.6600000000000001,1.67,1.68,1.69,1.7,1.71,1.72,1.73,1.74,1.75,1.76,1.77,1.78,1.79,1.8,1.81,1.82,1.83,1.84,1.85,1.86,1.87,1.8800000000000001,1.8900000000000001,1.9000000000000001,1.9100000000000001,1.92,1.93,1.94,1.95,1.96,1.97,1.98,1.99,2.0,2.0100000000000002,2.02,2.0300000000000002,2.04,2.05,2.06,2.07,2.08,2.09,2.1,2.11,2.12,2.13,2.14,2.15,2.16,2.17,2.18,2.19,2.2,2.21,2.22,2.23,2.24,2.25,2.2600000000000002,2.27,2.2800000000000002,2.29,2.3000000000000003,2.31,2.32,2.33,2.34,2.35,2.36,2.37,2.38,2.39,2.4,2.41,2.42,2.43,2.44,2.45,2.46,2.47,2.48,2.49,2.5,2.5100000000000002,2.52,2.5300000000000002,2.54,2.5500000000000003,2.56,2.57,2.58,2.59,2.6,2.61,2.62,2.63,2.64,2.65,2.66,2.67,2.68,2.69,2.7,2.71,2.72,2.73,2.74,2.75,2.7600000000000002,2.77,2.7800000000000002,2.79,2.8000000000000003,2.81,2.82,2.83,2.84,2.85,2.86,2.87,2.88,2.89,2.9,2.91,2.92,2.93,2.94,2.95,2.96,2.97,2.98,2.99,3.0],\"y\":[5.019201924823986,5.019668484360428,5.032966006912695,5.055085229528666,5.082882947684805,5.113941751462434,5.1464478080867275,5.179084772815717,5.2109420800184925,5.241436023737891,5.270242182823924,5.29723788054636,5.3224534931122935,5.346031536359742,5.36819256567322,5.389207021444897,5.40937224173005,5.428993945635428,5.448371565925523,5.467786877800615,5.487495433234128,5.507720367073994,5.528648192710118,5.5504262518621195,5.57316152530385,5.5969205494471765,5.621730217973986,5.647579278429315,5.6744203611502435,5.702172402368797,5.730723345039118,5.759933020133376,5.78963612804402,5.819645254526487,5.849753868507622,5.879739260247203,5.909365387941927,5.938385609054195,5.966545279579395,5.993584210264666,6.0192389735863925,6.043245059194538,6.065338878645591,6.085259622669466,6.102750976039049,6.117562696412166,6.129452064374588,6.138185212392879,6.143538340548395,6.145298826831601,6.143266239466138,6.137253258263478,6.127086511413484,6.112607333432781,6.093672449241481,6.070154588583114,6.041943034201312,6.008944106436926,5.971081586170199,5.928297077334874,5.880550309614187,5.827819381347828,5.770100942198042,5.707410314709764,5.63978155355475,5.567267441032435,5.489939417208742,5.407887443008049,5.321219794586681,5.230062787373271,5.1345604283357,5.034873995243088,4.9311815419918545,4.823677329391135,4.712571181223746,4.598087765789502,4.480465803696915,4.3599572030813025,4.236826124025175,4.111347974496403,3.9838083406506954,3.8545018549063297,3.72373100580693,3.5918048941688627,3.4590379405567253,3.3257485496790946,3.1922577377164787,3.058887729082328,2.9259605294593816,2.7937964825155164,2.66271281763135,2.533022196771365,2.405031268380243,2.2790392366026766,2.155336454129934,2.0342030472590844,1.9159075812842938,1.8007057746402473,1.688839270201957,1.5805344714683045,1.4760014515028184,1.3754329422088913,1.2790034108508528,1.1868682307223057,1.099162952122965,1.0160026792663244,0.9374815584310454,0.8636723820026386,0.7946263121500632,0.7303727274219369,0.6709191950084943,0.6162515705429996,0.5663342258595243,0.5211104062059029,0.4805027152029133,0.4444137274569613,0.41272672551587775,0.38530655926193447,0.3620006242418299,0.3426399534049267,0.3270404180657138,0.3150040320493801,0.30632035214712516,0.30076796731981403,0.2981160695294136,0.2981260969703925,0.3005534401365395,0.30514920249480326,0.3116620043074505,0.319839819491051,0.3294318343215821,0.3401903177908139,0.35187249039847757,0.36424238145414733,0.3770726622591951,0.3901464428325596,0.4032590218692462,0.41621957656843733,0.42885278294897944,0.44100035255740977,0.4525224763917777,0.46329916605668586,0.47323148020905137,0.48224262745554825,0.49027893615084395,0.4973106838382364,0.5033327781293337,0.5083652803664336,0.5124537674437306,0.5156695270597993,0.5181095797224771,0.519896529006246,0.5211782270516778,0.5221272678027162,0.522940297446894,0.5238371446628207,0.525059776411581,0.526871078707245,0.5295534651477283,0.5334073241615442,0.5387492982449658,0.5459104290412142,0.5552341416259878,0.5670741022804577,0.5817919549963335,0.5997549479634472,0.6213334527910774,0.646898404370404,0.6768186722601968,0.7114583664688325,0.7511741193975467,0.7963123139452364,0.8472063402077765,0.9041738340783922,0.9675139654191298,1.0375047481793445,1.114400443402701,1.1984290193013294,1.2897897264501808,1.3886507914612594,1.4951472442517115,1.6093788926118577,1.7314085048965353,1.8612601148379326,1.9989176044364285,2.1443234504549764,2.2973777409752074,2.4579373965279956,2.625815710569441,2.8007820925777196,2.9825621419367963,3.1708379675183096,3.3652488096122397,3.565391984928283,3.7708240836363984,3.9810624863166595,4.195587201291346,4.413842942260089,4.635241515468806,4.8591645397100365,5.084966330701718,5.311977138990187,5.539506590779638,5.76684733320144,5.9932789340819,6.218071965267882,6.440492194436956,6.659805026371032,6.875279901025351,7.086194979143329,7.291841656755423,7.491529314516811,7.684589926153421,7.870382626482751,8.048298350709956,8.217764085624367,8.378247263084631,8.529259732167702,8.67036164784804,8.80116504477337,8.92133709276095,9.03060303448001,9.128748759161681,9.215622949239332,9.291138744098134,9.355275046487805,9.408077318104915,9.449657626799308,9.480194490752183,9.499931888887659,9.509177802596241,9.508302258094773,9.497734519536607,9.477959936135449,9.44951617764309,9.412988609052263,9.369005525484681,9.318232542602345,9.261366504244506,9.199129126966,9.13225996051915,9.0615091023501,8.98762945807539,8.911369148874655,8.833463130984455,8.754625017987564,8.67553916759789,8.596852142363787,8.519165082834661,8.443025858607143,8.368921996559948,8.297273458447307,8.22842691699043,8.162650190293789,8.100127681624144,8.040956726297736,7.985145610291511,7.932611327152699,7.883181234821677,7.836593322455883,7.792500269599259,7.750473222695291,7.710009815171361,7.670540572144091,7.631440993398428,7.592041320167482,7.551641968078911,7.50952737685293,7.4649835135787725,7.417317015118897,7.365872855298221,7.310057090595365,7.24935601092875,7.1833593137562275,7.111780896782875,7.034478822723031,6.951474890112877,6.862971046939492,6.7693643774837255,6.671254031360149,6.569448880851269,6.4649623837322,6.359003283083439,6.252955794334412,6.148345544934273,6.046796400099993,5.949966955929995,5.859469696879387,5.776769772171974,5.7030581049621105,5.639095079153776,5.585025489330292,5.5401531457901,5.50267917662859,5.469391033053398,5.43530261144042,5.393236607313156,5.333343178033829,5.242547869682312,5.103925585746765,4.895983010530472],\"marker\":{},\"line\":{}}];",
"",
"    var layout = {\"width\":600,\"height\":600,\"template\":{\"layout\":{\"paper_bgcolor\":\"white\",\"plot_bgcolor\":\"white\",\"xaxis\":{\"ticks\":\"inside\",\"mirror\":\"all\",\"showline\":true,\"zeroline\":true},\"yaxis\":{\"ticks\":\"inside\",\"mirror\":\"all\",\"showline\":true,\"zeroline\":true}},\"data\":{}},\"xaxis\":{\"title\":{\"text\":\"xs\"}},\"yaxis\":{\"title\":{\"text\":\"ys\"}}};",
"",
"    var config = {\"responsive\":true};",
"",
"    Plotly.newPlot(\u0027cb839772-a7ed-4ea1-b8b4-9f0cedbd22c2\u0027, data, layout, config);",
"",
"};",
"",
"renderPlotly_cb839772a7ed4ea1b8b49f0cedbd22c2();",
"",
"\u003c/script\u003e\u003c/div\u003e"]
        },
           "execution_count": null,
           "metadata": {},
           "output_type": "execute_result"
          }],
           "source": ["cbChart_cheby\n"]
          }
,
          {
           "cell_type": "markdown",
           "metadata": {},
           
           "source": ["If a non-polynomal function should be approximated as polynomial you can use `Interpolation.Approximation.approxChebyshevPolynomial` with specifying the interval in which the function should be approximated.\n",
"\n",
"## Further reading\n",
"\n",
"* Amazing blog post regarding Runges phenomenon and chebyshev spacing [https://www.mscroggs.co.uk/blog/57](https://www.mscroggs.co.uk/blog/57)\n",
"\n"]
          }],
            "metadata": {
            "kernelspec": {"display_name": ".NET (F#)", "language": "F#", "name": ".net-fsharp"},
            "langauge_info": {
        "file_extension": ".fs",
        "mimetype": "text/x-fsharp",
        "name": "C#",
        "pygments_lexer": "fsharp",
        "version": "4.5"
        }
        },
            "nbformat": 4,
            "nbformat_minor": 1
        }
        

