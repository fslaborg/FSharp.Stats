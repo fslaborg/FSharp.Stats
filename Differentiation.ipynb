
        {
            "cells": [
          {
           "cell_type": "markdown",
           "metadata": {},
           
           "source": []
          }
,
          {
           "cell_type": "code",
           "metadata": {},
            "execution_count": null, "outputs": [],
           "source": ["#r \"nuget: Plotly.NET, 4.0.0\"\n",
"#r \"nuget: Plotly.NET.Interactive, 4.0.0\"\n",
"#r \"nuget: FSharp.Stats\"\n"]
          }
,
          {
           "cell_type": "markdown",
           "metadata": {},
           
           "source": ["# Numerical Differentiation\n",
"\n",
"[![Binder](https://mybinder.org/badge_logo.svg)](https://mybinder.org/v2/gh/fslaborg/FSharp.Stats/gh-pages?urlpath=/tree/home/jovyan/Integration.ipynb)\n",
"[![Notebook](https://fslab.org/FSharp.Stats/img/badge-notebook.svg)](https://fslab.org/FSharp.Stats/Differentiation.ipynb)\n",
"\n",
"Numerical differentiation is used to estimate the derivative of a mathematical function using values of the function and perhaps other knowledge about the function.\n",
"\n",
"### Three-Point Differentiation\n",
"\n",
"FSharp.Stats implements a three point differentiation method. This method takes a set of values and their function values. For a given value xT of the set, one defines three other points which should be considered to calculate the differential at xT.\n",
"Here follows a small snippet.\n",
"\n",
"First, we create our data. In this case our function is f(x) = x ^ 3.\n",
"\n"]
          }
,
          {
           "cell_type": "code",
           "metadata": {},
            "execution_count": 3, "outputs": [],
           "source": ["open Plotly.NET\n",
"open FSharp.Stats\n",
"\n",
"// x data\n",
"let xs = Array.init 100 (fun x -\u003e float x / 8.)\n",
"// y data\n",
"let ys = Array.map (fun x -\u003e x ** 3.) xs\n"]
          }
,
          {
           "cell_type": "markdown",
           "metadata": {},
           
           "source": ["Now we apply the threePointDifferentiation to every point starting with the second and ending with the second last. We can\u0027t do it for every point because for every point we need to have three other points in close proximity.\n",
"\n"]
          }
,
          {
           "cell_type": "code",
           "metadata": {},
            "execution_count": 4, "outputs": [],
           "source": ["let y\u0027s = \n",
"    [|\n",
"    for i = 1 to xs.Length - 2 do\n",
"        yield xs.[i],Integration.Differentiation.differentiateThreePoint xs ys i (i-1) (i) (i+1)\n",
"    |]\n"]
          }
,
          {
           "cell_type": "markdown",
           "metadata": {},
           
           "source": ["We compare the resulting values with the values of the known differential f\u0027(x) = 3x^2, here called g(x)\n",
"\n"]
          }
,
          {
           "cell_type": "code",
           "metadata": {},
            "execution_count": 5, "outputs": [],
           "source": ["open Plotly.NET\n",
"\n",
"let comparisonChart = \n",
"    [\n",
"    Chart.Point(xs,ys,Name = \"f(x)\")\n",
"    Chart.Point(y\u0027s,Name = \"f\u0027(x)\")\n",
"    Chart.Point(Array.map (fun x -\u003e x,(x ** 2.) * 3.) xs,Name = \"g(x)\")\n",
"    ]\n",
"    |\u003e Chart.combine\n",
"    |\u003e Chart.withTemplate ChartTemplates.lightMirrored\n"]
          }
,
          {
           "cell_type": "code",
           "metadata": {},
            "execution_count": null, "outputs": [
          {
           "data": {
            "text/html": ["\u003cdiv\u003e\u003cdiv id=\"be9e24d3-4105-4978-b859-605c628020b1\"\u003e\u003c!-- Plotly chart will be drawn inside this DIV --\u003e\u003c/div\u003e\u003cscript type=\"text/javascript\"\u003evar renderPlotly_be9e24d341054978b859605c628020b1 = function() {",
"",
"    var data = [{\"type\":\"scatter\",\"name\":\"f(x)\",\"mode\":\"markers\",\"x\":[0.0,0.125,0.25,0.375,0.5,0.625,0.75,0.875,1.0,1.125,1.25,1.375,1.5,1.625,1.75,1.875,2.0,2.125,2.25,2.375,2.5,2.625,2.75,2.875,3.0,3.125,3.25,3.375,3.5,3.625,3.75,3.875,4.0,4.125,4.25,4.375,4.5,4.625,4.75,4.875,5.0,5.125,5.25,5.375,5.5,5.625,5.75,5.875,6.0,6.125,6.25,6.375,6.5,6.625,6.75,6.875,7.0,7.125,7.25,7.375,7.5,7.625,7.75,7.875,8.0,8.125,8.25,8.375,8.5,8.625,8.75,8.875,9.0,9.125,9.25,9.375,9.5,9.625,9.75,9.875,10.0,10.125,10.25,10.375,10.5,10.625,10.75,10.875,11.0,11.125,11.25,11.375,11.5,11.625,11.75,11.875,12.0,12.125,12.25,12.375],\"y\":[0.0,0.001953125,0.015625,0.052734375,0.125,0.244140625,0.421875,0.669921875,1.0,1.423828125,1.953125,2.599609375,3.375,4.291015625,5.359375,6.591796875,8.0,9.595703125,11.390625,13.396484375,15.625,18.087890625,20.796875,23.763671875,27.0,30.517578125,34.328125,38.443359375,42.875,47.634765625,52.734375,58.185546875,64.0,70.189453125,76.765625,83.740234375,91.125,98.931640625,107.171875,115.857421875,125.0,134.611328125,144.703125,155.287109375,166.375,177.978515625,190.109375,202.779296875,216.0,229.783203125,244.140625,259.083984375,274.625,290.775390625,307.546875,324.951171875,343.0,361.705078125,381.078125,401.130859375,421.875,443.322265625,465.484375,488.373046875,512.0,536.376953125,561.515625,587.427734375,614.125,641.619140625,669.921875,699.044921875,729.0,759.798828125,791.453125,823.974609375,857.375,891.666015625,926.859375,962.966796875,1000.0,1037.970703125,1076.890625,1116.771484375,1157.625,1199.462890625,1242.296875,1286.138671875,1331.0,1376.892578125,1423.828125,1471.818359375,1520.875,1571.009765625,1622.234375,1674.560546875,1728.0,1782.564453125,1838.265625,1895.115234375],\"marker\":{},\"line\":{}},{\"type\":\"scatter\",\"name\":\"f\u0027(x)\",\"mode\":\"markers\",\"x\":[0.125,0.25,0.375,0.5,0.625,0.75,0.875,1.0,1.125,1.25,1.375,1.5,1.625,1.75,1.875,2.0,2.125,2.25,2.375,2.5,2.625,2.75,2.875,3.0,3.125,3.25,3.375,3.5,3.625,3.75,3.875,4.0,4.125,4.25,4.375,4.5,4.625,4.75,4.875,5.0,5.125,5.25,5.375,5.5,5.625,5.75,5.875,6.0,6.125,6.25,6.375,6.5,6.625,6.75,6.875,7.0,7.125,7.25,7.375,7.5,7.625,7.75,7.875,8.0,8.125,8.25,8.375,8.5,8.625,8.75,8.875,9.0,9.125,9.25,9.375,9.5,9.625,9.75,9.875,10.0,10.125,10.25,10.375,10.5,10.625,10.75,10.875,11.0,11.125,11.25,11.375,11.5,11.625,11.75,11.875,12.0,12.125,12.25],\"y\":[0.0625,0.203125,0.4375,0.765625,1.1875,1.703125,2.3125,3.015625,3.8125,4.703125,5.6875,6.765625,7.9375,9.203125,10.5625,12.015625,13.5625,15.203125,16.9375,18.765625,20.6875,22.703125,24.8125,27.015625,29.3125,31.703125,34.1875,36.765625,39.4375,42.203125,45.0625,48.015625,51.0625,54.203125,57.4375,60.765625,64.1875,67.703125,71.3125,75.015625,78.8125,82.703125,86.6875,90.765625,94.9375,99.203125,103.5625,108.015625,112.5625,117.203125,121.9375,126.765625,131.6875,136.703125,141.8125,147.015625,152.3125,157.703125,163.1875,168.765625,174.4375,180.203125,186.0625,192.015625,198.0625,204.203125,210.4375,216.765625,223.1875,229.703125,236.3125,243.015625,249.8125,256.703125,263.6875,270.765625,277.9375,285.203125,292.5625,300.015625,307.5625,315.203125,322.9375,330.765625,338.6875,346.703125,354.8125,363.015625,371.3125,379.703125,388.1875,396.765625,405.4375,414.203125,423.0625,432.015625,441.0625,450.203125],\"marker\":{},\"line\":{}},{\"type\":\"scatter\",\"name\":\"g(x)\",\"mode\":\"markers\",\"x\":[0.0,0.125,0.25,0.375,0.5,0.625,0.75,0.875,1.0,1.125,1.25,1.375,1.5,1.625,1.75,1.875,2.0,2.125,2.25,2.375,2.5,2.625,2.75,2.875,3.0,3.125,3.25,3.375,3.5,3.625,3.75,3.875,4.0,4.125,4.25,4.375,4.5,4.625,4.75,4.875,5.0,5.125,5.25,5.375,5.5,5.625,5.75,5.875,6.0,6.125,6.25,6.375,6.5,6.625,6.75,6.875,7.0,7.125,7.25,7.375,7.5,7.625,7.75,7.875,8.0,8.125,8.25,8.375,8.5,8.625,8.75,8.875,9.0,9.125,9.25,9.375,9.5,9.625,9.75,9.875,10.0,10.125,10.25,10.375,10.5,10.625,10.75,10.875,11.0,11.125,11.25,11.375,11.5,11.625,11.75,11.875,12.0,12.125,12.25,12.375],\"y\":[0.0,0.046875,0.1875,0.421875,0.75,1.171875,1.6875,2.296875,3.0,3.796875,4.6875,5.671875,6.75,7.921875,9.1875,10.546875,12.0,13.546875,15.1875,16.921875,18.75,20.671875,22.6875,24.796875,27.0,29.296875,31.6875,34.171875,36.75,39.421875,42.1875,45.046875,48.0,51.046875,54.1875,57.421875,60.75,64.171875,67.6875,71.296875,75.0,78.796875,82.6875,86.671875,90.75,94.921875,99.1875,103.546875,108.0,112.546875,117.1875,121.921875,126.75,131.671875,136.6875,141.796875,147.0,152.296875,157.6875,163.171875,168.75,174.421875,180.1875,186.046875,192.0,198.046875,204.1875,210.421875,216.75,223.171875,229.6875,236.296875,243.0,249.796875,256.6875,263.671875,270.75,277.921875,285.1875,292.546875,300.0,307.546875,315.1875,322.921875,330.75,338.671875,346.6875,354.796875,363.0,371.296875,379.6875,388.171875,396.75,405.421875,414.1875,423.046875,432.0,441.046875,450.1875,459.421875],\"marker\":{},\"line\":{}}];",
"",
"    var layout = {\"width\":600,\"height\":600,\"template\":{\"layout\":{\"paper_bgcolor\":\"white\",\"plot_bgcolor\":\"white\",\"xaxis\":{\"ticks\":\"inside\",\"mirror\":\"all\",\"showline\":true,\"zeroline\":true},\"yaxis\":{\"ticks\":\"inside\",\"mirror\":\"all\",\"showline\":true,\"zeroline\":true}},\"data\":{}}};",
"",
"    var config = {\"responsive\":true};",
"",
"    Plotly.newPlot(\u0027be9e24d3-4105-4978-b859-605c628020b1\u0027, data, layout, config);",
"",
"};",
"",
"renderPlotly_be9e24d341054978b859605c628020b1();",
"",
"\u003c/script\u003e\u003c/div\u003e"]
        },
           "execution_count": null,
           "metadata": {},
           "output_type": "execute_result"
          }],
           "source": ["comparisonChart\n"]
          }
,
          {
           "cell_type": "markdown",
           "metadata": {},
           
           "source": ["### Two-Point Differentiation\n",
"\n",
"To calculate the approximation for the derivative, a Two-Point Differentiation calculates the difference of f(x) at x and f(x) at x+h and correlates it to h.\n",
"This will give better approximations the smaller h is.\n",
"The function uses two different mathematical approaches to decrease the error, one for h \u0026gt; 1. and one for h \u0026lt; 1.\n",
"\n"]
          }
,
          {
           "cell_type": "code",
           "metadata": {},
            "execution_count": null, "outputs": [],
           "source": ["\u003c/br\u003e\n"]
          }
,
          {
           "cell_type": "markdown",
           "metadata": {},
           
           "source": ["![Data model](img/Derivative.svg.png)\n",
"\n"]
          }
,
          {
           "cell_type": "code",
           "metadata": {},
            "execution_count": null, "outputs": [],
           "source": ["\u003c/br\u003e\n"]
          }
,
          {
           "cell_type": "code",
           "metadata": {},
            "execution_count": 7, "outputs": [],
           "source": ["open FSharp.Stats.Integration.Differentiation.TwoPointDifferentiation\n",
"open FSharp.Stats.Integration.Differentiation\n",
"\n",
"let testFunction x = x**2. \n",
"\n",
"let test1 = differentiate 0.5 testFunction 2.\n",
"//Result for test1 is: 4.00\n",
"\n",
"let test2 = differentiate 3. testFunction 2.\n",
"//Result for test2 is: 7.00\n",
"\n",
"let test3 = differentiate 0.1 testFunction 2.\n",
"//Result for test3 is: 4.00\n"]
          }
,
          {
           "cell_type": "markdown",
           "metadata": {},
           
           "source": ["* The correct result for test1 (f(x) = x**2.) is assumed to be 4.\n",
"\n",
"* With a higher h (for test2 h = 3., compared to the 0.5 used in test1) the approximation error increases.\n",
"\n",
"You can try and find an optimal h - value with the \"differentiateOptimalHBy\" - function.\n",
"This function uses the first h-value it assumes to give good results for the numerical differentiation calculation.\n",
"Due to this, possible error due to float precision is avoided.\n",
"In the following example this is not really necessary, as values are quite big.\n",
"\n"]
          }
,
          {
           "cell_type": "code",
           "metadata": {},
            "execution_count": 8, "outputs": [],
           "source": ["let hArray = [|0.1 .. 0.1 .. 2.|]\n",
"\n",
"let test4 = differentiateOptimalHBy hArray testFunction 2.\n",
"//Result for test4 is: 4.00\n"]
          }
,
          {
           "cell_type": "markdown",
           "metadata": {},
           
           "source": ["If you want to use a presuggested hArray then you can use the \"differentiateOptimalH\" function.\n",
"This function uses an array from 0.01 to 5e^-100 in [|0.01; 0.005; 0.001; 0.0005; 0.0001 ..|]()-increments as hArray.\n",
"\n"]
          }
,
          {
           "cell_type": "code",
           "metadata": {},
            "execution_count": 9, "outputs": [],
           "source": ["let test5 = differentiateOptimalH testFunction 2. \n",
"//Result for test5 is: 4.00\n"]
          }],
            "metadata": {
            "kernelspec": {"display_name": ".NET (F#)", "language": "F#", "name": ".net-fsharp"},
            "langauge_info": {
        "file_extension": ".fs",
        "mimetype": "text/x-fsharp",
        "name": "C#",
        "pygments_lexer": "fsharp",
        "version": "4.5"
        }
        },
            "nbformat": 4,
            "nbformat_minor": 1
        }
        

