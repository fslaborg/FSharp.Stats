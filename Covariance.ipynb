
        {
            "cells": [
          {
           "cell_type": "markdown",
           "metadata": {},
           
           "source": []
          }
,
          {
           "cell_type": "code",
           "metadata": {},
            "execution_count": null, "outputs": [],
           "source": ["#r \"nuget: Plotly.NET, 4.0.0\"\n",
"#r \"nuget: Plotly.NET.Interactive, 4.0.0\"\n",
"#r \"nuget: FSharp.Stats\"\n"]
          }
,
          {
           "cell_type": "markdown",
           "metadata": {},
           
           "source": ["# Covariance\n",
"\n",
"[![Binder](https://mybinder.org/badge_logo.svg)](https://mybinder.org/v2/gh/fslaborg/FSharp.Stats/gh-pages?urlpath=/tree/home/jovyan/Covariance\n",
".ipynb)\n",
"[![Notebook](https://fslab.org/FSharp.Stats/img/badge-notebook.svg)](https://fslab.org/FSharp.Stats/Covariance.ipynb)\n",
"\n",
"**Summary:** This tutorial explains how to investigate the covariance of two samples with FSharp.Stats\n",
"\n",
"Lets first define some sample data:\n",
"\n"]
          }
,
          {
           "cell_type": "code",
           "metadata": {},
            "execution_count": 3, "outputs": [],
           "source": ["open Plotly.NET\n",
"open FSharp.Stats\n",
"\n",
"let rnd = System.Random()\n",
"let error() = rnd.Next(11)\n",
"\n",
"let sampleA = Vector.init 50 (fun x -\u003e float x)\n",
"let sampleB = Vector.init 50 (fun x -\u003e float (x + error()))\n",
"let sampleBHigh = sampleB |\u003e Vector.map (fun x -\u003e 200. + x)\n",
"let sampleC = Vector.init 50 (fun x -\u003e 100. - float (x + 3 * error()))\n",
"let sampleD = Vector.init 50 (fun x -\u003e 100. + float (10 * error()))\n",
"\n",
"\n",
"let sampleChart =\n",
"    [\n",
"        Chart.Point(sampleA,sampleB,\"AB\")\n",
"        Chart.Point(sampleA,sampleC,\"AC\")\n",
"        Chart.Point(sampleA,sampleD,\"AD\")  \n",
"        Chart.Point(sampleA,sampleBHigh,\"AB+\")   \n",
"    ]\n",
"    |\u003e Chart.combine\n",
"    |\u003e Chart.withTemplate ChartTemplates.lightMirrored\n",
"    |\u003e Chart.withXAxisStyle \"x\"\n",
"    |\u003e Chart.withYAxisStyle \"y\"\n",
"    |\u003e Chart.withTitle \"test cases for covariance calculation\"\n"]
          }
,
          {
           "cell_type": "markdown",
           "metadata": {},
           
           "source": ["The [covariance](https://en.wikipedia.org/wiki/Covariance) of two samples describes the relationship of both variables. If one variable\n",
"tends to be high if its pair is high also, the covariance is positive. If on variable is low while its pair is high\n",
"the covariance is negative. If there is no (monotone) relationship between both variables, the covariance is zero.\n",
"\n",
"A positive covariance indicates a positive slope of a regression line, while a negative covariance indicates a negative slope.\n",
"If the total population is given the covPopulation without Bessel\u0027s correction can be calculated.\n",
"\n",
"$\\operatorname{cov}(X, Y) = \\operatorname{E}{\\big[(X - \\operatorname{E}[X])(Y - \\operatorname{E}[Y])\\big]}$\n",
"\n",
"**Note: The amplitude of covariance does not correlate with the slope, neither it correlates with the spread of the data points from the regression line.**\n",
"\n",
"A standardized measure for how well the data lie on the regression line is given by correlation analysis. The pearson correlation coefficient\n",
"is defined as\n",
"\n",
"$\\rho_{X,Y}= \\frac{\\operatorname{cov}(X,Y)}{\\sigma_X \\sigma_Y}$\n",
"\n",
"**References:**\n",
"\n",
"* Fahrmeir L et al., Statistik - Der Weg zur Datenanalyse, 8. Auflage, doi 10.1007/978-3-662-50372-0\n",
"\n",
"`cov` and `covPopulation` are available as sequence (and other collections) extensions:\n",
"\n"]
          }
,
          {
           "cell_type": "code",
           "metadata": {},
            "execution_count": 4, "outputs": [],
           "source": ["let covAB     = Vector.cov sampleA sampleB\n",
"let covAC     = Vector.cov sampleA sampleC\n",
"let covAD     = Vector.cov sampleA sampleD\n",
"let covABHigh = Vector.cov sampleA sampleBHigh\n",
"\n",
"let covPopAB     = Vector.covPopulation sampleA sampleB\n",
"let covPopAC     = Vector.covPopulation sampleA sampleC\n",
"let covPopAD     = Vector.covPopulation sampleA sampleD\n",
"let covPopABHigh = Vector.covPopulation sampleA sampleBHigh\n",
"\n",
"open Correlation\n",
"let pearsonAB     = Seq.pearson sampleA sampleB\n",
"let pearsonAC     = Seq.pearson sampleA sampleC\n",
"let pearsonAD     = Seq.pearson sampleA sampleD\n",
"let pearsonABHigh = Seq.pearson sampleA sampleBHigh\n"]
          }
,
          {
           "cell_type": "code",
           "metadata": {},
            "execution_count": null, "outputs": [
          {
           "data": {
            "text/html": ["\u003cdiv\u003e\u003cdiv id=\"f60a2ded-8f67-4ac6-8d22-d3d9983ebc32\"\u003e\u003c!-- Plotly chart will be drawn inside this DIV --\u003e\u003c/div\u003e\u003cscript type=\"text/javascript\"\u003evar renderPlotly_f60a2ded8f674ac68d22d3d9983ebc32 = function() {",
"",
"    var data = [{\"type\":\"scatter\",\"name\":\"AB\",\"mode\":\"markers\",\"x\":[0.0,1.0,2.0,3.0,4.0,5.0,6.0,7.0,8.0,9.0,10.0,11.0,12.0,13.0,14.0,15.0,16.0,17.0,18.0,19.0,20.0,21.0,22.0,23.0,24.0,25.0,26.0,27.0,28.0,29.0,30.0,31.0,32.0,33.0,34.0,35.0,36.0,37.0,38.0,39.0,40.0,41.0,42.0,43.0,44.0,45.0,46.0,47.0,48.0,49.0],\"y\":[4.0,9.0,5.0,7.0,12.0,11.0,14.0,10.0,17.0,9.0,12.0,14.0,15.0,17.0,24.0,16.0,17.0,25.0,25.0,26.0,23.0,25.0,26.0,32.0,34.0,31.0,26.0,34.0,37.0,31.0,37.0,40.0,40.0,36.0,37.0,45.0,39.0,47.0,40.0,43.0,48.0,44.0,52.0,50.0,50.0,50.0,56.0,48.0,49.0,58.0],\"marker\":{},\"line\":{}},{\"type\":\"scatter\",\"name\":\"AC\",\"mode\":\"markers\",\"x\":[0.0,1.0,2.0,3.0,4.0,5.0,6.0,7.0,8.0,9.0,10.0,11.0,12.0,13.0,14.0,15.0,16.0,17.0,18.0,19.0,20.0,21.0,22.0,23.0,24.0,25.0,26.0,27.0,28.0,29.0,30.0,31.0,32.0,33.0,34.0,35.0,36.0,37.0,38.0,39.0,40.0,41.0,42.0,43.0,44.0,45.0,46.0,47.0,48.0,49.0],\"y\":[88.0,72.0,86.0,76.0,81.0,71.0,67.0,84.0,62.0,82.0,87.0,62.0,82.0,57.0,65.0,73.0,54.0,77.0,79.0,54.0,56.0,55.0,57.0,74.0,73.0,45.0,44.0,58.0,54.0,71.0,43.0,42.0,38.0,61.0,42.0,53.0,49.0,63.0,53.0,37.0,45.0,50.0,28.0,48.0,26.0,49.0,48.0,53.0,52.0,42.0],\"marker\":{},\"line\":{}},{\"type\":\"scatter\",\"name\":\"AD\",\"mode\":\"markers\",\"x\":[0.0,1.0,2.0,3.0,4.0,5.0,6.0,7.0,8.0,9.0,10.0,11.0,12.0,13.0,14.0,15.0,16.0,17.0,18.0,19.0,20.0,21.0,22.0,23.0,24.0,25.0,26.0,27.0,28.0,29.0,30.0,31.0,32.0,33.0,34.0,35.0,36.0,37.0,38.0,39.0,40.0,41.0,42.0,43.0,44.0,45.0,46.0,47.0,48.0,49.0],\"y\":[150.0,140.0,170.0,180.0,130.0,150.0,110.0,200.0,120.0,190.0,110.0,200.0,160.0,120.0,180.0,100.0,200.0,130.0,100.0,110.0,150.0,180.0,190.0,190.0,200.0,110.0,160.0,100.0,150.0,130.0,200.0,130.0,150.0,130.0,120.0,130.0,130.0,150.0,160.0,120.0,160.0,120.0,130.0,130.0,130.0,140.0,180.0,200.0,100.0,180.0],\"marker\":{},\"line\":{}},{\"type\":\"scatter\",\"name\":\"AB+\",\"mode\":\"markers\",\"x\":[0.0,1.0,2.0,3.0,4.0,5.0,6.0,7.0,8.0,9.0,10.0,11.0,12.0,13.0,14.0,15.0,16.0,17.0,18.0,19.0,20.0,21.0,22.0,23.0,24.0,25.0,26.0,27.0,28.0,29.0,30.0,31.0,32.0,33.0,34.0,35.0,36.0,37.0,38.0,39.0,40.0,41.0,42.0,43.0,44.0,45.0,46.0,47.0,48.0,49.0],\"y\":[204.0,209.0,205.0,207.0,212.0,211.0,214.0,210.0,217.0,209.0,212.0,214.0,215.0,217.0,224.0,216.0,217.0,225.0,225.0,226.0,223.0,225.0,226.0,232.0,234.0,231.0,226.0,234.0,237.0,231.0,237.0,240.0,240.0,236.0,237.0,245.0,239.0,247.0,240.0,243.0,248.0,244.0,252.0,250.0,250.0,250.0,256.0,248.0,249.0,258.0],\"marker\":{},\"line\":{}}];",
"",
"    var layout = {\"width\":600,\"height\":600,\"template\":{\"layout\":{\"paper_bgcolor\":\"white\",\"plot_bgcolor\":\"white\",\"xaxis\":{\"ticks\":\"inside\",\"mirror\":\"all\",\"showline\":true,\"zeroline\":true},\"yaxis\":{\"ticks\":\"inside\",\"mirror\":\"all\",\"showline\":true,\"zeroline\":true}},\"data\":{}},\"xaxis\":{\"title\":{\"text\":\"x\"}},\"yaxis\":{\"title\":{\"text\":\"y\"}},\"title\":{\"text\":\"test cases for covariance calculation\"}};",
"",
"    var config = {\"responsive\":true};",
"",
"    Plotly.newPlot(\u0027f60a2ded-8f67-4ac6-8d22-d3d9983ebc32\u0027, data, layout, config);",
"",
"};",
"",
"renderPlotly_f60a2ded8f674ac68d22d3d9983ebc32();",
"",
"\u003c/script\u003e\u003c/div\u003e"]
        },
           "execution_count": null,
           "metadata": {},
           "output_type": "execute_result"
          },

          {
           "data": {
            "text/plain": ["\"Covariance of the presented four test cases",
"",
"AB (blue)   cov: 217.70    covPopulation: 213.35   pearson: 0.979",
"",
"AC (orange) cov: -177.6    covPopulation: -174.0   pearson: -0.77",
"",
"AD (green)  cov: -41.63    covPopulation: -40.80   pearson: -0.089",
"",
"AB+(red)    cov: 217.70    covPopulation: 213.35   pearson: 0.979\""]
        },
           "execution_count": null,
           "metadata": {},
           "output_type": "execute_result"
          }],
           "source": ["sampleChart\n"]
          }],
            "metadata": {
            "kernelspec": {"display_name": ".NET (F#)", "language": "F#", "name": ".net-fsharp"},
            "langauge_info": {
        "file_extension": ".fs",
        "mimetype": "text/x-fsharp",
        "name": "C#",
        "pygments_lexer": "fsharp",
        "version": "4.5"
        }
        },
            "nbformat": 4,
            "nbformat_minor": 1
        }
        

