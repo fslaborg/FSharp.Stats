
        {
            "cells": [
          {
           "cell_type": "markdown",
           "metadata": {},
           
           "source": []
          }
,
          {
           "cell_type": "code",
           "metadata": {},
            "execution_count": null, "outputs": [],
           "source": ["#r \"nuget: Plotly.NET, 2.0.0-preview.16\"\n",
"#r \"nuget: Plotly.NET.Interactive, 2.0.0-preview.16\"\n",
"#r \"nuget: FSharp.Stats\"\n"]
          }
,
          {
           "cell_type": "markdown",
           "metadata": {},
           
           "source": ["# Covariance\n",
"\n",
"[![Binder](https://mybinder.org/badge_logo.svg)](https://mybinder.org/v2/gh/fslaborg/FSharp.Stats/gh-pages?filepath=Covariance\n",
".ipynb)\n",
"\n",
"**Summary:** This tutorial explains how to investigate the covariance of two samples with FSharp.Stats\n",
"\n",
"Lets first define some sample data:\n",
"\n"]
          }
,
          {
           "cell_type": "code",
           "metadata": {},
            "execution_count": 3, "outputs": [],
           "source": ["open FSharp.Stats\n",
"\n",
"let rnd = System.Random()\n",
"let error() = rnd.Next(11)\n",
"\n",
"let sampleA = Vector.init 50 (fun x -\u003e float x)\n",
"let sampleB = Vector.init 50 (fun x -\u003e float (x + error()))\n",
"let sampleBHigh = sampleB |\u003e Vector.map (fun x -\u003e 200. + x)\n",
"let sampleC = Vector.init 50 (fun x -\u003e 100. - float (x + 3 * error()))\n",
"let sampleD = Vector.init 50 (fun x -\u003e 100. + float (10 * error()))\n",
"\n",
"\n",
"let sampleChart =\n",
"    [\n",
"        Chart.Point(sampleA,sampleB,\"AB\")\n",
"        Chart.Point(sampleA,sampleC,\"AC\")\n",
"        Chart.Point(sampleA,sampleD,\"AD\")  \n",
"        Chart.Point(sampleA,sampleBHigh,\"AB+\")   \n",
"    ]\n",
"    |\u003e Chart.combine\n",
"    |\u003e Chart.withAxisTitles \"x\" \"y\"\n",
"    |\u003e Chart.withTitle \"test cases for covariance calculation\"\n"]
          }
,
          {
           "cell_type": "markdown",
           "metadata": {},
           
           "source": ["The [covariance](https://en.wikipedia.org/wiki/Covariance) of two samples describes the relationship of both variables. If one variable\n",
"tends to be high if its pair is high also, the covariance is positive. If on variable is low while its pair is high\n",
"the covariance is negative. If there is no (monotone) relationship between both variables, the covariance is zero.\n",
"\n",
"A positive covariance indicates a positive slope of a regression line, while a negative covariance indicates a negative slope.\n",
"If the total population is given the covPopulation without Bessel\u0027s correction can be calculated.\n",
"\n",
"$\\operatorname{cov}(X, Y) = \\operatorname{E}{\\big[(X - \\operatorname{E}[X])(Y - \\operatorname{E}[Y])\\big]}$\n",
"\n",
"**Note: The amplitude of covariance does not correlate with the slope, neither it correlates with the spread of the data points from the regression line.**\n",
"\n",
"A standardized measure for how well the data lie on the regression line is given by correlation analysis. The pearson correlation coefficient\n",
"is defined as\n",
"\n",
"$\\rho_{X,Y}= \\frac{\\operatorname{cov}(X,Y)}{\\sigma_X \\sigma_Y}$\n",
"\n",
"**References:**\n",
"\n",
"* Fahrmeir L et al., Statistik - Der Weg zur Datenanalyse, 8. Auflage, doi 10.1007/978-3-662-50372-0\n",
"\n",
"`cov` and `covPopulation` are available as sequence (and other collections) extensions:\n",
"\n"]
          }
,
          {
           "cell_type": "code",
           "metadata": {},
            "execution_count": 4, "outputs": [],
           "source": ["let covAB     = Vector.cov sampleA sampleB\n",
"let covAC     = Vector.cov sampleA sampleC\n",
"let covAD     = Vector.cov sampleA sampleD\n",
"let covABHigh = Vector.cov sampleA sampleBHigh\n",
"\n",
"let covPopAB     = Vector.covPopulation sampleA sampleB\n",
"let covPopAC     = Vector.covPopulation sampleA sampleC\n",
"let covPopAD     = Vector.covPopulation sampleA sampleD\n",
"let covPopABHigh = Vector.covPopulation sampleA sampleBHigh\n",
"\n",
"open Correlation\n",
"let pearsonAB     = Seq.pearson sampleA sampleB\n",
"let pearsonAC     = Seq.pearson sampleA sampleC\n",
"let pearsonAD     = Seq.pearson sampleA sampleD\n",
"let pearsonABHigh = Seq.pearson sampleA sampleBHigh\n"]
          }
,
          {
           "cell_type": "code",
           "metadata": {},
            "execution_count": null, "outputs": [
          {
           "data": {
            "text/html": ["\u003cdiv id=\"caad6772-779c-4f9f-afbb-0b0ef905b127\"\u003e\u003c!-- Plotly chart will be drawn inside this DIV --\u003e\u003c/div\u003e",
"",
"\u003cscript type=\"text/javascript\"\u003e",
"",
"",
"",
"            var renderPlotly_caad6772779c4f9fafbb0b0ef905b127 = function() {",
"",
"            var fsharpPlotlyRequire = requirejs.config({context:\u0027fsharp-plotly\u0027,paths:{plotly:\u0027https://cdn.plot.ly/plotly-2.6.3.min\u0027}}) || require;",
"",
"            fsharpPlotlyRequire([\u0027plotly\u0027], function(Plotly) {",
"",
"",
"",
"            var data = [{\"type\":\"scatter\",\"name\":\"AB\",\"mode\":\"markers\",\"x\":[0.0,1.0,2.0,3.0,4.0,5.0,6.0,7.0,8.0,9.0,10.0,11.0,12.0,13.0,14.0,15.0,16.0,17.0,18.0,19.0,20.0,21.0,22.0,23.0,24.0,25.0,26.0,27.0,28.0,29.0,30.0,31.0,32.0,33.0,34.0,35.0,36.0,37.0,38.0,39.0,40.0,41.0,42.0,43.0,44.0,45.0,46.0,47.0,48.0,49.0],\"y\":[5.0,8.0,7.0,4.0,12.0,9.0,16.0,10.0,15.0,19.0,14.0,11.0,17.0,21.0,15.0,16.0,21.0,20.0,20.0,28.0,22.0,24.0,27.0,33.0,33.0,27.0,36.0,30.0,35.0,35.0,38.0,32.0,42.0,41.0,34.0,41.0,45.0,42.0,39.0,39.0,45.0,41.0,50.0,44.0,50.0,48.0,49.0,55.0,58.0,49.0],\"marker\":{},\"line\":{}},{\"type\":\"scatter\",\"name\":\"AC\",\"mode\":\"markers\",\"x\":[0.0,1.0,2.0,3.0,4.0,5.0,6.0,7.0,8.0,9.0,10.0,11.0,12.0,13.0,14.0,15.0,16.0,17.0,18.0,19.0,20.0,21.0,22.0,23.0,24.0,25.0,26.0,27.0,28.0,29.0,30.0,31.0,32.0,33.0,34.0,35.0,36.0,37.0,38.0,39.0,40.0,41.0,42.0,43.0,44.0,45.0,46.0,47.0,48.0,49.0],\"y\":[94.0,99.0,68.0,82.0,69.0,77.0,76.0,93.0,71.0,61.0,78.0,89.0,70.0,60.0,71.0,82.0,81.0,71.0,61.0,57.0,59.0,76.0,66.0,74.0,73.0,45.0,74.0,49.0,54.0,65.0,55.0,63.0,38.0,64.0,60.0,38.0,64.0,60.0,53.0,58.0,30.0,29.0,58.0,57.0,53.0,28.0,24.0,38.0,37.0,27.0],\"marker\":{},\"line\":{}},{\"type\":\"scatter\",\"name\":\"AD\",\"mode\":\"markers\",\"x\":[0.0,1.0,2.0,3.0,4.0,5.0,6.0,7.0,8.0,9.0,10.0,11.0,12.0,13.0,14.0,15.0,16.0,17.0,18.0,19.0,20.0,21.0,22.0,23.0,24.0,25.0,26.0,27.0,28.0,29.0,30.0,31.0,32.0,33.0,34.0,35.0,36.0,37.0,38.0,39.0,40.0,41.0,42.0,43.0,44.0,45.0,46.0,47.0,48.0,49.0],\"y\":[140.0,120.0,180.0,130.0,140.0,100.0,200.0,180.0,140.0,120.0,140.0,140.0,190.0,190.0,180.0,150.0,120.0,190.0,130.0,100.0,100.0,190.0,120.0,140.0,170.0,100.0,110.0,170.0,190.0,200.0,160.0,140.0,140.0,130.0,150.0,200.0,190.0,180.0,140.0,150.0,100.0,150.0,110.0,140.0,170.0,200.0,140.0,160.0,120.0,120.0],\"marker\":{},\"line\":{}},{\"type\":\"scatter\",\"name\":\"AB+\",\"mode\":\"markers\",\"x\":[0.0,1.0,2.0,3.0,4.0,5.0,6.0,7.0,8.0,9.0,10.0,11.0,12.0,13.0,14.0,15.0,16.0,17.0,18.0,19.0,20.0,21.0,22.0,23.0,24.0,25.0,26.0,27.0,28.0,29.0,30.0,31.0,32.0,33.0,34.0,35.0,36.0,37.0,38.0,39.0,40.0,41.0,42.0,43.0,44.0,45.0,46.0,47.0,48.0,49.0],\"y\":[205.0,208.0,207.0,204.0,212.0,209.0,216.0,210.0,215.0,219.0,214.0,211.0,217.0,221.0,215.0,216.0,221.0,220.0,220.0,228.0,222.0,224.0,227.0,233.0,233.0,227.0,236.0,230.0,235.0,235.0,238.0,232.0,242.0,241.0,234.0,241.0,245.0,242.0,239.0,239.0,245.0,241.0,250.0,244.0,250.0,248.0,249.0,255.0,258.0,249.0],\"marker\":{},\"line\":{}}];",
"",
"            var layout = {\"width\":600,\"height\":600,\"template\":{\"layout\":{\"paper_bgcolor\":\"white\",\"plot_bgcolor\":\"white\",\"xaxis\":{\"ticks\":\"inside\",\"mirror\":\"all\",\"showline\":true,\"zeroline\":true},\"yaxis\":{\"ticks\":\"inside\",\"mirror\":\"all\",\"showline\":true,\"zeroline\":true}},\"data\":{}},\"xaxis\":{\"title\":{\"text\":\"x\"},\"ticks\":\"inside\",\"mirror\":\"all\",\"showline\":true,\"showgrid\":false},\"yaxis\":{\"title\":{\"text\":\"y\"},\"ticks\":\"inside\",\"mirror\":\"all\",\"showline\":true,\"showgrid\":false},\"title\":{\"text\":\"test cases for covariance calculation\"}};",
"",
"            var config = {\"responsive\":true};",
"",
"            Plotly.newPlot(\u0027caad6772-779c-4f9f-afbb-0b0ef905b127\u0027, data, layout, config);",
"",
"});",
"",
"            };",
"",
"            if ((typeof(requirejs) !==  typeof(Function)) || (typeof(requirejs.config) !== typeof(Function))) {",
"",
"                var script = document.createElement(\"script\");",
"",
"                script.setAttribute(\"src\", \"https://cdnjs.cloudflare.com/ajax/libs/require.js/2.3.6/require.min.js\");",
"",
"                script.onload = function(){",
"",
"                    renderPlotly_caad6772779c4f9fafbb0b0ef905b127();",
"",
"                };",
"",
"                document.getElementsByTagName(\"head\")[0].appendChild(script);",
"",
"            }",
"",
"            else {",
"",
"                renderPlotly_caad6772779c4f9fafbb0b0ef905b127();",
"",
"            }",
"",
"\u003c/script\u003e",
"",
""]
        },
           "execution_count": null,
           "metadata": {},
           "output_type": "execute_result"
          },

          {
           "data": {
            "text/plain": ["\"Covariance of the presented four test cases",
"",
"AB (blue)   cov: 208.88    covPopulation: 204.70   pearson: 0.974",
"",
"AC (orange) cov: -211.7    covPopulation: -207.5   pearson: -0.80",
"",
"AD (green)  cov: 4.49    covPopulation: 4.40   pearson: 0.010",
"",
"AB+(red)    cov: 208.88    covPopulation: 204.70   pearson: 0.974\""]
        },
           "execution_count": null,
           "metadata": {},
           "output_type": "execute_result"
          }],
           "source": ["sampleChart\n"]
          }],
            "metadata": {
            "kernelspec": {"display_name": ".NET (F#)", "language": "F#", "name": ".net-fsharp"},
            "langauge_info": {
        "file_extension": ".fs",
        "mimetype": "text/x-fsharp",
        "name": "C#",
        "pygments_lexer": "fsharp",
        "version": "4.5"
        }
        },
            "nbformat": 4,
            "nbformat_minor": 1
        }
        

