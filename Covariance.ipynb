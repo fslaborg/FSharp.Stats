
        {
            "cells": [
          {
           "cell_type": "markdown",
           "metadata": {},
           
           "source": []
          }
,
          {
           "cell_type": "code",
           "metadata": {},
            "execution_count": null, "outputs": [],
           "source": ["#r \"nuget: Plotly.NET, 4.0.0\"\n",
"#r \"nuget: Plotly.NET.Interactive, 4.0.0\"\n",
"#r \"nuget: FSharp.Stats\"\n"]
          }
,
          {
           "cell_type": "markdown",
           "metadata": {},
           
           "source": ["# Covariance\n",
"\n",
"[![Binder](https://mybinder.org/badge_logo.svg)](https://mybinder.org/v2/gh/fslaborg/FSharp.Stats/gh-pages?urlpath=/tree/home/jovyan/Covariance\n",
".ipynb)\n",
"[![Notebook](https://fslab.org/FSharp.Stats/img/badge-notebook.svg)](https://fslab.org/FSharp.Stats/Covariance.ipynb)\n",
"\n",
"**Summary:** This tutorial explains how to investigate the covariance of two samples with FSharp.Stats\n",
"\n",
"Lets first define some sample data:\n",
"\n"]
          }
,
          {
           "cell_type": "code",
           "metadata": {},
            "execution_count": 3, "outputs": [],
           "source": ["open Plotly.NET\n",
"open FSharp.Stats\n",
"\n",
"let rnd = System.Random()\n",
"let error() = rnd.Next(11)\n",
"\n",
"let sampleA = Vector.init 50 (fun x -\u003e float x)\n",
"let sampleB = Vector.init 50 (fun x -\u003e float (x + error()))\n",
"let sampleBHigh = sampleB |\u003e Vector.map (fun x -\u003e 200. + x)\n",
"let sampleC = Vector.init 50 (fun x -\u003e 100. - float (x + 3 * error()))\n",
"let sampleD = Vector.init 50 (fun x -\u003e 100. + float (10 * error()))\n",
"\n",
"\n",
"let sampleChart =\n",
"    [\n",
"        Chart.Point(sampleA,sampleB,\"AB\")\n",
"        Chart.Point(sampleA,sampleC,\"AC\")\n",
"        Chart.Point(sampleA,sampleD,\"AD\")  \n",
"        Chart.Point(sampleA,sampleBHigh,\"AB+\")   \n",
"    ]\n",
"    |\u003e Chart.combine\n",
"    |\u003e Chart.withTemplate ChartTemplates.lightMirrored\n",
"    |\u003e Chart.withXAxisStyle \"x\"\n",
"    |\u003e Chart.withYAxisStyle \"y\"\n",
"    |\u003e Chart.withTitle \"test cases for covariance calculation\"\n"]
          }
,
          {
           "cell_type": "markdown",
           "metadata": {},
           
           "source": ["The [covariance](https://en.wikipedia.org/wiki/Covariance) of two samples describes the relationship of both variables. If one variable\n",
"tends to be high if its pair is high also, the covariance is positive. If on variable is low while its pair is high\n",
"the covariance is negative. If there is no (monotone) relationship between both variables, the covariance is zero.\n",
"\n",
"A positive covariance indicates a positive slope of a regression line, while a negative covariance indicates a negative slope.\n",
"If the total population is given the covPopulation without Bessel\u0027s correction can be calculated.\n",
"\n",
"$\\operatorname{cov}(X, Y) = \\operatorname{E}{\\big[(X - \\operatorname{E}[X])(Y - \\operatorname{E}[Y])\\big]}$\n",
"\n",
"**Note: The amplitude of covariance does not correlate with the slope, neither it correlates with the spread of the data points from the regression line.**\n",
"\n",
"A standardized measure for how well the data lie on the regression line is given by correlation analysis. The pearson correlation coefficient\n",
"is defined as\n",
"\n",
"$\\rho_{X,Y}= \\frac{\\operatorname{cov}(X,Y)}{\\sigma_X \\sigma_Y}$\n",
"\n",
"**References:**\n",
"\n",
"* Fahrmeir L et al., Statistik - Der Weg zur Datenanalyse, 8. Auflage, doi 10.1007/978-3-662-50372-0\n",
"\n",
"`cov` and `covPopulation` are available as sequence (and other collections) extensions:\n",
"\n"]
          }
,
          {
           "cell_type": "code",
           "metadata": {},
            "execution_count": 4, "outputs": [],
           "source": ["let covAB     = Vector.cov sampleA sampleB\n",
"let covAC     = Vector.cov sampleA sampleC\n",
"let covAD     = Vector.cov sampleA sampleD\n",
"let covABHigh = Vector.cov sampleA sampleBHigh\n",
"\n",
"let covPopAB     = Vector.covPopulation sampleA sampleB\n",
"let covPopAC     = Vector.covPopulation sampleA sampleC\n",
"let covPopAD     = Vector.covPopulation sampleA sampleD\n",
"let covPopABHigh = Vector.covPopulation sampleA sampleBHigh\n",
"\n",
"open Correlation\n",
"let pearsonAB     = Seq.pearson sampleA sampleB\n",
"let pearsonAC     = Seq.pearson sampleA sampleC\n",
"let pearsonAD     = Seq.pearson sampleA sampleD\n",
"let pearsonABHigh = Seq.pearson sampleA sampleBHigh\n"]
          }
,
          {
           "cell_type": "code",
           "metadata": {},
            "execution_count": null, "outputs": [
          {
           "data": {
            "text/html": ["\u003cdiv\u003e\u003cdiv id=\"e4a3bbc2-51f4-4102-8adb-41866489b6b2\"\u003e\u003c!-- Plotly chart will be drawn inside this DIV --\u003e\u003c/div\u003e\u003cscript type=\"text/javascript\"\u003evar renderPlotly_e4a3bbc251f441028adb41866489b6b2 = function() {",
"",
"    var data = [{\"type\":\"scatter\",\"name\":\"AB\",\"mode\":\"markers\",\"x\":[0.0,1.0,2.0,3.0,4.0,5.0,6.0,7.0,8.0,9.0,10.0,11.0,12.0,13.0,14.0,15.0,16.0,17.0,18.0,19.0,20.0,21.0,22.0,23.0,24.0,25.0,26.0,27.0,28.0,29.0,30.0,31.0,32.0,33.0,34.0,35.0,36.0,37.0,38.0,39.0,40.0,41.0,42.0,43.0,44.0,45.0,46.0,47.0,48.0,49.0],\"y\":[6.0,5.0,11.0,9.0,10.0,9.0,11.0,10.0,15.0,11.0,11.0,14.0,21.0,14.0,14.0,22.0,21.0,21.0,24.0,24.0,26.0,23.0,23.0,25.0,26.0,29.0,28.0,32.0,38.0,29.0,40.0,31.0,33.0,34.0,43.0,45.0,39.0,39.0,45.0,40.0,50.0,47.0,46.0,50.0,51.0,50.0,47.0,49.0,56.0,55.0],\"marker\":{},\"line\":{}},{\"type\":\"scatter\",\"name\":\"AC\",\"mode\":\"markers\",\"x\":[0.0,1.0,2.0,3.0,4.0,5.0,6.0,7.0,8.0,9.0,10.0,11.0,12.0,13.0,14.0,15.0,16.0,17.0,18.0,19.0,20.0,21.0,22.0,23.0,24.0,25.0,26.0,27.0,28.0,29.0,30.0,31.0,32.0,33.0,34.0,35.0,36.0,37.0,38.0,39.0,40.0,41.0,42.0,43.0,44.0,45.0,46.0,47.0,48.0,49.0],\"y\":[91.0,90.0,74.0,70.0,78.0,92.0,88.0,63.0,92.0,76.0,90.0,62.0,73.0,72.0,71.0,82.0,54.0,80.0,61.0,63.0,56.0,61.0,63.0,47.0,46.0,72.0,74.0,43.0,54.0,56.0,70.0,69.0,56.0,46.0,45.0,41.0,43.0,57.0,50.0,55.0,42.0,41.0,55.0,51.0,29.0,34.0,36.0,47.0,43.0,51.0],\"marker\":{},\"line\":{}},{\"type\":\"scatter\",\"name\":\"AD\",\"mode\":\"markers\",\"x\":[0.0,1.0,2.0,3.0,4.0,5.0,6.0,7.0,8.0,9.0,10.0,11.0,12.0,13.0,14.0,15.0,16.0,17.0,18.0,19.0,20.0,21.0,22.0,23.0,24.0,25.0,26.0,27.0,28.0,29.0,30.0,31.0,32.0,33.0,34.0,35.0,36.0,37.0,38.0,39.0,40.0,41.0,42.0,43.0,44.0,45.0,46.0,47.0,48.0,49.0],\"y\":[180.0,200.0,170.0,110.0,100.0,100.0,190.0,140.0,160.0,160.0,110.0,200.0,130.0,200.0,160.0,140.0,120.0,140.0,160.0,170.0,110.0,140.0,190.0,200.0,170.0,170.0,130.0,200.0,100.0,190.0,120.0,120.0,100.0,180.0,130.0,200.0,140.0,150.0,200.0,190.0,170.0,170.0,170.0,200.0,200.0,200.0,180.0,120.0,130.0,150.0],\"marker\":{},\"line\":{}},{\"type\":\"scatter\",\"name\":\"AB+\",\"mode\":\"markers\",\"x\":[0.0,1.0,2.0,3.0,4.0,5.0,6.0,7.0,8.0,9.0,10.0,11.0,12.0,13.0,14.0,15.0,16.0,17.0,18.0,19.0,20.0,21.0,22.0,23.0,24.0,25.0,26.0,27.0,28.0,29.0,30.0,31.0,32.0,33.0,34.0,35.0,36.0,37.0,38.0,39.0,40.0,41.0,42.0,43.0,44.0,45.0,46.0,47.0,48.0,49.0],\"y\":[206.0,205.0,211.0,209.0,210.0,209.0,211.0,210.0,215.0,211.0,211.0,214.0,221.0,214.0,214.0,222.0,221.0,221.0,224.0,224.0,226.0,223.0,223.0,225.0,226.0,229.0,228.0,232.0,238.0,229.0,240.0,231.0,233.0,234.0,243.0,245.0,239.0,239.0,245.0,240.0,250.0,247.0,246.0,250.0,251.0,250.0,247.0,249.0,256.0,255.0],\"marker\":{},\"line\":{}}];",
"",
"    var layout = {\"width\":600,\"height\":600,\"template\":{\"layout\":{\"paper_bgcolor\":\"white\",\"plot_bgcolor\":\"white\",\"xaxis\":{\"ticks\":\"inside\",\"mirror\":\"all\",\"showline\":true,\"zeroline\":true},\"yaxis\":{\"ticks\":\"inside\",\"mirror\":\"all\",\"showline\":true,\"zeroline\":true}},\"data\":{}},\"xaxis\":{\"title\":{\"text\":\"x\"}},\"yaxis\":{\"title\":{\"text\":\"y\"}},\"title\":{\"text\":\"test cases for covariance calculation\"}};",
"",
"    var config = {\"responsive\":true};",
"",
"    Plotly.newPlot(\u0027e4a3bbc2-51f4-4102-8adb-41866489b6b2\u0027, data, layout, config);",
"",
"};",
"",
"renderPlotly_e4a3bbc251f441028adb41866489b6b2();",
"",
"\u003c/script\u003e\u003c/div\u003e"]
        },
           "execution_count": null,
           "metadata": {},
           "output_type": "execute_result"
          },

          {
           "data": {
            "text/plain": ["\"Covariance of the presented four test cases",
"",
"AB (blue)   cov: 214.27    covPopulation: 209.98   pearson: 0.980",
"",
"AC (orange) cov: -199.9    covPopulation: -195.9   pearson: -0.82",
"",
"AD (green)  cov: 79.39    covPopulation: 77.80   pearson: 0.162",
"",
"AB+(red)    cov: 214.27    covPopulation: 209.98   pearson: 0.980\""]
        },
           "execution_count": null,
           "metadata": {},
           "output_type": "execute_result"
          }],
           "source": ["sampleChart\n"]
          }],
            "metadata": {
            "kernelspec": {"display_name": ".NET (F#)", "language": "F#", "name": ".net-fsharp"},
            "langauge_info": {
        "file_extension": ".fs",
        "mimetype": "text/x-fsharp",
        "name": "C#",
        "pygments_lexer": "fsharp",
        "version": "4.5"
        }
        },
            "nbformat": 4,
            "nbformat_minor": 1
        }
        

